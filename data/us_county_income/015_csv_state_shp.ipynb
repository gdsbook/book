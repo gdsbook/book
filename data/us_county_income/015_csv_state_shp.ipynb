{
 "cells": [
  {
   "cell_type": "code",
   "execution_count": 1,
   "metadata": {},
   "outputs": [],
   "source": [
    "import pandas\n",
    "import geopandas\n",
    "%matplotlib inline\n",
    "import glob"
   ]
  },
  {
   "cell_type": "markdown",
   "metadata": {},
   "source": [
    "## State Specific Data Frames"
   ]
  },
  {
   "cell_type": "code",
   "execution_count": 2,
   "metadata": {},
   "outputs": [
    {
     "data": {
      "text/plain": [
       "'00.csv'"
      ]
     },
     "execution_count": 2,
     "metadata": {},
     "output_type": "execute_result"
    }
   ],
   "source": [
    "gdf = geopandas.read_file(\"zip:tl_2019_us_county.zip!tl_2019_us_county.shp\")\n",
    "csv_files = glob.glob(\"??.csv\")\n",
    "csv_files.sort()\n",
    "csv_files.pop(0) # kick out US"
   ]
  },
  {
   "cell_type": "code",
   "execution_count": 3,
   "metadata": {},
   "outputs": [
    {
     "name": "stdout",
     "output_type": "stream",
     "text": [
      "51\n",
      "55\n"
     ]
    }
   ],
   "source": [
    "mismatch = []\n",
    "gdfs = []\n",
    "#for csv_file in csv_files[:1]:\n",
    "for csv_file in csv_files:\n",
    "\n",
    "    #print(csv_file)\n",
    "    csv = pandas.read_csv(csv_file)\n",
    "    st = csv_file[:2]\n",
    "    st_gdf = gdf[gdf.STATEFP==st]\n",
    "    csv = csv.iloc[3:] # kick out the state level records\n",
    "    nc, kc = csv.shape\n",
    "    if nc/3 != st_gdf.shape[0]:\n",
    "        mismatch.append(st)\n",
    "        print(st)\n",
    "    else:\n",
    "        csv['GeoFIPS'] = [fip.strip().replace(\"\\\"\", \"\") for fip in csv.GeoFIPS]\n",
    "        csv['GEOID'] = csv.GeoFIPS\n",
    "        merged_gdf = st_gdf.merge(csv, on='GEOID')\n",
    "        gdfs.append(merged_gdf)\n",
    "        "
   ]
  },
  {
   "cell_type": "code",
   "execution_count": 4,
   "metadata": {},
   "outputs": [
    {
     "data": {
      "text/plain": [
       "47"
      ]
     },
     "execution_count": 4,
     "metadata": {},
     "output_type": "execute_result"
    }
   ],
   "source": [
    "len(gdfs)"
   ]
  },
  {
   "cell_type": "code",
   "execution_count": 5,
   "metadata": {},
   "outputs": [],
   "source": [
    "gdf = pandas.concat(gdfs)"
   ]
  },
  {
   "cell_type": "code",
   "execution_count": 6,
   "metadata": {},
   "outputs": [
    {
     "data": {
      "text/plain": [
       "<matplotlib.axes._subplots.AxesSubplot at 0x7f9a3d2a5128>"
      ]
     },
     "execution_count": 6,
     "metadata": {},
     "output_type": "execute_result"
    },
    {
     "data": {
      "image/png": "[encoded data removed]",
      "text/plain": [
       "<Figure size 432x288 with 1 Axes>"
      ]
     },
     "metadata": {
      "needs_background": "light"
     },
     "output_type": "display_data"
    }
   ],
   "source": [
    "gdf.plot()"
   ]
  },
  {
   "cell_type": "code",
   "execution_count": 7,
   "metadata": {},
   "outputs": [
    {
     "data": {
      "text/plain": [
       "2903.0"
      ]
     },
     "execution_count": 7,
     "metadata": {},
     "output_type": "execute_result"
    }
   ],
   "source": [
    "gdf.shape[0]/3"
   ]
  },
  {
   "cell_type": "code",
   "execution_count": 8,
   "metadata": {},
   "outputs": [
    {
     "data": {
      "text/html": [
       "<div>\n",
       "<style scoped>\n",
       "    .dataframe tbody tr th:only-of-type {\n",
       "        vertical-align: middle;\n",
       "    }\n",
       "\n",
       "    .dataframe tbody tr th {\n",
       "        vertical-align: top;\n",
       "    }\n",
       "\n",
       "    .dataframe thead th {\n",
       "        text-align: right;\n",
       "    }\n",
       "</style>\n",
       "<table border=\"1\" class=\"dataframe\">\n",
       "  <thead>\n",
       "    <tr style=\"text-align: right;\">\n",
       "      <th></th>\n",
       "      <th>STATEFP</th>\n",
       "      <th>COUNTYFP</th>\n",
       "      <th>COUNTYNS</th>\n",
       "      <th>GEOID</th>\n",
       "      <th>NAME</th>\n",
       "      <th>NAMELSAD</th>\n",
       "      <th>LSAD</th>\n",
       "      <th>CLASSFP</th>\n",
       "      <th>MTFCC</th>\n",
       "      <th>CSAFP</th>\n",
       "      <th>...</th>\n",
       "      <th>2008</th>\n",
       "      <th>2009</th>\n",
       "      <th>2010</th>\n",
       "      <th>2011</th>\n",
       "      <th>2012</th>\n",
       "      <th>2013</th>\n",
       "      <th>2014</th>\n",
       "      <th>2015</th>\n",
       "      <th>2016</th>\n",
       "      <th>2017</th>\n",
       "    </tr>\n",
       "  </thead>\n",
       "  <tbody>\n",
       "    <tr>\n",
       "      <th>0</th>\n",
       "      <td>01</td>\n",
       "      <td>027</td>\n",
       "      <td>00161539</td>\n",
       "      <td>01027</td>\n",
       "      <td>Clay</td>\n",
       "      <td>Clay County</td>\n",
       "      <td>06</td>\n",
       "      <td>H1</td>\n",
       "      <td>G4020</td>\n",
       "      <td>None</td>\n",
       "      <td>...</td>\n",
       "      <td>399915</td>\n",
       "      <td>388053</td>\n",
       "      <td>387623</td>\n",
       "      <td>365655</td>\n",
       "      <td>367837</td>\n",
       "      <td>376622</td>\n",
       "      <td>395399</td>\n",
       "      <td>417058</td>\n",
       "      <td>419915</td>\n",
       "      <td>444182</td>\n",
       "    </tr>\n",
       "    <tr>\n",
       "      <th>1</th>\n",
       "      <td>01</td>\n",
       "      <td>027</td>\n",
       "      <td>00161539</td>\n",
       "      <td>01027</td>\n",
       "      <td>Clay</td>\n",
       "      <td>Clay County</td>\n",
       "      <td>06</td>\n",
       "      <td>H1</td>\n",
       "      <td>G4020</td>\n",
       "      <td>None</td>\n",
       "      <td>...</td>\n",
       "      <td>14161</td>\n",
       "      <td>14006</td>\n",
       "      <td>13900</td>\n",
       "      <td>13688</td>\n",
       "      <td>13434</td>\n",
       "      <td>13406</td>\n",
       "      <td>13440</td>\n",
       "      <td>13414</td>\n",
       "      <td>13410</td>\n",
       "      <td>13367</td>\n",
       "    </tr>\n",
       "    <tr>\n",
       "      <th>2</th>\n",
       "      <td>01</td>\n",
       "      <td>027</td>\n",
       "      <td>00161539</td>\n",
       "      <td>01027</td>\n",
       "      <td>Clay</td>\n",
       "      <td>Clay County</td>\n",
       "      <td>06</td>\n",
       "      <td>H1</td>\n",
       "      <td>G4020</td>\n",
       "      <td>None</td>\n",
       "      <td>...</td>\n",
       "      <td>28241</td>\n",
       "      <td>27706</td>\n",
       "      <td>27887</td>\n",
       "      <td>26714</td>\n",
       "      <td>27381</td>\n",
       "      <td>28094</td>\n",
       "      <td>29420</td>\n",
       "      <td>31091</td>\n",
       "      <td>31314</td>\n",
       "      <td>33230</td>\n",
       "    </tr>\n",
       "    <tr>\n",
       "      <th>3</th>\n",
       "      <td>01</td>\n",
       "      <td>091</td>\n",
       "      <td>00161572</td>\n",
       "      <td>01091</td>\n",
       "      <td>Marengo</td>\n",
       "      <td>Marengo County</td>\n",
       "      <td>06</td>\n",
       "      <td>H1</td>\n",
       "      <td>G4020</td>\n",
       "      <td>None</td>\n",
       "      <td>...</td>\n",
       "      <td>631357</td>\n",
       "      <td>618986</td>\n",
       "      <td>643067</td>\n",
       "      <td>658510</td>\n",
       "      <td>672442</td>\n",
       "      <td>682230</td>\n",
       "      <td>703891</td>\n",
       "      <td>713222</td>\n",
       "      <td>717118</td>\n",
       "      <td>737908</td>\n",
       "    </tr>\n",
       "    <tr>\n",
       "      <th>4</th>\n",
       "      <td>01</td>\n",
       "      <td>091</td>\n",
       "      <td>00161572</td>\n",
       "      <td>01091</td>\n",
       "      <td>Marengo</td>\n",
       "      <td>Marengo County</td>\n",
       "      <td>06</td>\n",
       "      <td>H1</td>\n",
       "      <td>G4020</td>\n",
       "      <td>None</td>\n",
       "      <td>...</td>\n",
       "      <td>21331</td>\n",
       "      <td>21170</td>\n",
       "      <td>20944</td>\n",
       "      <td>20649</td>\n",
       "      <td>20360</td>\n",
       "      <td>20105</td>\n",
       "      <td>19975</td>\n",
       "      <td>19757</td>\n",
       "      <td>19505</td>\n",
       "      <td>19375</td>\n",
       "    </tr>\n",
       "  </tbody>\n",
       "</table>\n",
       "<p>5 rows × 76 columns</p>\n",
       "</div>"
      ],
      "text/plain": [
       "  STATEFP COUNTYFP  COUNTYNS  GEOID     NAME        NAMELSAD LSAD CLASSFP  \\\n",
       "0      01      027  00161539  01027     Clay     Clay County   06      H1   \n",
       "1      01      027  00161539  01027     Clay     Clay County   06      H1   \n",
       "2      01      027  00161539  01027     Clay     Clay County   06      H1   \n",
       "3      01      091  00161572  01091  Marengo  Marengo County   06      H1   \n",
       "4      01      091  00161572  01091  Marengo  Marengo County   06      H1   \n",
       "\n",
       "   MTFCC CSAFP  ...    2008    2009    2010    2011    2012    2013    2014  \\\n",
       "0  G4020  None  ...  399915  388053  387623  365655  367837  376622  395399   \n",
       "1  G4020  None  ...   14161   14006   13900   13688   13434   13406   13440   \n",
       "2  G4020  None  ...   28241   27706   27887   26714   27381   28094   29420   \n",
       "3  G4020  None  ...  631357  618986  643067  658510  672442  682230  703891   \n",
       "4  G4020  None  ...   21331   21170   20944   20649   20360   20105   19975   \n",
       "\n",
       "     2015    2016    2017  \n",
       "0  417058  419915  444182  \n",
       "1   13414   13410   13367  \n",
       "2   31091   31314   33230  \n",
       "3  713222  717118  737908  \n",
       "4   19757   19505   19375  \n",
       "\n",
       "[5 rows x 76 columns]"
      ]
     },
     "execution_count": 8,
     "metadata": {},
     "output_type": "execute_result"
    }
   ],
   "source": [
    "gdf.head()"
   ]
  },
  {
   "cell_type": "code",
   "execution_count": 9,
   "metadata": {},
   "outputs": [
    {
     "data": {
      "text/plain": [
       "Index(['STATEFP', 'COUNTYFP', 'COUNTYNS', 'GEOID', 'NAME', 'NAMELSAD', 'LSAD',\n",
       "       'CLASSFP', 'MTFCC', 'CSAFP', 'CBSAFP', 'METDIVFP', 'FUNCSTAT', 'ALAND',\n",
       "       'AWATER', 'INTPTLAT', 'INTPTLON', 'geometry', 'Unnamed: 0', 'GeoFIPS',\n",
       "       'GeoName', 'Region', 'TableName', 'LineCode', 'IndustryClassification',\n",
       "       'Description', 'Unit', '1969', '1970', '1971', '1972', '1973', '1974',\n",
       "       '1975', '1976', '1977', '1978', '1979', '1980', '1981', '1982', '1983',\n",
       "       '1984', '1985', '1986', '1987', '1988', '1989', '1990', '1991', '1992',\n",
       "       '1993', '1994', '1995', '1996', '1997', '1998', '1999', '2000', '2001',\n",
       "       '2002', '2003', '2004', '2005', '2006', '2007', '2008', '2009', '2010',\n",
       "       '2011', '2012', '2013', '2014', '2015', '2016', '2017'],\n",
       "      dtype='object')"
      ]
     },
     "execution_count": 9,
     "metadata": {},
     "output_type": "execute_result"
    }
   ],
   "source": [
    "gdf.columns"
   ]
  },
  {
   "cell_type": "code",
   "execution_count": 10,
   "metadata": {},
   "outputs": [],
   "source": [
    "years = [str(year) for year in range(1969,2018)]\n",
    "dtypes = list(zip(years,[gdf[year].dtype for year in years]))\n"
   ]
  },
  {
   "cell_type": "code",
   "execution_count": 11,
   "metadata": {},
   "outputs": [
    {
     "data": {
      "text/plain": [
       "[('1969', dtype('O')),\n",
       " ('1970', dtype('O')),\n",
       " ('1971', dtype('O')),\n",
       " ('1972', dtype('O')),\n",
       " ('1973', dtype('O')),\n",
       " ('1974', dtype('O')),\n",
       " ('1975', dtype('O')),\n",
       " ('1976', dtype('O')),\n",
       " ('1977', dtype('O')),\n",
       " ('1978', dtype('O')),\n",
       " ('1979', dtype('O')),\n",
       " ('1980', dtype('O')),\n",
       " ('1981', dtype('O')),\n",
       " ('1982', dtype('O')),\n",
       " ('1983', dtype('O')),\n",
       " ('1984', dtype('O')),\n",
       " ('1985', dtype('O')),\n",
       " ('1986', dtype('O')),\n",
       " ('1987', dtype('O')),\n",
       " ('1988', dtype('O')),\n",
       " ('1989', dtype('O')),\n",
       " ('1990', dtype('O')),\n",
       " ('1991', dtype('O')),\n",
       " ('1992', dtype('O')),\n",
       " ('1993', dtype('O')),\n",
       " ('1994', dtype('O')),\n",
       " ('1995', dtype('O')),\n",
       " ('1996', dtype('O')),\n",
       " ('1997', dtype('O')),\n",
       " ('1998', dtype('O')),\n",
       " ('1999', dtype('O')),\n",
       " ('2000', dtype('O')),\n",
       " ('2001', dtype('O')),\n",
       " ('2002', dtype('int64')),\n",
       " ('2003', dtype('int64')),\n",
       " ('2004', dtype('int64')),\n",
       " ('2005', dtype('int64')),\n",
       " ('2006', dtype('int64')),\n",
       " ('2007', dtype('int64')),\n",
       " ('2008', dtype('int64')),\n",
       " ('2009', dtype('int64')),\n",
       " ('2010', dtype('int64')),\n",
       " ('2011', dtype('int64')),\n",
       " ('2012', dtype('int64')),\n",
       " ('2013', dtype('int64')),\n",
       " ('2014', dtype('int64')),\n",
       " ('2015', dtype('int64')),\n",
       " ('2016', dtype('int64')),\n",
       " ('2017', dtype('int64'))]"
      ]
     },
     "execution_count": 11,
     "metadata": {},
     "output_type": "execute_result"
    }
   ],
   "source": [
    "dtypes"
   ]
  },
  {
   "cell_type": "markdown",
   "metadata": {},
   "source": [
    "## Issues\n",
    "\n",
    "1. Virginia\n",
    "2. Wisconsin\n",
    "3. Object data types for 1969-2001"
   ]
  },
  {
   "cell_type": "code",
   "execution_count": 12,
   "metadata": {},
   "outputs": [],
   "source": [
    "gdf.to_file('pcincome0.shp')"
   ]
  },
  {
   "cell_type": "code",
   "execution_count": null,
   "metadata": {},
   "outputs": [],
   "source": []
  }
 ],
 "metadata": {
  "kernelspec": {
   "display_name": "Python 3",
   "language": "python",
   "name": "python3"
  },
  "language_info": {
   "codemirror_mode": {
    "name": "ipython",
    "version": 3
   },
   "file_extension": ".py",
   "mimetype": "text/x-python",
   "name": "python",
   "nbconvert_exporter": "python",
   "pygments_lexer": "ipython3",
   "version": "3.7.3"
  }
 },
 "nbformat": 4,
 "nbformat_minor": 4
}
