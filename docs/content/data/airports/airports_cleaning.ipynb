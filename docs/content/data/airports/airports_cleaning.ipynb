{
 "cells": [
  {
   "cell_type": "markdown",
   "metadata": {},
   "source": [
    "# Airports Dataset Processing"
   ]
  },
  {
   "cell_type": "code",
   "execution_count": 1,
   "metadata": {},
   "outputs": [
    {
     "data": {
      "text/markdown": [
       "# Airports data\n",
       "\n",
       "This dataset contains locations of airports around the world.\n",
       "\n",
       "- `Source`: Natural Earth\n",
       "- `URL`\n",
       "\n",
       "> [https://www.naturalearthdata.com/downloads/10m-cultural-vectors/airports/](https://www.naturalearthdata.com/downloads/10m-cultural-vectors/airports/)\n",
       "\n",
       "- `Processing`: transformations documented in `airports_cleaning.ipynb`\n",
       "    - Clean file: `airports_clean.geojson`\n"
      ]
     },
     "metadata": {},
     "output_type": "display_data"
    }
   ],
   "source": [
    "from IPython.display import display_markdown\n",
    "\n",
    "display_markdown(open(\"README.md\").read(), raw=True)"
   ]
  },
  {
   "cell_type": "code",
   "execution_count": 1,
   "metadata": {},
   "outputs": [],
   "source": [
    "%matplotlib inline\n",
    "\n",
    "import requests\n",
    "import geopandas\n",
    "import matplotlib.pyplot as plt"
   ]
  },
  {
   "cell_type": "code",
   "execution_count": 2,
   "metadata": {},
   "outputs": [
    {
     "data": {
      "text/plain": [
       "'https://www.naturalearthdata.com/http//www.naturalearthdata.com/download/10m/cultural/ne_10m_airports.zip'"
      ]
     },
     "execution_count": 2,
     "metadata": {},
     "output_type": "execute_result"
    }
   ],
   "source": [
    "source_url = (\"https://www.naturalearthdata.com/\"\\\n",
    "              \"http//www.naturalearthdata.com/\"\\\n",
    "              \"download/10m/cultural/ne_10m_airports.zip\"\n",
    "             )\n",
    "source_url"
   ]
  },
  {
   "cell_type": "code",
   "execution_count": 3,
   "metadata": {},
   "outputs": [
    {
     "data": {
      "text/html": [
       "<div>\n",
       "<style scoped>\n",
       "    .dataframe tbody tr th:only-of-type {\n",
       "        vertical-align: middle;\n",
       "    }\n",
       "\n",
       "    .dataframe tbody tr th {\n",
       "        vertical-align: top;\n",
       "    }\n",
       "\n",
       "    .dataframe thead th {\n",
       "        text-align: right;\n",
       "    }\n",
       "</style>\n",
       "<table border=\"1\" class=\"dataframe\">\n",
       "  <thead>\n",
       "    <tr style=\"text-align: right;\">\n",
       "      <th></th>\n",
       "      <th>scalerank</th>\n",
       "      <th>featurecla</th>\n",
       "      <th>type</th>\n",
       "      <th>name</th>\n",
       "      <th>abbrev</th>\n",
       "      <th>location</th>\n",
       "      <th>gps_code</th>\n",
       "      <th>iata_code</th>\n",
       "      <th>wikipedia</th>\n",
       "      <th>natlscale</th>\n",
       "      <th>...</th>\n",
       "      <th>name_pl</th>\n",
       "      <th>name_pt</th>\n",
       "      <th>name_ru</th>\n",
       "      <th>name_sv</th>\n",
       "      <th>name_tr</th>\n",
       "      <th>name_vi</th>\n",
       "      <th>name_zh</th>\n",
       "      <th>wdid_score</th>\n",
       "      <th>ne_id</th>\n",
       "      <th>geometry</th>\n",
       "    </tr>\n",
       "  </thead>\n",
       "  <tbody>\n",
       "    <tr>\n",
       "      <th>0</th>\n",
       "      <td>9</td>\n",
       "      <td>Airport</td>\n",
       "      <td>small</td>\n",
       "      <td>Sahnewal</td>\n",
       "      <td>LUH</td>\n",
       "      <td>terminal</td>\n",
       "      <td>VILD</td>\n",
       "      <td>LUH</td>\n",
       "      <td>http://en.wikipedia.org/wiki/Sahnewal_Airport</td>\n",
       "      <td>8.0</td>\n",
       "      <td>...</td>\n",
       "      <td>None</td>\n",
       "      <td>None</td>\n",
       "      <td>None</td>\n",
       "      <td>Ludhiana Airport</td>\n",
       "      <td>None</td>\n",
       "      <td>None</td>\n",
       "      <td>None</td>\n",
       "      <td>4</td>\n",
       "      <td>1159113785</td>\n",
       "      <td>POINT (75.95707 30.85036)</td>\n",
       "    </tr>\n",
       "    <tr>\n",
       "      <th>1</th>\n",
       "      <td>9</td>\n",
       "      <td>Airport</td>\n",
       "      <td>mid</td>\n",
       "      <td>Solapur</td>\n",
       "      <td>SSE</td>\n",
       "      <td>terminal</td>\n",
       "      <td>VASL</td>\n",
       "      <td>SSE</td>\n",
       "      <td>http://en.wikipedia.org/wiki/Solapur_Airport</td>\n",
       "      <td>8.0</td>\n",
       "      <td>...</td>\n",
       "      <td>None</td>\n",
       "      <td>None</td>\n",
       "      <td>None</td>\n",
       "      <td>None</td>\n",
       "      <td>None</td>\n",
       "      <td>None</td>\n",
       "      <td>None</td>\n",
       "      <td>4</td>\n",
       "      <td>1159113803</td>\n",
       "      <td>POINT (75.93306 17.62542)</td>\n",
       "    </tr>\n",
       "    <tr>\n",
       "      <th>2</th>\n",
       "      <td>9</td>\n",
       "      <td>Airport</td>\n",
       "      <td>mid</td>\n",
       "      <td>Birsa Munda</td>\n",
       "      <td>IXR</td>\n",
       "      <td>terminal</td>\n",
       "      <td>VERC</td>\n",
       "      <td>IXR</td>\n",
       "      <td>http://en.wikipedia.org/wiki/Birsa_Munda_Airport</td>\n",
       "      <td>8.0</td>\n",
       "      <td>...</td>\n",
       "      <td>Port lotniczy Ranchi</td>\n",
       "      <td>None</td>\n",
       "      <td>None</td>\n",
       "      <td>M. O. Ranchi</td>\n",
       "      <td>None</td>\n",
       "      <td>Sân bay Birsa Munda</td>\n",
       "      <td>蘭契</td>\n",
       "      <td>4</td>\n",
       "      <td>1159113831</td>\n",
       "      <td>POINT (85.32360 23.31772)</td>\n",
       "    </tr>\n",
       "    <tr>\n",
       "      <th>3</th>\n",
       "      <td>9</td>\n",
       "      <td>Airport</td>\n",
       "      <td>mid</td>\n",
       "      <td>Ahwaz</td>\n",
       "      <td>AWZ</td>\n",
       "      <td>terminal</td>\n",
       "      <td>OIAW</td>\n",
       "      <td>AWZ</td>\n",
       "      <td>http://en.wikipedia.org/wiki/Ahwaz_Airport</td>\n",
       "      <td>8.0</td>\n",
       "      <td>...</td>\n",
       "      <td>Port lotniczy Ahwaz</td>\n",
       "      <td>None</td>\n",
       "      <td>None</td>\n",
       "      <td>Ahwaz International Airport</td>\n",
       "      <td>Ahvaz Havalimanı</td>\n",
       "      <td>Sân bay Ahvaz</td>\n",
       "      <td>阿瓦士</td>\n",
       "      <td>4</td>\n",
       "      <td>1159113845</td>\n",
       "      <td>POINT (48.74711 31.34316)</td>\n",
       "    </tr>\n",
       "    <tr>\n",
       "      <th>4</th>\n",
       "      <td>9</td>\n",
       "      <td>Airport</td>\n",
       "      <td>mid and military</td>\n",
       "      <td>Gwalior</td>\n",
       "      <td>GWL</td>\n",
       "      <td>terminal</td>\n",
       "      <td>VIGR</td>\n",
       "      <td>GWL</td>\n",
       "      <td>http://en.wikipedia.org/wiki/Gwalior_Airport</td>\n",
       "      <td>8.0</td>\n",
       "      <td>...</td>\n",
       "      <td>Port lotniczy Gwalior</td>\n",
       "      <td>None</td>\n",
       "      <td>None</td>\n",
       "      <td>Gwalior Airport</td>\n",
       "      <td>None</td>\n",
       "      <td>Sân bay Gwalior</td>\n",
       "      <td>瓜廖爾</td>\n",
       "      <td>4</td>\n",
       "      <td>1159113863</td>\n",
       "      <td>POINT (78.21722 26.28549)</td>\n",
       "    </tr>\n",
       "  </tbody>\n",
       "</table>\n",
       "<p>5 rows × 36 columns</p>\n",
       "</div>"
      ],
      "text/plain": [
       "   scalerank featurecla              type         name abbrev  location  \\\n",
       "0          9    Airport             small     Sahnewal    LUH  terminal   \n",
       "1          9    Airport               mid      Solapur    SSE  terminal   \n",
       "2          9    Airport               mid  Birsa Munda    IXR  terminal   \n",
       "3          9    Airport               mid        Ahwaz    AWZ  terminal   \n",
       "4          9    Airport  mid and military      Gwalior    GWL  terminal   \n",
       "\n",
       "  gps_code iata_code                                         wikipedia  \\\n",
       "0     VILD       LUH     http://en.wikipedia.org/wiki/Sahnewal_Airport   \n",
       "1     VASL       SSE      http://en.wikipedia.org/wiki/Solapur_Airport   \n",
       "2     VERC       IXR  http://en.wikipedia.org/wiki/Birsa_Munda_Airport   \n",
       "3     OIAW       AWZ        http://en.wikipedia.org/wiki/Ahwaz_Airport   \n",
       "4     VIGR       GWL      http://en.wikipedia.org/wiki/Gwalior_Airport   \n",
       "\n",
       "   natlscale  ...                name_pl name_pt name_ru  \\\n",
       "0        8.0  ...                   None    None    None   \n",
       "1        8.0  ...                   None    None    None   \n",
       "2        8.0  ...   Port lotniczy Ranchi    None    None   \n",
       "3        8.0  ...    Port lotniczy Ahwaz    None    None   \n",
       "4        8.0  ...  Port lotniczy Gwalior    None    None   \n",
       "\n",
       "                       name_sv           name_tr              name_vi name_zh  \\\n",
       "0             Ludhiana Airport              None                 None    None   \n",
       "1                         None              None                 None    None   \n",
       "2                 M. O. Ranchi              None  Sân bay Birsa Munda      蘭契   \n",
       "3  Ahwaz International Airport  Ahvaz Havalimanı        Sân bay Ahvaz     阿瓦士   \n",
       "4              Gwalior Airport              None      Sân bay Gwalior     瓜廖爾   \n",
       "\n",
       "  wdid_score       ne_id                   geometry  \n",
       "0          4  1159113785  POINT (75.95707 30.85036)  \n",
       "1          4  1159113803  POINT (75.93306 17.62542)  \n",
       "2          4  1159113831  POINT (85.32360 23.31772)  \n",
       "3          4  1159113845  POINT (48.74711 31.34316)  \n",
       "4          4  1159113863  POINT (78.21722 26.28549)  \n",
       "\n",
       "[5 rows x 36 columns]"
      ]
     },
     "execution_count": 3,
     "metadata": {},
     "output_type": "execute_result"
    }
   ],
   "source": [
    "air = geopandas.read_file(source_url)\n",
    "air.head()"
   ]
  },
  {
   "cell_type": "markdown",
   "metadata": {},
   "source": [
    "- Project airports to Web Mercator"
   ]
  },
  {
   "cell_type": "code",
   "execution_count": 4,
   "metadata": {},
   "outputs": [],
   "source": [
    "air = air.to_crs(epsg=3857)"
   ]
  },
  {
   "cell_type": "markdown",
   "metadata": {},
   "source": [
    "- Extract XY coordinates from a point `GeoDataFrame`"
   ]
  },
  {
   "cell_type": "code",
   "execution_count": 5,
   "metadata": {},
   "outputs": [],
   "source": [
    "air[\"x\"] = air.geometry.x\n",
    "air[\"y\"] = air.geometry.y"
   ]
  },
  {
   "cell_type": "code",
   "execution_count": 6,
   "metadata": {},
   "outputs": [
    {
     "data": {
      "text/plain": [
       "<matplotlib.collections.PathCollection at 0x7f093e8fae90>"
      ]
     },
     "execution_count": 6,
     "metadata": {},
     "output_type": "execute_result"
    },
    {
     "data": {
      "image/png": "[encoded data removed]",
      "text/plain": [
       "<Figure size 432x288 with 1 Axes>"
      ]
     },
     "metadata": {
      "needs_background": "light"
     },
     "output_type": "display_data"
    }
   ],
   "source": [
    "plt.scatter(air[\"x\"], air[\"y\"])"
   ]
  },
  {
   "cell_type": "code",
   "execution_count": 7,
   "metadata": {},
   "outputs": [],
   "source": [
    "air.to_file('airports_clean.geojson', driver='GeoJSON')"
   ]
  },
  {
   "cell_type": "markdown",
   "metadata": {},
   "source": [
    "---\n",
    "\n",
    "[[Download the `airports_clean.geojson` file]](airports_clean.geojson)"
   ]
  }
 ],
 "metadata": {
  "kernelspec": {
   "display_name": "Python 3",
   "language": "python",
   "name": "python3"
  },
  "language_info": {
   "codemirror_mode": {
    "name": "ipython",
    "version": 3
   },
   "file_extension": ".py",
   "mimetype": "text/x-python",
   "name": "python",
   "nbconvert_exporter": "python",
   "pygments_lexer": "ipython3",
   "version": "3.7.6"
  }
 },
 "nbformat": 4,
 "nbformat_minor": 4
}
