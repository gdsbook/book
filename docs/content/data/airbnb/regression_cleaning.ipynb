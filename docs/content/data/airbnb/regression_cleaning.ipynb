{
 "cells": [
  {
   "cell_type": "markdown",
   "metadata": {},
   "source": [
    "# Data cleaning of AirBnb"
   ]
  },
  {
   "cell_type": "code",
   "execution_count": 1,
   "metadata": {},
   "outputs": [
    {
     "data": {
      "text/markdown": [
       "# AirBnb data\n",
       "\n",
       "This dataset is based on the 2016-07-07 San Diego extract from Inside Airbnb. The original set includes AirBnb property listings with characteristics and price, and this is extended to additional variables based on each property's location.\n",
       "\n",
       "- `Source`: Inside AirBnb\n",
       "- `URL`\n",
       "\n",
       "> [http://insideairbnb.com/](http://insideairbnb.com/)\n",
       "\n",
       "- `Processing`: download of the original files and addition of new variables is documented in `regression_cleaning.ipynb`\n",
       "    - Clean file: `regression_db.geojson`\n"
      ]
     },
     "metadata": {},
     "output_type": "display_data"
    }
   ],
   "source": [
    "from IPython.display import display_markdown\n",
    "\n",
    "display_markdown(open(\"README.md\").read(), raw=True)"
   ]
  },
  {
   "cell_type": "code",
   "execution_count": 2,
   "metadata": {},
   "outputs": [],
   "source": [
    "%matplotlib inline\n",
    "\n",
    "import requests\n",
    "import pandas as pd\n",
    "import geopandas as gpd\n",
    "#import googlemaps\n",
    "from scipy.spatial.distance import cdist"
   ]
  },
  {
   "cell_type": "markdown",
   "metadata": {},
   "source": [
    "## Download files"
   ]
  },
  {
   "cell_type": "markdown",
   "metadata": {},
   "source": [
    "* Download detailed listings file:"
   ]
  },
  {
   "cell_type": "code",
   "execution_count": 3,
   "metadata": {},
   "outputs": [],
   "source": [
    "url = 'http://data.insideairbnb.com/united-states/'\\\n",
    "      'ca/san-diego/2016-07-07/data/'\\\n",
    "      'listings.csv.gz'\n",
    "r = requests.get(url)\n",
    "with open('listings.csv.gz', 'wb') as fo:\n",
    "    fo.write(r.content)"
   ]
  },
  {
   "cell_type": "markdown",
   "metadata": {},
   "source": [
    "* Download calendar file with prices"
   ]
  },
  {
   "cell_type": "code",
   "execution_count": 4,
   "metadata": {},
   "outputs": [],
   "source": [
    "url = 'http://data.insideairbnb.com/united-states/'\\\n",
    "      'ca/san-diego/2016-07-07/data/'\\\n",
    "      'calendar.csv.gz'\n",
    "r = requests.get(url)\n",
    "with open('calendar.csv.gz', 'wb') as fo:\n",
    "    fo.write(r.content)"
   ]
  },
  {
   "cell_type": "markdown",
   "metadata": {},
   "source": [
    "* Download neighborhoods"
   ]
  },
  {
   "cell_type": "code",
   "execution_count": 5,
   "metadata": {},
   "outputs": [],
   "source": [
    "url = 'http://data.insideairbnb.com/united-states/'\\\n",
    "      'ca/san-diego/2016-07-07/visualisations/'\\\n",
    "      'neighbourhoods.geojson'\n",
    "r = requests.get(url)\n",
    "with open('neighbourhoods.geojson', 'wb') as fo:\n",
    "    fo.write(r.content)"
   ]
  },
  {
   "cell_type": "markdown",
   "metadata": {},
   "source": [
    "## Variable setup"
   ]
  },
  {
   "cell_type": "markdown",
   "metadata": {},
   "source": [
    "### Parse price"
   ]
  },
  {
   "cell_type": "code",
   "execution_count": 6,
   "metadata": {},
   "outputs": [],
   "source": [
    "lst = pd.read_csv('listings.csv.gz')\n",
    "lst['priceN'] = lst['price'].apply(\n",
    "                    lambda x: float(str(x)\\\n",
    "                                    .replace(',', '')\\\n",
    "                                    .strip('$')))\n",
    "lst['l_price'] = pd.np.log(lst['priceN'])"
   ]
  },
  {
   "cell_type": "markdown",
   "metadata": {},
   "source": [
    "### `GeoDataFrame`"
   ]
  },
  {
   "cell_type": "code",
   "execution_count": 7,
   "metadata": {},
   "outputs": [],
   "source": [
    "from shapely.geometry import Point\n",
    "xys = lst[['longitude', 'latitude']]\\\n",
    "        .apply(lambda row: Point(*row), axis=1)\n",
    "gdb = gpd.GeoDataFrame(lst.assign(geometry=xys),\n",
    "                       crs=\"+init=epsg:4326\")"
   ]
  },
  {
   "cell_type": "markdown",
   "metadata": {},
   "source": [
    "### Variables"
   ]
  },
  {
   "cell_type": "markdown",
   "metadata": {},
   "source": [
    "* Pool"
   ]
  },
  {
   "cell_type": "code",
   "execution_count": 8,
   "metadata": {},
   "outputs": [
    {
     "data": {
      "text/plain": [
       "{'',\n",
       " '\"24-Hour Check-in\"',\n",
       " '\"Air Conditioning\"',\n",
       " '\"Buzzer/Wireless Intercom\"',\n",
       " '\"Cable TV\"',\n",
       " '\"Carbon Monoxide Detector\"',\n",
       " '\"Elevator in Building\"',\n",
       " '\"Family/Kid Friendly\"',\n",
       " '\"Fire Extinguisher\"',\n",
       " '\"First Aid Kit\"',\n",
       " '\"Free Parking on Premises\"',\n",
       " '\"Hair Dryer\"',\n",
       " '\"Hot Tub\"',\n",
       " '\"Indoor Fireplace\"',\n",
       " '\"Laptop Friendly Workspace\"',\n",
       " '\"Lock on Bedroom Door\"',\n",
       " '\"Other pet(s)\"',\n",
       " '\"Pets Allowed\"',\n",
       " '\"Pets live on this property\"',\n",
       " '\"Safety Card\"',\n",
       " '\"Smoke Detector\"',\n",
       " '\"Smoking Allowed\"',\n",
       " '\"Suitable for Events\"',\n",
       " '\"Wheelchair Accessible\"',\n",
       " '\"Wireless Internet\"',\n",
       " '\"translation missing: en.hosting_amenity_49\"',\n",
       " '\"translation missing: en.hosting_amenity_50\"',\n",
       " 'Breakfast',\n",
       " 'Cat(s)',\n",
       " 'Dog(s)',\n",
       " 'Doorman',\n",
       " 'Dryer',\n",
       " 'Essentials',\n",
       " 'Gym',\n",
       " 'Hangers',\n",
       " 'Heating',\n",
       " 'Internet',\n",
       " 'Iron',\n",
       " 'Kitchen',\n",
       " 'Pool',\n",
       " 'Shampoo',\n",
       " 'TV',\n",
       " 'Washer'}"
      ]
     },
     "execution_count": 8,
     "metadata": {},
     "output_type": "execute_result"
    }
   ],
   "source": [
    "ams = []\n",
    "gdb['pool'] = 0\n",
    "for i in range(gdb.shape[0]):\n",
    "    r = gdb.loc[i, 'amenities']\n",
    "    pcs = r.strip('{').strip('}').split(',')\n",
    "    ams.extend(pcs)\n",
    "    if 'Pool' in pcs:\n",
    "        gdb.loc[i, 'pool'] = 1\n",
    "set(ams)"
   ]
  },
  {
   "cell_type": "markdown",
   "metadata": {},
   "source": [
    "* Distance to Balboa park\n",
    "\n",
    "<iframe width=\"425\" height=\"350\" frameborder=\"0\" scrolling=\"no\" marginheight=\"0\" marginwidth=\"0\" src=\"http://www.openstreetmap.org/export/embed.html?bbox=-117.16953277587892%2C32.63070127641626%2C-117.12335586547853%2C32.82983681046287&amp;layer=mapnik&amp;marker=32.73030211394726%2C-117.14649954999999\" style=\"border: 1px solid black\"></iframe><br/><small><a href=\"https://www.openstreetmap.org/?mlat=32.7303&amp;mlon=-117.1465#map=13/32.7303/-117.1465\">View Larger Map</a></small>"
   ]
  },
  {
   "cell_type": "markdown",
   "metadata": {},
   "source": [
    "We can use [`geopy`](https://github.com/geopy/geopy) to find out its location:"
   ]
  },
  {
   "cell_type": "code",
   "execution_count": 9,
   "metadata": {},
   "outputs": [],
   "source": [
    "from geopy.geocoders import Nominatim\n",
    "geolocator = Nominatim()"
   ]
  },
  {
   "cell_type": "markdown",
   "metadata": {},
   "source": [
    "Just type the name into the locator:"
   ]
  },
  {
   "cell_type": "code",
   "execution_count": 10,
   "metadata": {},
   "outputs": [
    {
     "data": {
      "text/plain": [
       "Location(Balboa Park, North Park, San Diego, San Diego County, California, 92102, United States of America, (32.73135675, -117.146526555704, 0.0))"
      ]
     },
     "execution_count": 10,
     "metadata": {},
     "output_type": "execute_result"
    }
   ],
   "source": [
    "bp = geolocator.geocode(\"Balboa Park, San Diego, US\")\n",
    "bp"
   ]
  },
  {
   "cell_type": "code",
   "execution_count": 11,
   "metadata": {},
   "outputs": [
    {
     "data": {
      "text/plain": [
       "(-117.146526555704, 32.73135675)"
      ]
     },
     "execution_count": 11,
     "metadata": {},
     "output_type": "execute_result"
    }
   ],
   "source": [
    "b_ll = bp.longitude, bp.latitude\n",
    "b_ll"
   ]
  },
  {
   "cell_type": "markdown",
   "metadata": {},
   "source": [
    "Then calculate distance to the park from each house:"
   ]
  },
  {
   "cell_type": "code",
   "execution_count": 12,
   "metadata": {},
   "outputs": [],
   "source": [
    "# USA Contiguous Albers Equal Area (m.)\n",
    "# http://epsg.io/102003\n",
    "tgt_crs = \"+proj=aea +lat_1=29.5 +lat_2=45.5 +lat_0=37.5 \"\\\n",
    "          \"+lon_0=-96 +x_0=0 +y_0=0 +datum=NAD83 +units=m +no_defs\"\n",
    "\n",
    "b_xy = gpd.GeoSeries(Point(b_ll), crs=gdb.crs).to_crs(tgt_crs)[0]\n",
    "b_xy = (b_xy.x, b_xy.y)\n",
    "# Calculate distance in Km.\n",
    "d2b = lambda pt: cdist([(pt.x, pt.y)], [b_xy])[0][0] / 1000"
   ]
  },
  {
   "cell_type": "code",
   "execution_count": 13,
   "metadata": {},
   "outputs": [
    {
     "data": {
      "text/plain": [
       "<matplotlib.axes._subplots.AxesSubplot at 0x7f2dae1f1ef0>"
      ]
     },
     "execution_count": 13,
     "metadata": {},
     "output_type": "execute_result"
    },
    {
     "data": {
      "image/png": "[encoded data removed]",
      "text/plain": [
       "<matplotlib.figure.Figure at 0x7f2db8e922e8>"
      ]
     },
     "metadata": {},
     "output_type": "display_data"
    }
   ],
   "source": [
    "gdb['d2balboa'] = gdb['geometry'].to_crs(tgt_crs)\\\n",
    "                                 .apply(d2b)\n",
    "gdb.plot(column='d2balboa', scheme='quantiles', k=9,\n",
    "         cmap='viridis_r', s=1)"
   ]
  },
  {
   "cell_type": "markdown",
   "metadata": {},
   "source": [
    "* Elevation"
   ]
  },
  {
   "cell_type": "code",
   "execution_count": 14,
   "metadata": {},
   "outputs": [],
   "source": [
    "key = open('../google_maps_key').readline().strip('\\n')\n",
    "gmaps = googlemaps.Client(key=key)"
   ]
  },
  {
   "cell_type": "code",
   "execution_count": 15,
   "metadata": {},
   "outputs": [
    {
     "data": {
      "text/plain": [
       "[{'elevation': 89.00752258300781,\n",
       "  'location': {'lat': 32.73136, 'lng': -117.14653},\n",
       "  'resolution': 4.771975994110107}]"
      ]
     },
     "execution_count": 15,
     "metadata": {},
     "output_type": "execute_result"
    }
   ],
   "source": [
    "# Google takes lat/lon instead of lon/lat\n",
    "gmaps.elevation([b_ll[::-1]])"
   ]
  },
  {
   "cell_type": "code",
   "execution_count": 16,
   "metadata": {},
   "outputs": [
    {
     "name": "stdout",
     "output_type": "stream",
     "text": [
      "CPU times: user 4 ms, sys: 0 ns, total: 4 ms\n",
      "Wall time: 309 ms\n"
     ]
    },
    {
     "data": {
      "text/plain": [
       "[{'elevation': 95.95661163330078,\n",
       "  'location': {'lat': 32.58188, 'lng': -117.00194},\n",
       "  'resolution': 4.771975994110107},\n",
       " {'elevation': 171.3590698242188,\n",
       "  'location': {'lat': 32.65303, 'lng': -116.97681},\n",
       "  'resolution': 4.771975994110107},\n",
       " {'elevation': 177.8932495117188,\n",
       "  'location': {'lat': 32.66148, 'lng': -116.97181},\n",
       "  'resolution': 4.771975994110107},\n",
       " {'elevation': 184.3952026367188,\n",
       "  'location': {'lat': 32.63869, 'lng': -116.95125},\n",
       "  'resolution': 4.771975994110107},\n",
       " {'elevation': 185.0911254882812,\n",
       "  'location': {'lat': 32.63894000000001, 'lng': -116.93889},\n",
       "  'resolution': 4.771975994110107}]"
      ]
     },
     "execution_count": 16,
     "metadata": {},
     "output_type": "execute_result"
    }
   ],
   "source": [
    "pts = gdb['geometry'].apply(lambda pt: (pt.y, pt.x))\n",
    "%time ele = gmaps.elevation(pts.head().tolist())\n",
    "ele"
   ]
  },
  {
   "cell_type": "code",
   "execution_count": 17,
   "metadata": {},
   "outputs": [
    {
     "data": {
      "text/plain": [
       "0     95.956612\n",
       "1    171.359070\n",
       "2    177.893250\n",
       "3    184.395203\n",
       "4    185.091125\n",
       "dtype: float64"
      ]
     },
     "execution_count": 17,
     "metadata": {},
     "output_type": "execute_result"
    }
   ],
   "source": [
    "extract_ele = lambda x: pd.Series(x)['elevation']\n",
    "eleS = pd.Series(ele).apply(extract_ele)\n",
    "eleS"
   ]
  },
  {
   "cell_type": "markdown",
   "metadata": {},
   "source": [
    "* Coastal neighborhood?\n",
    "\n",
    "**NOTE**: Still some mistakes it seems but `neighborhood_cleansed` works much better than `neighborhood`."
   ]
  },
  {
   "cell_type": "code",
   "execution_count": 18,
   "metadata": {},
   "outputs": [
    {
     "data": {
      "image/png": "[encoded data removed]",
      "text/plain": [
       "<matplotlib.figure.Figure at 0x7f2dae205b70>"
      ]
     },
     "metadata": {},
     "output_type": "display_data"
    }
   ],
   "source": [
    "coastal_neighborhoods = ['Wooded Area', 'Ocean Beach', 'Pacific Beach', \\\n",
    "                         'La Jolla', 'Torrey Pines', 'Del Mar Heighs', \\\n",
    "                         'Mission Bay']\n",
    "def coastal(neigh):\n",
    "    if neigh in coastal_neighborhoods:\n",
    "        return 1\n",
    "    else:\n",
    "        return 0\n",
    "gdb['coastal_neig'] = gdb['neighbourhood_cleansed'].apply(coastal)\n",
    "\n",
    "gdb.plot(column='coastal_neig', s=1,\n",
    "         categorical=True, legend=True);"
   ]
  },
  {
   "cell_type": "markdown",
   "metadata": {},
   "source": [
    "* Large neighborhood\n",
    "\n",
    "We keep only observations in neighborhoods with more than 25 AirBnb houses so FE on neighborhood make sense."
   ]
  },
  {
   "cell_type": "code",
   "execution_count": 19,
   "metadata": {},
   "outputs": [],
   "source": [
    "lrg_nei = gdb.groupby('neighbourhood_cleansed').size() > 25\n",
    "gdb['lrg_nei'] = gdb['neighbourhood_cleansed'].map(lrg_nei)"
   ]
  },
  {
   "cell_type": "markdown",
   "metadata": {},
   "source": [
    "* List to keep"
   ]
  },
  {
   "cell_type": "code",
   "execution_count": 20,
   "metadata": {},
   "outputs": [],
   "source": [
    "xs = ['accommodates', 'bathrooms', 'bedrooms', \n",
    "      'beds', 'neighbourhood_cleansed', 'pool',\n",
    "      'd2balboa', 'coastal_neig', 'lrg_nei',\n",
    "      'priceN', 'l_price',\n",
    "      'geometry', 'id']"
   ]
  },
  {
   "cell_type": "markdown",
   "metadata": {},
   "source": [
    "### Dummies"
   ]
  },
  {
   "cell_type": "markdown",
   "metadata": {},
   "source": [
    "* Room type"
   ]
  },
  {
   "cell_type": "code",
   "execution_count": 21,
   "metadata": {},
   "outputs": [],
   "source": [
    "rt = pd.get_dummies(gdb['room_type'], prefix='rt').rename(columns=lambda x: x.replace(' ', '_'))"
   ]
  },
  {
   "cell_type": "markdown",
   "metadata": {},
   "source": [
    "* Property type"
   ]
  },
  {
   "cell_type": "code",
   "execution_count": 22,
   "metadata": {},
   "outputs": [],
   "source": [
    "def simplify(p):\n",
    "    bigs = ['House', 'Apartment', 'Condominium', 'Townhouse']\n",
    "    if p in bigs:\n",
    "        return p\n",
    "    else:\n",
    "        return 'Other'\n",
    "\n",
    "gdb['property_group'] = gdb['property_type'].apply(simplify)\n",
    "pg = pd.get_dummies(gdb['property_group'], prefix='pg')"
   ]
  },
  {
   "cell_type": "markdown",
   "metadata": {},
   "source": [
    "### Write out"
   ]
  },
  {
   "cell_type": "code",
   "execution_count": 23,
   "metadata": {},
   "outputs": [
    {
     "name": "stdout",
     "output_type": "stream",
     "text": [
      "<class 'pandas.core.frame.DataFrame'>\n",
      "RangeIndex: 6608 entries, 0 to 6607\n",
      "Data columns (total 1 columns):\n",
      "lrg_nei    6608 non-null bool\n",
      "dtypes: bool(1)\n",
      "memory usage: 6.5 KB\n"
     ]
    }
   ],
   "source": [
    "gdb[['lrg_nei']].info()"
   ]
  },
  {
   "cell_type": "code",
   "execution_count": 24,
   "metadata": {},
   "outputs": [
    {
     "name": "stdout",
     "output_type": "stream",
     "text": [
      "<class 'geopandas.geodataframe.GeoDataFrame'>\n",
      "Int64Index: 6110 entries, 19 to 6607\n",
      "Data columns (total 20 columns):\n",
      "accommodates              6110 non-null int64\n",
      "bathrooms                 6110 non-null float64\n",
      "bedrooms                  6110 non-null float64\n",
      "beds                      6110 non-null float64\n",
      "neighbourhood_cleansed    6110 non-null object\n",
      "pool                      6110 non-null int64\n",
      "d2balboa                  6110 non-null float64\n",
      "coastal_neig              6110 non-null int64\n",
      "price                     6110 non-null float64\n",
      "l_price                   6110 non-null float64\n",
      "geometry                  6110 non-null object\n",
      "id                        6110 non-null int64\n",
      "pg_Apartment              6110 non-null uint8\n",
      "pg_Condominium            6110 non-null uint8\n",
      "pg_House                  6110 non-null uint8\n",
      "pg_Other                  6110 non-null uint8\n",
      "pg_Townhouse              6110 non-null uint8\n",
      "rt_Entire_home/apt        6110 non-null uint8\n",
      "rt_Private_room           6110 non-null uint8\n",
      "rt_Shared_room            6110 non-null uint8\n",
      "dtypes: float64(6), int64(4), object(2), uint8(8)\n",
      "memory usage: 668.3+ KB\n"
     ]
    }
   ],
   "source": [
    "! rm 'regression_db.geojson'\n",
    "final = gdb[xs].join(pg)\\\n",
    "               .join(rt)\\\n",
    "               .rename(columns={'priceN': 'price'})\\\n",
    "               .loc[gdb['lrg_nei']==True, :]\\\n",
    "               .drop(['lrg_nei'], axis=1)\\\n",
    "               .dropna()\n"
   ]
  },
  {
   "cell_type": "code",
   "execution_count": 7,
   "metadata": {},
   "outputs": [],
   "source": [
    "final = final.rename(columns=dict(neighbourhood_cleansed='neighborhood', \n",
    "                          coastal_neig='coastal',\n",
    "                          l_price = 'log_price'))"
   ]
  },
  {
   "cell_type": "code",
   "execution_count": 12,
   "metadata": {},
   "outputs": [
    {
     "name": "stdout",
     "output_type": "stream",
     "text": [
      "rm: cannot remove 'airbnb/regression_db.geojson': No such file or directory\n",
      "<class 'geopandas.geodataframe.GeoDataFrame'>\n",
      "RangeIndex: 6110 entries, 0 to 6109\n",
      "Data columns (total 20 columns):\n",
      "accommodates          6110 non-null int64\n",
      "bathrooms             6110 non-null float64\n",
      "bedrooms              6110 non-null float64\n",
      "beds                  6110 non-null float64\n",
      "neighborhood          6110 non-null object\n",
      "pool                  6110 non-null int64\n",
      "d2balboa              6110 non-null float64\n",
      "coastal               6110 non-null int64\n",
      "price                 6110 non-null float64\n",
      "log_price             6110 non-null float64\n",
      "id                    6110 non-null int64\n",
      "pg_Apartment          6110 non-null int64\n",
      "pg_Condominium        6110 non-null int64\n",
      "pg_House              6110 non-null int64\n",
      "pg_Other              6110 non-null int64\n",
      "pg_Townhouse          6110 non-null int64\n",
      "rt_Entire_home/apt    6110 non-null int64\n",
      "rt_Private_room       6110 non-null int64\n",
      "rt_Shared_room        6110 non-null int64\n",
      "geometry              6110 non-null object\n",
      "dtypes: float64(6), int64(12), object(2)\n",
      "memory usage: 954.8+ KB\n"
     ]
    }
   ],
   "source": [
    "!rm regression_db.geojson\n",
    "final.to_file('regression_db.geojson', driver='GeoJSON')\n",
    "final.info()"
   ]
  },
  {
   "cell_type": "markdown",
   "metadata": {},
   "source": [
    "---\n",
    "\n",
    "[[Download the `regression_db.geojson` file]](regression_db.geojson)"
   ]
  }
 ],
 "metadata": {
  "kernelspec": {
   "display_name": "Python 3",
   "language": "python",
   "name": "python3"
  },
  "language_info": {
   "codemirror_mode": {
    "name": "ipython",
    "version": 3
   },
   "file_extension": ".py",
   "mimetype": "text/x-python",
   "name": "python",
   "nbconvert_exporter": "python",
   "pygments_lexer": "ipython3",
   "version": "3.7.6"
  }
 },
 "nbformat": 4,
 "nbformat_minor": 4
}
