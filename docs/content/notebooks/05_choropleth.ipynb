{
 "cells": [
  {
   "cell_type": "markdown",
   "metadata": {},
   "source": [
    "# Choropleth mapping\n",
    "\n"
   ]
  },
  {
   "cell_type": "markdown",
   "metadata": {},
   "source": [
    "## Principles\n",
    "\n",
    "\n",
    "Choropleth maps play a prominent role in geographic data science as they allow\n",
    "us to display non-geographic attributes or variables on a geographic map. The\n",
    "word choropleth stems from the root \"choro\", meaning \"region\". As such\n",
    "choropleth maps represent data at the region level, and are appropriate for\n",
    "areal unit data where each observation combines a value of an attribute and a\n",
    "geometric figure, usually a polygon. Choropleth maps derive from an earlier era\n",
    "where cartographers faced technological constraints that precluded the use of\n",
    "unclassed maps where each unique attribute value could be represented by a\n",
    "distinct symbol or color. Instead, attribute values were grouped into a smaller\n",
    "number of classes, usually not more than 12. Each class was associated with a\n",
    "unique symbol that was in turn applied to all observations with attribute values\n",
    "falling in the class.\n",
    "\n",
    "Although today these technological constraints are no longer binding, and\n",
    "unclassed mapping is feasible, there are still good reasons for adopting a\n",
    "classed approach. Chief among these is to reduce the cognitive load involved in\n",
    "parsing the complexity of an unclassed map. A choropleth map reduces this\n",
    "complexity by drawing upon statistical and visualization theory to provide an\n",
    "effective representation of the spatial distribution of the attribute values\n",
    "across the areal units. \n",
    "\n",
    "The effectiveness of a choropleth map will be a\n",
    "function of the choice of classification scheme together with the color or\n",
    "symbolization strategy adopted. In broad terms, the classification scheme\n",
    "defines the number of classes as well as the rules for assignment, while the\n",
    "symbolization should convey information about the value differentiation across\n",
    "the classes.\n",
    "\n",
    "In this chapter we first discuss the approaches used to classify attribute\n",
    "values. This is followed by an overview of color theory and the implications of\n",
    "different color schemes for effective map design. We combine theory and practice\n",
    "by exploring how these concepts are implemented in different Python packages,\n",
    "including `geopandas`, and `PySAL`.\n",
    "\n",
    "\n"
   ]
  },
  {
   "cell_type": "code",
   "execution_count": 1,
   "metadata": {},
   "outputs": [
    {
     "name": "stderr",
     "output_type": "stream",
     "text": [
      "/home/serge/anaconda3/envs/gdsbook/lib/python3.6/site-packages/pysal/explore/segregation/network/network.py:16: UserWarning: You need pandana and urbanaccess to work with segregation's network module\n",
      "You can install them with  `pip install urbanaccess pandana` or `conda install -c udst pandana urbanaccess`\n",
      "  \"You need pandana and urbanaccess to work with segregation's network module\\n\"\n"
     ]
    }
   ],
   "source": [
    "%matplotlib inline\n",
    "\n",
    "import seaborn\n",
    "import pandas\n",
    "import geopandas\n",
    "import pysal\n",
    "import numpy\n",
    "import mapclassify\n",
    "import matplotlib.pyplot as plt"
   ]
  },
  {
   "cell_type": "markdown",
   "metadata": {},
   "source": [
    "## Quantitative data classification \n",
    "\n",
    "Data classification considers the problem of \n",
    "partitioning the attribute values into mutually exclusive and exhaustive\n",
    "groups. The precise manner in which this is done will be a function of the\n",
    "measurement scale of the attribute in question. For quantitative attributes\n",
    "(ordinal, interval, ratio scales) the classes will have an explicit ordering.\n",
    "More formally, the classification problem is to define class boundaries such\n",
    "that\n",
    "$$\n",
    "c_j < y_i \\le  c_{j+1} \\ \\forall y_i \\in C_{j}\n",
    "$$\n",
    "where $y_i$ is the\n",
    "value of the attribute for spatial location $i$, $j$ is a class index, and $c_j$\n",
    "represents the lower bound of interval $j$.\n",
    "\n",
    "Different classification schemes obtain from their definition of the class\n",
    "boundaries. The choice of the classification scheme should take into\n",
    "consideration the statistical distribution of the attribute values.\n",
    "\n",
    "To illustrate these considerations, we will examine regional income data for the\n",
    "32 Mexican states. The variable we focus on is per capita gross domestic product\n",
    "for 1940 (PCGDP1940):"
   ]
  },
  {
   "cell_type": "code",
   "execution_count": 2,
   "metadata": {},
   "outputs": [
    {
     "data": {
      "text/html": [
       "<div>\n",
       "<style scoped>\n",
       "    .dataframe tbody tr th:only-of-type {\n",
       "        vertical-align: middle;\n",
       "    }\n",
       "\n",
       "    .dataframe tbody tr th {\n",
       "        vertical-align: top;\n",
       "    }\n",
       "\n",
       "    .dataframe thead th {\n",
       "        text-align: right;\n",
       "    }\n",
       "</style>\n",
       "<table border=\"1\" class=\"dataframe\">\n",
       "  <thead>\n",
       "    <tr style=\"text-align: right;\">\n",
       "      <th></th>\n",
       "      <th>NAME</th>\n",
       "      <th>PCGDP1940</th>\n",
       "    </tr>\n",
       "  </thead>\n",
       "  <tbody>\n",
       "    <tr>\n",
       "      <th>0</th>\n",
       "      <td>Baja California Norte</td>\n",
       "      <td>22361.0</td>\n",
       "    </tr>\n",
       "    <tr>\n",
       "      <th>1</th>\n",
       "      <td>Baja California Sur</td>\n",
       "      <td>9573.0</td>\n",
       "    </tr>\n",
       "    <tr>\n",
       "      <th>2</th>\n",
       "      <td>Nayarit</td>\n",
       "      <td>4836.0</td>\n",
       "    </tr>\n",
       "    <tr>\n",
       "      <th>3</th>\n",
       "      <td>Jalisco</td>\n",
       "      <td>5309.0</td>\n",
       "    </tr>\n",
       "    <tr>\n",
       "      <th>4</th>\n",
       "      <td>Aguascalientes</td>\n",
       "      <td>10384.0</td>\n",
       "    </tr>\n",
       "  </tbody>\n",
       "</table>\n",
       "</div>"
      ],
      "text/plain": [
       "                    NAME  PCGDP1940\n",
       "0  Baja California Norte    22361.0\n",
       "1    Baja California Sur     9573.0\n",
       "2                Nayarit     4836.0\n",
       "3                Jalisco     5309.0\n",
       "4         Aguascalientes    10384.0"
      ]
     },
     "execution_count": 2,
     "metadata": {},
     "output_type": "execute_result"
    }
   ],
   "source": [
    "mx = geopandas.read_file(\"../data/mexico/mexicojoin.shp\")\n",
    "mx[['NAME', 'PCGDP1940']].head()"
   ]
  },
  {
   "cell_type": "markdown",
   "metadata": {},
   "source": [
    "Which displays the following statistical distribution:"
   ]
  },
  {
   "cell_type": "code",
   "execution_count": 3,
   "metadata": {},
   "outputs": [
    {
     "data": {
      "image/png": "[encoded data removed]",
      "text/plain": [
       "<Figure size 432x288 with 1 Axes>"
      ]
     },
     "metadata": {
      "needs_background": "light"
     },
     "output_type": "display_data"
    }
   ],
   "source": [
    "h = seaborn.distplot(mx['PCGDP1940'], bins=5, rug=True);"
   ]
  },
  {
   "cell_type": "markdown",
   "metadata": {},
   "source": [
    "As we can see, the distribution is positively skewed as in common in regional income studies. In other words,\n",
    "the mean exceeds the median (`50%`, in the table below), leading the to fat right tail in the figure. As\n",
    "we shall see, this skewness will have implications for the choice of choropleth\n",
    "classification scheme."
   ]
  },
  {
   "cell_type": "code",
   "execution_count": 4,
   "metadata": {
    "lines_to_next_cell": 2
   },
   "outputs": [
    {
     "data": {
      "text/plain": [
       "count       32.000000\n",
       "mean      7230.531250\n",
       "std       5204.952883\n",
       "min       1892.000000\n",
       "25%       3701.750000\n",
       "50%       5256.000000\n",
       "75%       8701.750000\n",
       "max      22361.000000\n",
       "Name: PCGDP1940, dtype: float64"
      ]
     },
     "execution_count": 4,
     "metadata": {},
     "output_type": "execute_result"
    }
   ],
   "source": [
    "mx['PCGDP1940'].describe()"
   ]
  },
  {
   "cell_type": "markdown",
   "metadata": {},
   "source": [
    "For quantitative attributes we first sort the data by their value,\n",
    "such that $x_0 \\le x_2 \\ldots \\le x_{n-1}$. For a prespecified number of classes\n",
    "$k$, the classification problem boils down to selection of $k-1$ break points\n",
    "along the sorted values that separate the values into mutually exclusive and\n",
    "exhaustive groups.\n",
    "\n",
    "In fact, the determination of the histogram above can\n",
    "be viewed as one approach to this selection.\n",
    "The method `seaborn.distplot` uses the matplotlib `hist`\n",
    "function under the hood to determine the class boundaries and the counts of\n",
    "observations in each class. In the figure, we have five classes which can be\n",
    "extracted with an explicit call to the `hist` function:"
   ]
  },
  {
   "cell_type": "code",
   "execution_count": 5,
   "metadata": {},
   "outputs": [],
   "source": [
    "counts, bins, patches = h.hist(mx['PCGDP1940'], bins=5)"
   ]
  },
  {
   "cell_type": "markdown",
   "metadata": {},
   "source": [
    "The `counts` object captures how many observations each category in the classification has:"
   ]
  },
  {
   "cell_type": "code",
   "execution_count": 6,
   "metadata": {},
   "outputs": [
    {
     "data": {
      "text/plain": [
       "array([17.,  9.,  3.,  1.,  2.])"
      ]
     },
     "execution_count": 6,
     "metadata": {},
     "output_type": "execute_result"
    }
   ],
   "source": [
    "counts"
   ]
  },
  {
   "cell_type": "markdown",
   "metadata": {},
   "source": [
    "The `bin` object stores these break points we are interested in when considering classification schemes (the `patches` object can be ignored in this context, as it stores the geometries of the histogram plot):"
   ]
  },
  {
   "cell_type": "code",
   "execution_count": 7,
   "metadata": {},
   "outputs": [
    {
     "data": {
      "text/plain": [
       "array([ 1892. ,  5985.8, 10079.6, 14173.4, 18267.2, 22361. ])"
      ]
     },
     "execution_count": 7,
     "metadata": {},
     "output_type": "execute_result"
    }
   ],
   "source": [
    "bins"
   ]
  },
  {
   "cell_type": "markdown",
   "metadata": {},
   "source": [
    "This yields 5 bins, with the first having a lower bound of 1892 and an upper\n",
    "bound of 5985.8 which contains 17 observations. \n",
    "The determination of the\n",
    "interval width ($w$) and the number of bins in `seaborn` is based on the Freedman-Diaconis rule:\n",
    "\n",
    "$$w = 2 * IQR * n^{-1/3}$$\n",
    "\n",
    "where $IQR$ is the inter quartile\n",
    "range of the attribute values. Given $w$ the number of bins ($k$) is:\n",
    "\n",
    "$$k=(max-\n",
    "min)/w.$$\n",
    "\n",
    "Below we present several approaches to create these break points that follow criteria that can be of interest in different contexts, as they focus on different priorities.\n",
    " \n",
    "### Equal Intervals\n",
    "\n",
    "The Freedman-Diaconis approach provides a rule to determine the width and, in\n",
    "turn, the number of bins for the classification. This is a special case of a\n",
    "more general classifier known as \"equal intervals\", where each of the bins has\n",
    "the same width in the value space. For a given value of $k$, equal intervals\n",
    "classification splits the range of the attribute space into $k$ equal length\n",
    "intervals, with each interval having a width $w = \\frac{x_0 - x_{n-1}}{k}$. Thus\n",
    "the maximum class is $(x_{n-1}-w, x_{n-1}]$ and the first class is $(-\\infty,\n",
    "x_{n-1} - (k-1)w]$.\n",
    "\n",
    "Equal intervals have the dual advantages of simplicity and ease of\n",
    "interpretation. However, this rule only considers the extreme values of the\n",
    "distribution and, in some cases, this can result in one or more classes being\n",
    "sparse. This is clearly the case in our income dataset, as the majority of the\n",
    "values are placed into the first two classes leaving the last three classes\n",
    "rather sparse:"
   ]
  },
  {
   "cell_type": "code",
   "execution_count": 8,
   "metadata": {},
   "outputs": [
    {
     "data": {
      "text/plain": [
       "EqualInterval               \n",
       "\n",
       "      Interval         Count\n",
       "----------------------------\n",
       "[ 1892.00,  5985.80] |    17\n",
       "( 5985.80, 10079.60] |     9\n",
       "(10079.60, 14173.40] |     3\n",
       "(14173.40, 18267.20] |     1\n",
       "(18267.20, 22361.00] |     2"
      ]
     },
     "execution_count": 8,
     "metadata": {},
     "output_type": "execute_result"
    }
   ],
   "source": [
    "ei5 = mapclassify.EqualInterval(mx['PCGDP1940'], k=5)\n",
    "ei5"
   ]
  },
  {
   "cell_type": "markdown",
   "metadata": {},
   "source": [
    " Note that each of the intervals, however, has equal width of\n",
    "$w=4093.8$. This value of $k=5$ also coincides with the default classification\n",
    "in the Seaborn histogram displayed in Figure 1. It should also be noted that the first class is closed on the lower bound,\n",
    "in contrast to the general approach defined in Equation (1)."
   ]
  },
  {
   "cell_type": "markdown",
   "metadata": {},
   "source": [
    "### Quantiles\n",
    "To avoid the potential problem of sparse classes, the quantiles of\n",
    "the distribution can be used to identify the class boundaries. Indeed, each\n",
    "class will have approximately $\\mid\\frac{n}{k}\\mid$ observations using the quantile\n",
    "classifier. If $k=5$ the sample quintiles are used to define the upper limits of\n",
    "each class resulting in the following classification:"
   ]
  },
  {
   "cell_type": "code",
   "execution_count": 9,
   "metadata": {},
   "outputs": [
    {
     "data": {
      "text/plain": [
       "Quantiles                   \n",
       "\n",
       "      Interval         Count\n",
       "----------------------------\n",
       "[ 1892.00,  3576.20] |     7\n",
       "( 3576.20,  4582.80] |     6\n",
       "( 4582.80,  6925.20] |     6\n",
       "( 6925.20,  9473.00] |     6\n",
       "( 9473.00, 22361.00] |     7"
      ]
     },
     "execution_count": 9,
     "metadata": {},
     "output_type": "execute_result"
    }
   ],
   "source": [
    "q5 = mapclassify.Quantiles(mx.PCGDP1940, k=5)\n",
    "q5"
   ]
  },
  {
   "cell_type": "markdown",
   "metadata": {},
   "source": [
    "Note that while the numbers of values in each class are roughly equal, the\n",
    "widths of the first four intervals are rather different:"
   ]
  },
  {
   "cell_type": "code",
   "execution_count": 10,
   "metadata": {},
   "outputs": [
    {
     "data": {
      "text/plain": [
       "array([ 1006.6,  2342.4,  2547.8, 12888. ])"
      ]
     },
     "execution_count": 10,
     "metadata": {},
     "output_type": "execute_result"
    }
   ],
   "source": [
    "q5.bins[1:]-q5.bins[:-1]"
   ]
  },
  {
   "cell_type": "markdown",
   "metadata": {},
   "source": [
    "While quantiles does avoid the pitfall of sparse classes, this classification is\n",
    "not problem free. The varying widths of the intervals can be markedly different\n",
    "which can lead to problems of interpretation. A second challenge facing quantiles\n",
    "arises when there are a large number of duplicate values in the distribution\n",
    "such that the limits for one or more classes become ambiguous. For example, if one had a variable with $n=20$ but 10 of the observations took on the same value which was the minimum observed, then for values of $k>2$, the class boundaries become ill-defined since a simple rule of splitting at the $n/k$ ranked observed value would depend upon how ties are treated when ranking."
   ]
  },
  {
   "cell_type": "code",
   "execution_count": 11,
   "metadata": {},
   "outputs": [
    {
     "data": {
      "text/plain": [
       "array([0, 0, 0, 0, 0, 0, 0, 0, 0, 0, 9, 7, 6, 0, 2, 9, 1, 2, 6, 7])"
      ]
     },
     "execution_count": 11,
     "metadata": {},
     "output_type": "execute_result"
    }
   ],
   "source": [
    "numpy.random.seed(12345)\n",
    "x = numpy.random.randint(0,10,20)\n",
    "x[0:10] = x.min()\n",
    "x"
   ]
  },
  {
   "cell_type": "code",
   "execution_count": 12,
   "metadata": {},
   "outputs": [
    {
     "name": "stderr",
     "output_type": "stream",
     "text": [
      "/home/serge/anaconda3/envs/gdsbook/lib/python3.6/site-packages/mapclassify/classifiers.py:248: UserWarning: Warning: Not enough unique values in array to form k classes\n",
      "  \"Warning: Not enough unique values in array to form k classes\", UserWarning\n",
      "/home/serge/anaconda3/envs/gdsbook/lib/python3.6/site-packages/mapclassify/classifiers.py:250: UserWarning: Warning: setting k to 4\n",
      "  Warn(\"Warning: setting k to %d\" % k_q, UserWarning)\n"
     ]
    },
    {
     "data": {
      "text/plain": [
       "Quantiles           \n",
       "\n",
       "  Interval     Count\n",
       "--------------------\n",
       "[0.00, 0.00] |    11\n",
       "(0.00, 1.40] |     1\n",
       "(1.40, 6.20] |     4\n",
       "(6.20, 9.00] |     4"
      ]
     },
     "execution_count": 12,
     "metadata": {},
     "output_type": "execute_result"
    }
   ],
   "source": [
    "ties = mapclassify.Quantiles(x, k=5)\n",
    "ties"
   ]
  },
  {
   "cell_type": "code",
   "execution_count": 13,
   "metadata": {},
   "outputs": [
    {
     "data": {
      "text/plain": [
       "array([0, 0, 0, 0, 0, 0, 0, 0, 0, 0, 9, 7, 6, 0, 2, 9, 1, 2, 6, 7])"
      ]
     },
     "execution_count": 13,
     "metadata": {},
     "output_type": "execute_result"
    }
   ],
   "source": [
    "x"
   ]
  },
  {
   "cell_type": "code",
   "execution_count": 14,
   "metadata": {},
   "outputs": [],
   "source": [
    "ux = numpy.unique(x)"
   ]
  },
  {
   "cell_type": "code",
   "execution_count": 15,
   "metadata": {},
   "outputs": [
    {
     "data": {
      "text/plain": [
       "array([0, 1, 2, 6, 7, 9])"
      ]
     },
     "execution_count": 15,
     "metadata": {},
     "output_type": "execute_result"
    }
   ],
   "source": [
    "ux"
   ]
  },
  {
   "cell_type": "markdown",
   "metadata": {},
   "source": [
    "In this case, `mapclassify` will issue a warning alerting the user to the issue that this sample does not contain enough unique values to form \n",
    "the number of well-defined classes requested.  It then forms a lower number of classes using pseudo quantiles, or quantiles defined on the unique values in the sample, and then uses the pseudo quantiles to classify all the values."
   ]
  },
  {
   "cell_type": "code",
   "execution_count": 16,
   "metadata": {},
   "outputs": [],
   "source": [
    "np = numpy\n",
    "import scipy.stats as stats"
   ]
  },
  {
   "cell_type": "code",
   "execution_count": 17,
   "metadata": {},
   "outputs": [
    {
     "data": {
      "text/plain": [
       "array([ 20.,  40.,  60.,  80., 100.])"
      ]
     },
     "execution_count": 17,
     "metadata": {},
     "output_type": "execute_result"
    }
   ],
   "source": [
    "k = 5\n",
    "w = 100.0 / k\n",
    "p = np.arange(w, 100+w, w)\n",
    "p"
   ]
  },
  {
   "cell_type": "code",
   "execution_count": 18,
   "metadata": {},
   "outputs": [
    {
     "data": {
      "text/plain": [
       "array([0. , 0. , 1.4, 6.2, 9. ])"
      ]
     },
     "execution_count": 18,
     "metadata": {},
     "output_type": "execute_result"
    }
   ],
   "source": [
    "q = np.array([stats.scoreatpercentile(x, pct) for pct in p])\n",
    "q"
   ]
  },
  {
   "cell_type": "code",
   "execution_count": 19,
   "metadata": {},
   "outputs": [
    {
     "data": {
      "text/plain": [
       "array([0. , 0. , 1.4, 6.2, 9. ])"
      ]
     },
     "execution_count": 19,
     "metadata": {},
     "output_type": "execute_result"
    }
   ],
   "source": [
    "np.array([stats.scoreatpercentile(x, pct) for pct in np.arange(20, 120, 20)])"
   ]
  },
  {
   "cell_type": "code",
   "execution_count": 20,
   "metadata": {},
   "outputs": [
    {
     "data": {
      "text/plain": [
       "array([ 20.,  40.,  60.,  80., 100.])"
      ]
     },
     "execution_count": 20,
     "metadata": {},
     "output_type": "execute_result"
    }
   ],
   "source": [
    "p"
   ]
  },
  {
   "cell_type": "markdown",
   "metadata": {},
   "source": [
    "### Mean-standard deviation\n",
    "\n",
    "Our third classifer uses the sample mean $\\bar{x} =\n",
    "\\frac{1}{n} \\sum_{i=1}^n x_i$ and sample standard deviation $s = \\sqrt{\n",
    "\\frac{1}{n-1} \\sum_{i=1}^n (x_i - \\bar{x})  }$ to define class boundaries as\n",
    "some distance from the sample mean, with the distance being a multiple of the\n",
    "standard deviation. For example, a common definition for $k=5$ is to set the\n",
    "upper limit of the first class to two standard deviations ($c_{0}^u = \\bar{x} - 2 s$), and the intermediate\n",
    "classes to have upper limits within one standard deviation ($c_{1}^u = \\bar{x}-s,\\ c_{2}^u = \\bar{x}+s, \\ c_{3}^u\n",
    "= \\bar{x}+2s$). Any values greater (smaller) than two standard deviations above (below) the mean\n",
    "are placed into the top (bottom) class."
   ]
  },
  {
   "cell_type": "code",
   "execution_count": 21,
   "metadata": {},
   "outputs": [
    {
     "data": {
      "text/plain": [
       "StdMean                     \n",
       "\n",
       "      Interval         Count\n",
       "----------------------------\n",
       "(    -inf, -3179.37] |     0\n",
       "(-3179.37,  2025.58] |     1\n",
       "( 2025.58, 12435.48] |    28\n",
       "(12435.48, 17640.44] |     0\n",
       "(17640.44, 22361.00] |     3"
      ]
     },
     "execution_count": 21,
     "metadata": {},
     "output_type": "execute_result"
    }
   ],
   "source": [
    "msd = mapclassify.StdMean(mx['PCGDP1940'])\n",
    "msd"
   ]
  },
  {
   "cell_type": "markdown",
   "metadata": {},
   "source": [
    "This classifier is best used when data is normally distributed or, at least, when the sample mean is a meaningful measure to anchor the classification around. Clearly this is\n",
    "not the case for our income data as the positive skew results in a loss of\n",
    "information when we use the standard deviation. The lack of symmetry leads to\n",
    "an inadmissible upper bound for the first  class as well as a concentration of the\n",
    "vast majority of values in the middle class.\n",
    "\n",
    "### Maximum Breaks\n",
    "\n",
    "The maximum breaks classifier decides where to set the break points between\n",
    "classes by considering the difference between sorted values. That is, rather\n",
    "than considering a value of the dataset in itself, it looks at how appart each\n",
    "value is from the next one in the sorted sequence. The classifier then places\n",
    "the the $k-1$ break points in between the pairs of values most stretched apart from\n",
    "each other in the entire sequence, proceeding in descending order relative to\n",
    "the size of the breaks:"
   ]
  },
  {
   "cell_type": "code",
   "execution_count": 22,
   "metadata": {},
   "outputs": [
    {
     "data": {
      "text/plain": [
       "MaximumBreaks               \n",
       "\n",
       "      Interval         Count\n",
       "----------------------------\n",
       "[ 1892.00,  5854.00] |    17\n",
       "( 5854.00, 11574.00] |    11\n",
       "(11574.00, 14974.00] |     1\n",
       "(14974.00, 19890.50] |     1\n",
       "(19890.50, 22361.00] |     2"
      ]
     },
     "execution_count": 22,
     "metadata": {},
     "output_type": "execute_result"
    }
   ],
   "source": [
    "mb5 = mapclassify.MaximumBreaks(mx['PCGDP1940'], k=5)\n",
    "mb5"
   ]
  },
  {
   "cell_type": "markdown",
   "metadata": {},
   "source": [
    "Maximum breaks is an appropriate approach when we are interested in making sure\n",
    "observations in each class are separated from those in neighboring classes. As\n",
    "such, it works well in cases where the distribution of values is not unimodal.\n",
    "In addition, the algorithm is relatively fast to compute. However, its\n",
    "simplicitly can sometimes cause unexpected results. To the extent in only\n",
    "considers the top $k-1$ differences between consecutive values, other more nuanced\n",
    "within-group differences and dissimilarities can be ignored.\n",
    "\n",
    "### Box-Plot\n",
    "\n",
    "The box-plot classification is a blend of the quantile and\n",
    "standard deviation classifiers. Here $k$ is predefined to six, with the upper limit of class 0 set\n",
    "to $q_{0.25}-h \\, IQR$. $IQR = q_{0.75}-q_{0.25}$ is the\n",
    "inter-quartile range; $h$ corresponds to the hinge, or the multiplier of the $IQR$ to obtain the bounds of the whiskers. The lower limit of the sixth class is set to $q_{0.75}+h \\,\n",
    "IQR$. Intermediate classes have their upper limits set to the 0.25, 0.50 and\n",
    "0.75 percentiles of the attribute values."
   ]
  },
  {
   "cell_type": "code",
   "execution_count": 23,
   "metadata": {},
   "outputs": [
    {
     "data": {
      "text/plain": [
       "BoxPlot                     \n",
       "\n",
       "      Interval         Count\n",
       "----------------------------\n",
       "(    -inf, -3798.25] |     0\n",
       "(-3798.25,  3701.75] |     8\n",
       "( 3701.75,  5256.00] |     8\n",
       "( 5256.00,  8701.75] |     8\n",
       "( 8701.75, 16201.75] |     5\n",
       "(16201.75, 22361.00] |     3"
      ]
     },
     "execution_count": 23,
     "metadata": {},
     "output_type": "execute_result"
    }
   ],
   "source": [
    "bp = mapclassify.BoxPlot(mx['PCGDP1940'])\n",
    "bp"
   ]
  },
  {
   "cell_type": "markdown",
   "metadata": {},
   "source": [
    "Any values falling into either of the extreme classes are defined as outlers.\n",
    "Note that because the income values are non-negative by definition, the lower\n",
    "outlier class has an inadmissible upper bound meaning that lower outliers would\n",
    "not be possible for this sample.\n",
    "\n",
    "The default value for the hinge is $h=1.5$ in\n",
    "PySAL. However, this can be specified by the user for an alternative classification:"
   ]
  },
  {
   "cell_type": "code",
   "execution_count": 24,
   "metadata": {},
   "outputs": [
    {
     "data": {
      "text/plain": [
       "BoxPlot                     \n",
       "\n",
       "      Interval         Count\n",
       "----------------------------\n",
       "(    -inf, -1298.25] |     0\n",
       "(-1298.25,  3701.75] |     8\n",
       "( 3701.75,  5256.00] |     8\n",
       "( 5256.00,  8701.75] |     8\n",
       "( 8701.75, 13701.75] |     5\n",
       "(13701.75, 22361.00] |     3"
      ]
     },
     "execution_count": 24,
     "metadata": {},
     "output_type": "execute_result"
    }
   ],
   "source": [
    "bp1 = mapclassify.BoxPlot(mx['PCGDP1940'], hinge=1)\n",
    "bp1"
   ]
  },
  {
   "cell_type": "markdown",
   "metadata": {},
   "source": [
    "Doing so will affect the definition of the outlier classes, as well as the\n",
    "neighboring internal classes.\n",
    "\n",
    "### Head-Tail Breaks\n",
    "\n",
    "The head tail algorithm, introduced by Jiang (2013), is based on a recursive partioning of the data using splits around\n",
    "iterative means. The splitting process continues until the distributions within each of\n",
    "the classes no longer display a heavy-tailed distribution in the sense that\n",
    "there is a balance between the number of smaller and larger values assigned to\n",
    "each class."
   ]
  },
  {
   "cell_type": "code",
   "execution_count": 25,
   "metadata": {},
   "outputs": [
    {
     "data": {
      "text/plain": [
       "HeadTailBreaks              \n",
       "\n",
       "      Interval         Count\n",
       "----------------------------\n",
       "[ 1892.00,  7230.53] |    20\n",
       "( 7230.53, 12244.42] |     9\n",
       "(12244.42, 20714.00] |     1\n",
       "(20714.00, 22163.00] |     1\n",
       "(22163.00, 22361.00] |     1"
      ]
     },
     "execution_count": 25,
     "metadata": {},
     "output_type": "execute_result"
    }
   ],
   "source": [
    "ht = mapclassify.HeadTailBreaks(mx['PCGDP1940'])\n",
    "ht"
   ]
  },
  {
   "cell_type": "markdown",
   "metadata": {},
   "source": [
    "For data with a heavy-tailed distribution, such as power law and log normal\n",
    "distributions, the head tail breaks classifier (Jiang 2015) can be particularly\n",
    "effective.\n",
    "\n",
    "### Jenks Caspall\n",
    "\n",
    "This approach, as well as the following two, tackles the calssification challenge from a heuristic perspective, rather than from deterministic one. Originally proposed by Jenks & Caspall (1971), this algorithm aims to minimize the sum of absolute deviations around\n",
    "class means. The approach begins with a prespecified number of classes and an\n",
    "arbitrary initial set of class breaks - for example using quintiles. The\n",
    "algorithm attempts to improve the objective function by considering the movement\n",
    "of observations between adjacent classes. For example, the largest value in the\n",
    "lowest quintile would be considered for movement into the second quintile, while\n",
    "the lowest value in the second quintile would be considered for a possible move\n",
    "into the first quintile. The candidate move resulting in the largest reduction\n",
    "in the objective function would be made, and the process continues until no\n",
    "other improving moves are possible."
   ]
  },
  {
   "cell_type": "code",
   "execution_count": 26,
   "metadata": {},
   "outputs": [
    {
     "data": {
      "text/plain": [
       "JenksCaspall                \n",
       "\n",
       "      Interval         Count\n",
       "----------------------------\n",
       "[ 1892.00,  2934.00] |     4\n",
       "( 2934.00,  4414.00] |     9\n",
       "( 4414.00,  6399.00] |     5\n",
       "( 6399.00, 12132.00] |    11\n",
       "(12132.00, 22361.00] |     3"
      ]
     },
     "execution_count": 26,
     "metadata": {},
     "output_type": "execute_result"
    }
   ],
   "source": [
    "numpy.random.seed(12345)\n",
    "jc5 = mapclassify.JenksCaspall(mx['PCGDP1940'], k=5)\n",
    "jc5"
   ]
  },
  {
   "cell_type": "markdown",
   "metadata": {},
   "source": [
    "### Fisher Jenks\n",
    "\n",
    "The second optimal algorithm adopts a dynamic programming approach to minimize\n",
    "the sum of the absolute deviations around class medians. In contrast to the\n",
    "Jenks-Caspall approach, Fisher-Jenks is guaranteed to produce an optimal\n",
    "classification for a prespecified number of classes:"
   ]
  },
  {
   "cell_type": "code",
   "execution_count": 27,
   "metadata": {},
   "outputs": [
    {
     "data": {
      "text/plain": [
       "FisherJenks                 \n",
       "\n",
       "      Interval         Count\n",
       "----------------------------\n",
       "[ 1892.00,  5309.00] |    17\n",
       "( 5309.00,  9073.00] |     8\n",
       "( 9073.00, 12132.00] |     4\n",
       "(12132.00, 17816.00] |     1\n",
       "(17816.00, 22361.00] |     2"
      ]
     },
     "execution_count": 27,
     "metadata": {},
     "output_type": "execute_result"
    }
   ],
   "source": [
    "numpy.random.seed(12345)\n",
    "fj5 = mapclassify.FisherJenks(mx['PCGDP1940'], k=5)\n",
    "fj5"
   ]
  },
  {
   "cell_type": "markdown",
   "metadata": {},
   "source": [
    "### Max-p\n",
    "\n",
    "Finally, the max-p classifiers adopts the algorithm underlying the max-p region\n",
    "building method (Duque, Anselin and Rey, 2012) to the case of map classification. It is similar in spirit to\n",
    "Jenks Caspall in that it considers greedy swapping between adjacent classes to\n",
    "improve the objective function. It is a heuristic, however, so unlike\n",
    "Fisher-Jenks, there is no optimial solution guaranteed:"
   ]
  },
  {
   "cell_type": "code",
   "execution_count": 28,
   "metadata": {},
   "outputs": [
    {
     "data": {
      "text/plain": [
       "MaxP                        \n",
       "\n",
       "      Interval         Count\n",
       "----------------------------\n",
       "[ 1892.00,  3569.00] |     7\n",
       "( 3569.00,  5309.00] |    10\n",
       "( 5309.00,  7990.00] |     5\n",
       "( 7990.00, 10384.00] |     5\n",
       "(10384.00, 22361.00] |     5"
      ]
     },
     "execution_count": 28,
     "metadata": {},
     "output_type": "execute_result"
    }
   ],
   "source": [
    "mp5 = mapclassify.MaxP(mx['PCGDP1940'], k=5)\n",
    "mp5"
   ]
  },
  {
   "cell_type": "markdown",
   "metadata": {},
   "source": [
    "### Comparing Classification schemes\n",
    "\n",
    "As a special case of clustering, the definition of\n",
    "the number of classes and the class boundaries pose a problem to the map\n",
    "designer. Recall that the Freedman-Diaconis rule was said to be optimal,\n",
    "however, the optimality necessitates the specification of an objective function.\n",
    "In the case of Freedman-Diaconis, the objective function is to minimize the\n",
    "difference between the area under estimated kernel density based on the sample\n",
    "and the area under the theoretical population distribution that generated the\n",
    "sample.\n",
    "\n",
    "This notion of statistical fit is an important one. However, it is not the\n",
    "only consideration when evaluating classifiers for the purpose of choropleth\n",
    "mapping. Also relevant is the spatial distribution of the attribute values and\n",
    "the ability of the classifier to convey a sense of that spatial distribution. As\n",
    "we shall see, this is not necessarily directly related to the statistical\n",
    "distribution of the attribute values. We will return to a joint consideration of both\n",
    "the statistical and spatial distribution of the attribute values in comparison\n",
    "of classifiers below.\n",
    "\n",
    "For map classification, one optimiality criterion that\n",
    "can be used is a measure of fit. In PySAL the \"absolute deviation around class\n",
    "medians\" (ADCM) is calculated and provides a measure of fit that allows for\n",
    "comparison of alternative classifiers for the same value of $k$.\n",
    "\n",
    "To see this, we can compare different classifiers for $k=5$ on the Mexico data:"
   ]
  },
  {
   "cell_type": "code",
   "execution_count": 29,
   "metadata": {},
   "outputs": [
    {
     "data": {
      "image/png": "[encoded data removed]",
      "text/plain": [
       "<Figure size 432x288 with 1 Axes>"
      ]
     },
     "metadata": {
      "needs_background": "light"
     },
     "output_type": "display_data"
    }
   ],
   "source": [
    "class5 = q5, ei5, ht, mb5, msd, fj5, jc5\n",
    "fits = numpy.array([ c.adcm for c in class5])\n",
    "data = pandas.DataFrame(fits)\n",
    "data['classifier'] = [c.name for c in class5]\n",
    "data.columns = ['ADCM', 'Classifier']\n",
    "ax = seaborn.barplot(y='Classifier', x='ADCM', data=data)"
   ]
  },
  {
   "cell_type": "markdown",
   "metadata": {},
   "source": [
    "As is to be expected, the Fisher-Jenks classifier dominates all other k=5\n",
    "classifiers with an ACDM of 23,729. Interestingly, the equal interval classifier\n",
    "performs well despite the problems associated with being sensitive to the\n",
    "extreme values in the distribution. The mean-standard deviation classifier has a\n",
    "very poor fit due to the skewed nature of the data and the concentrated\n",
    "assignment of the majority of the observations to the central class.\n",
    "\n",
    "The ADCM provides a global measure of fit which can be used to compare the\n",
    "alternative classifiers. As a complement to this global perspective, it can be\n",
    "revealing to consider how each of the spatial observations was classified across\n",
    "the alternative approaches. To do this we can add the class bin attribute (`yb`)\n",
    "generated by the PySAL classifiers as additional columns in the data frame and\n",
    "present these jointly in a table:"
   ]
  },
  {
   "cell_type": "code",
   "execution_count": 30,
   "metadata": {},
   "outputs": [],
   "source": [
    "mx['q540'] = q5.yb\n",
    "mx['ei540'] = ei5.yb\n",
    "mx['ht40'] = ht.yb\n",
    "mx['mb540'] = mb5.yb\n",
    "mx['msd40'] = msd.yb\n",
    "mx['fj540'] = fj5.yb\n",
    "mx['jc540'] = jc5.yb"
   ]
  },
  {
   "cell_type": "code",
   "execution_count": 31,
   "metadata": {},
   "outputs": [],
   "source": [
    "mxs = mx.sort_values('PCGDP1940')"
   ]
  },
  {
   "cell_type": "code",
   "execution_count": 32,
   "metadata": {},
   "outputs": [],
   "source": [
    "def highlight_values(val):\n",
    "    if val==0:\n",
    "        return 'background-color: %s' % '#ffffff'\n",
    "    elif val==1:\n",
    "        return 'background-color: %s' % '#e0ffff'\n",
    "    elif val==2:\n",
    "        return 'background-color: %s' % '#b3ffff'\n",
    "    elif val==3:\n",
    "        return 'background-color: %s' % '#87ffff'\n",
    "    elif val==4:\n",
    "        return 'background-color: %s' % '#62e4ff'\n",
    "    else:\n",
    "        return ''"
   ]
  },
  {
   "cell_type": "code",
   "execution_count": 33,
   "metadata": {
    "scrolled": true
   },
   "outputs": [
    {
     "data": {
      "text/html": [
       "<style  type=\"text/css\" >\n",
       "    #T_c95c973a_beae_11e9_bb3f_a08869e1ce9arow0_col2 {\n",
       "            background-color:  #ffffff;\n",
       "        }    #T_c95c973a_beae_11e9_bb3f_a08869e1ce9arow0_col3 {\n",
       "            background-color:  #ffffff;\n",
       "        }    #T_c95c973a_beae_11e9_bb3f_a08869e1ce9arow0_col4 {\n",
       "            background-color:  #ffffff;\n",
       "        }    #T_c95c973a_beae_11e9_bb3f_a08869e1ce9arow0_col5 {\n",
       "            background-color:  #ffffff;\n",
       "        }    #T_c95c973a_beae_11e9_bb3f_a08869e1ce9arow0_col6 {\n",
       "            background-color:  #e0ffff;\n",
       "        }    #T_c95c973a_beae_11e9_bb3f_a08869e1ce9arow0_col7 {\n",
       "            background-color:  #ffffff;\n",
       "        }    #T_c95c973a_beae_11e9_bb3f_a08869e1ce9arow0_col8 {\n",
       "            background-color:  #ffffff;\n",
       "        }    #T_c95c973a_beae_11e9_bb3f_a08869e1ce9arow1_col2 {\n",
       "            background-color:  #ffffff;\n",
       "        }    #T_c95c973a_beae_11e9_bb3f_a08869e1ce9arow1_col3 {\n",
       "            background-color:  #ffffff;\n",
       "        }    #T_c95c973a_beae_11e9_bb3f_a08869e1ce9arow1_col4 {\n",
       "            background-color:  #ffffff;\n",
       "        }    #T_c95c973a_beae_11e9_bb3f_a08869e1ce9arow1_col5 {\n",
       "            background-color:  #ffffff;\n",
       "        }    #T_c95c973a_beae_11e9_bb3f_a08869e1ce9arow1_col6 {\n",
       "            background-color:  #b3ffff;\n",
       "        }    #T_c95c973a_beae_11e9_bb3f_a08869e1ce9arow1_col7 {\n",
       "            background-color:  #ffffff;\n",
       "        }    #T_c95c973a_beae_11e9_bb3f_a08869e1ce9arow1_col8 {\n",
       "            background-color:  #ffffff;\n",
       "        }    #T_c95c973a_beae_11e9_bb3f_a08869e1ce9arow2_col2 {\n",
       "            background-color:  #ffffff;\n",
       "        }    #T_c95c973a_beae_11e9_bb3f_a08869e1ce9arow2_col3 {\n",
       "            background-color:  #ffffff;\n",
       "        }    #T_c95c973a_beae_11e9_bb3f_a08869e1ce9arow2_col4 {\n",
       "            background-color:  #ffffff;\n",
       "        }    #T_c95c973a_beae_11e9_bb3f_a08869e1ce9arow2_col5 {\n",
       "            background-color:  #ffffff;\n",
       "        }    #T_c95c973a_beae_11e9_bb3f_a08869e1ce9arow2_col6 {\n",
       "            background-color:  #b3ffff;\n",
       "        }    #T_c95c973a_beae_11e9_bb3f_a08869e1ce9arow2_col7 {\n",
       "            background-color:  #ffffff;\n",
       "        }    #T_c95c973a_beae_11e9_bb3f_a08869e1ce9arow2_col8 {\n",
       "            background-color:  #ffffff;\n",
       "        }    #T_c95c973a_beae_11e9_bb3f_a08869e1ce9arow3_col2 {\n",
       "            background-color:  #ffffff;\n",
       "        }    #T_c95c973a_beae_11e9_bb3f_a08869e1ce9arow3_col3 {\n",
       "            background-color:  #ffffff;\n",
       "        }    #T_c95c973a_beae_11e9_bb3f_a08869e1ce9arow3_col4 {\n",
       "            background-color:  #ffffff;\n",
       "        }    #T_c95c973a_beae_11e9_bb3f_a08869e1ce9arow3_col5 {\n",
       "            background-color:  #ffffff;\n",
       "        }    #T_c95c973a_beae_11e9_bb3f_a08869e1ce9arow3_col6 {\n",
       "            background-color:  #b3ffff;\n",
       "        }    #T_c95c973a_beae_11e9_bb3f_a08869e1ce9arow3_col7 {\n",
       "            background-color:  #ffffff;\n",
       "        }    #T_c95c973a_beae_11e9_bb3f_a08869e1ce9arow3_col8 {\n",
       "            background-color:  #ffffff;\n",
       "        }    #T_c95c973a_beae_11e9_bb3f_a08869e1ce9arow4_col2 {\n",
       "            background-color:  #ffffff;\n",
       "        }    #T_c95c973a_beae_11e9_bb3f_a08869e1ce9arow4_col3 {\n",
       "            background-color:  #ffffff;\n",
       "        }    #T_c95c973a_beae_11e9_bb3f_a08869e1ce9arow4_col4 {\n",
       "            background-color:  #ffffff;\n",
       "        }    #T_c95c973a_beae_11e9_bb3f_a08869e1ce9arow4_col5 {\n",
       "            background-color:  #ffffff;\n",
       "        }    #T_c95c973a_beae_11e9_bb3f_a08869e1ce9arow4_col6 {\n",
       "            background-color:  #b3ffff;\n",
       "        }    #T_c95c973a_beae_11e9_bb3f_a08869e1ce9arow4_col7 {\n",
       "            background-color:  #ffffff;\n",
       "        }    #T_c95c973a_beae_11e9_bb3f_a08869e1ce9arow4_col8 {\n",
       "            background-color:  #e0ffff;\n",
       "        }    #T_c95c973a_beae_11e9_bb3f_a08869e1ce9arow5_col2 {\n",
       "            background-color:  #ffffff;\n",
       "        }    #T_c95c973a_beae_11e9_bb3f_a08869e1ce9arow5_col3 {\n",
       "            background-color:  #ffffff;\n",
       "        }    #T_c95c973a_beae_11e9_bb3f_a08869e1ce9arow5_col4 {\n",
       "            background-color:  #ffffff;\n",
       "        }    #T_c95c973a_beae_11e9_bb3f_a08869e1ce9arow5_col5 {\n",
       "            background-color:  #ffffff;\n",
       "        }    #T_c95c973a_beae_11e9_bb3f_a08869e1ce9arow5_col6 {\n",
       "            background-color:  #b3ffff;\n",
       "        }    #T_c95c973a_beae_11e9_bb3f_a08869e1ce9arow5_col7 {\n",
       "            background-color:  #ffffff;\n",
       "        }    #T_c95c973a_beae_11e9_bb3f_a08869e1ce9arow5_col8 {\n",
       "            background-color:  #e0ffff;\n",
       "        }    #T_c95c973a_beae_11e9_bb3f_a08869e1ce9arow6_col2 {\n",
       "            background-color:  #ffffff;\n",
       "        }    #T_c95c973a_beae_11e9_bb3f_a08869e1ce9arow6_col3 {\n",
       "            background-color:  #ffffff;\n",
       "        }    #T_c95c973a_beae_11e9_bb3f_a08869e1ce9arow6_col4 {\n",
       "            background-color:  #ffffff;\n",
       "        }    #T_c95c973a_beae_11e9_bb3f_a08869e1ce9arow6_col5 {\n",
       "            background-color:  #ffffff;\n",
       "        }    #T_c95c973a_beae_11e9_bb3f_a08869e1ce9arow6_col6 {\n",
       "            background-color:  #b3ffff;\n",
       "        }    #T_c95c973a_beae_11e9_bb3f_a08869e1ce9arow6_col7 {\n",
       "            background-color:  #ffffff;\n",
       "        }    #T_c95c973a_beae_11e9_bb3f_a08869e1ce9arow6_col8 {\n",
       "            background-color:  #e0ffff;\n",
       "        }    #T_c95c973a_beae_11e9_bb3f_a08869e1ce9arow7_col2 {\n",
       "            background-color:  #e0ffff;\n",
       "        }    #T_c95c973a_beae_11e9_bb3f_a08869e1ce9arow7_col3 {\n",
       "            background-color:  #ffffff;\n",
       "        }    #T_c95c973a_beae_11e9_bb3f_a08869e1ce9arow7_col4 {\n",
       "            background-color:  #ffffff;\n",
       "        }    #T_c95c973a_beae_11e9_bb3f_a08869e1ce9arow7_col5 {\n",
       "            background-color:  #ffffff;\n",
       "        }    #T_c95c973a_beae_11e9_bb3f_a08869e1ce9arow7_col6 {\n",
       "            background-color:  #b3ffff;\n",
       "        }    #T_c95c973a_beae_11e9_bb3f_a08869e1ce9arow7_col7 {\n",
       "            background-color:  #ffffff;\n",
       "        }    #T_c95c973a_beae_11e9_bb3f_a08869e1ce9arow7_col8 {\n",
       "            background-color:  #e0ffff;\n",
       "        }    #T_c95c973a_beae_11e9_bb3f_a08869e1ce9arow8_col2 {\n",
       "            background-color:  #e0ffff;\n",
       "        }    #T_c95c973a_beae_11e9_bb3f_a08869e1ce9arow8_col3 {\n",
       "            background-color:  #ffffff;\n",
       "        }    #T_c95c973a_beae_11e9_bb3f_a08869e1ce9arow8_col4 {\n",
       "            background-color:  #ffffff;\n",
       "        }    #T_c95c973a_beae_11e9_bb3f_a08869e1ce9arow8_col5 {\n",
       "            background-color:  #ffffff;\n",
       "        }    #T_c95c973a_beae_11e9_bb3f_a08869e1ce9arow8_col6 {\n",
       "            background-color:  #b3ffff;\n",
       "        }    #T_c95c973a_beae_11e9_bb3f_a08869e1ce9arow8_col7 {\n",
       "            background-color:  #ffffff;\n",
       "        }    #T_c95c973a_beae_11e9_bb3f_a08869e1ce9arow8_col8 {\n",
       "            background-color:  #e0ffff;\n",
       "        }    #T_c95c973a_beae_11e9_bb3f_a08869e1ce9arow9_col2 {\n",
       "            background-color:  #e0ffff;\n",
       "        }    #T_c95c973a_beae_11e9_bb3f_a08869e1ce9arow9_col3 {\n",
       "            background-color:  #ffffff;\n",
       "        }    #T_c95c973a_beae_11e9_bb3f_a08869e1ce9arow9_col4 {\n",
       "            background-color:  #ffffff;\n",
       "        }    #T_c95c973a_beae_11e9_bb3f_a08869e1ce9arow9_col5 {\n",
       "            background-color:  #ffffff;\n",
       "        }    #T_c95c973a_beae_11e9_bb3f_a08869e1ce9arow9_col6 {\n",
       "            background-color:  #b3ffff;\n",
       "        }    #T_c95c973a_beae_11e9_bb3f_a08869e1ce9arow9_col7 {\n",
       "            background-color:  #ffffff;\n",
       "        }    #T_c95c973a_beae_11e9_bb3f_a08869e1ce9arow9_col8 {\n",
       "            background-color:  #e0ffff;\n",
       "        }    #T_c95c973a_beae_11e9_bb3f_a08869e1ce9arow10_col2 {\n",
       "            background-color:  #e0ffff;\n",
       "        }    #T_c95c973a_beae_11e9_bb3f_a08869e1ce9arow10_col3 {\n",
       "            background-color:  #ffffff;\n",
       "        }    #T_c95c973a_beae_11e9_bb3f_a08869e1ce9arow10_col4 {\n",
       "            background-color:  #ffffff;\n",
       "        }    #T_c95c973a_beae_11e9_bb3f_a08869e1ce9arow10_col5 {\n",
       "            background-color:  #ffffff;\n",
       "        }    #T_c95c973a_beae_11e9_bb3f_a08869e1ce9arow10_col6 {\n",
       "            background-color:  #b3ffff;\n",
       "        }    #T_c95c973a_beae_11e9_bb3f_a08869e1ce9arow10_col7 {\n",
       "            background-color:  #ffffff;\n",
       "        }    #T_c95c973a_beae_11e9_bb3f_a08869e1ce9arow10_col8 {\n",
       "            background-color:  #e0ffff;\n",
       "        }    #T_c95c973a_beae_11e9_bb3f_a08869e1ce9arow11_col2 {\n",
       "            background-color:  #e0ffff;\n",
       "        }    #T_c95c973a_beae_11e9_bb3f_a08869e1ce9arow11_col3 {\n",
       "            background-color:  #ffffff;\n",
       "        }    #T_c95c973a_beae_11e9_bb3f_a08869e1ce9arow11_col4 {\n",
       "            background-color:  #ffffff;\n",
       "        }    #T_c95c973a_beae_11e9_bb3f_a08869e1ce9arow11_col5 {\n",
       "            background-color:  #ffffff;\n",
       "        }    #T_c95c973a_beae_11e9_bb3f_a08869e1ce9arow11_col6 {\n",
       "            background-color:  #b3ffff;\n",
       "        }    #T_c95c973a_beae_11e9_bb3f_a08869e1ce9arow11_col7 {\n",
       "            background-color:  #ffffff;\n",
       "        }    #T_c95c973a_beae_11e9_bb3f_a08869e1ce9arow11_col8 {\n",
       "            background-color:  #e0ffff;\n",
       "        }    #T_c95c973a_beae_11e9_bb3f_a08869e1ce9arow12_col2 {\n",
       "            background-color:  #e0ffff;\n",
       "        }    #T_c95c973a_beae_11e9_bb3f_a08869e1ce9arow12_col3 {\n",
       "            background-color:  #ffffff;\n",
       "        }    #T_c95c973a_beae_11e9_bb3f_a08869e1ce9arow12_col4 {\n",
       "            background-color:  #ffffff;\n",
       "        }    #T_c95c973a_beae_11e9_bb3f_a08869e1ce9arow12_col5 {\n",
       "            background-color:  #ffffff;\n",
       "        }    #T_c95c973a_beae_11e9_bb3f_a08869e1ce9arow12_col6 {\n",
       "            background-color:  #b3ffff;\n",
       "        }    #T_c95c973a_beae_11e9_bb3f_a08869e1ce9arow12_col7 {\n",
       "            background-color:  #ffffff;\n",
       "        }    #T_c95c973a_beae_11e9_bb3f_a08869e1ce9arow12_col8 {\n",
       "            background-color:  #e0ffff;\n",
       "        }    #T_c95c973a_beae_11e9_bb3f_a08869e1ce9arow13_col2 {\n",
       "            background-color:  #b3ffff;\n",
       "        }    #T_c95c973a_beae_11e9_bb3f_a08869e1ce9arow13_col3 {\n",
       "            background-color:  #ffffff;\n",
       "        }    #T_c95c973a_beae_11e9_bb3f_a08869e1ce9arow13_col4 {\n",
       "            background-color:  #ffffff;\n",
       "        }    #T_c95c973a_beae_11e9_bb3f_a08869e1ce9arow13_col5 {\n",
       "            background-color:  #ffffff;\n",
       "        }    #T_c95c973a_beae_11e9_bb3f_a08869e1ce9arow13_col6 {\n",
       "            background-color:  #b3ffff;\n",
       "        }    #T_c95c973a_beae_11e9_bb3f_a08869e1ce9arow13_col7 {\n",
       "            background-color:  #ffffff;\n",
       "        }    #T_c95c973a_beae_11e9_bb3f_a08869e1ce9arow13_col8 {\n",
       "            background-color:  #b3ffff;\n",
       "        }    #T_c95c973a_beae_11e9_bb3f_a08869e1ce9arow14_col2 {\n",
       "            background-color:  #b3ffff;\n",
       "        }    #T_c95c973a_beae_11e9_bb3f_a08869e1ce9arow14_col3 {\n",
       "            background-color:  #ffffff;\n",
       "        }    #T_c95c973a_beae_11e9_bb3f_a08869e1ce9arow14_col4 {\n",
       "            background-color:  #ffffff;\n",
       "        }    #T_c95c973a_beae_11e9_bb3f_a08869e1ce9arow14_col5 {\n",
       "            background-color:  #ffffff;\n",
       "        }    #T_c95c973a_beae_11e9_bb3f_a08869e1ce9arow14_col6 {\n",
       "            background-color:  #b3ffff;\n",
       "        }    #T_c95c973a_beae_11e9_bb3f_a08869e1ce9arow14_col7 {\n",
       "            background-color:  #ffffff;\n",
       "        }    #T_c95c973a_beae_11e9_bb3f_a08869e1ce9arow14_col8 {\n",
       "            background-color:  #b3ffff;\n",
       "        }    #T_c95c973a_beae_11e9_bb3f_a08869e1ce9arow15_col2 {\n",
       "            background-color:  #b3ffff;\n",
       "        }    #T_c95c973a_beae_11e9_bb3f_a08869e1ce9arow15_col3 {\n",
       "            background-color:  #ffffff;\n",
       "        }    #T_c95c973a_beae_11e9_bb3f_a08869e1ce9arow15_col4 {\n",
       "            background-color:  #ffffff;\n",
       "        }    #T_c95c973a_beae_11e9_bb3f_a08869e1ce9arow15_col5 {\n",
       "            background-color:  #ffffff;\n",
       "        }    #T_c95c973a_beae_11e9_bb3f_a08869e1ce9arow15_col6 {\n",
       "            background-color:  #b3ffff;\n",
       "        }    #T_c95c973a_beae_11e9_bb3f_a08869e1ce9arow15_col7 {\n",
       "            background-color:  #ffffff;\n",
       "        }    #T_c95c973a_beae_11e9_bb3f_a08869e1ce9arow15_col8 {\n",
       "            background-color:  #b3ffff;\n",
       "        }    #T_c95c973a_beae_11e9_bb3f_a08869e1ce9arow16_col2 {\n",
       "            background-color:  #b3ffff;\n",
       "        }    #T_c95c973a_beae_11e9_bb3f_a08869e1ce9arow16_col3 {\n",
       "            background-color:  #ffffff;\n",
       "        }    #T_c95c973a_beae_11e9_bb3f_a08869e1ce9arow16_col4 {\n",
       "            background-color:  #ffffff;\n",
       "        }    #T_c95c973a_beae_11e9_bb3f_a08869e1ce9arow16_col5 {\n",
       "            background-color:  #ffffff;\n",
       "        }    #T_c95c973a_beae_11e9_bb3f_a08869e1ce9arow16_col6 {\n",
       "            background-color:  #b3ffff;\n",
       "        }    #T_c95c973a_beae_11e9_bb3f_a08869e1ce9arow16_col7 {\n",
       "            background-color:  #ffffff;\n",
       "        }    #T_c95c973a_beae_11e9_bb3f_a08869e1ce9arow16_col8 {\n",
       "            background-color:  #b3ffff;\n",
       "        }    #T_c95c973a_beae_11e9_bb3f_a08869e1ce9arow17_col2 {\n",
       "            background-color:  #b3ffff;\n",
       "        }    #T_c95c973a_beae_11e9_bb3f_a08869e1ce9arow17_col3 {\n",
       "            background-color:  #e0ffff;\n",
       "        }    #T_c95c973a_beae_11e9_bb3f_a08869e1ce9arow17_col4 {\n",
       "            background-color:  #ffffff;\n",
       "        }    #T_c95c973a_beae_11e9_bb3f_a08869e1ce9arow17_col5 {\n",
       "            background-color:  #e0ffff;\n",
       "        }    #T_c95c973a_beae_11e9_bb3f_a08869e1ce9arow17_col6 {\n",
       "            background-color:  #b3ffff;\n",
       "        }    #T_c95c973a_beae_11e9_bb3f_a08869e1ce9arow17_col7 {\n",
       "            background-color:  #e0ffff;\n",
       "        }    #T_c95c973a_beae_11e9_bb3f_a08869e1ce9arow17_col8 {\n",
       "            background-color:  #b3ffff;\n",
       "        }    #T_c95c973a_beae_11e9_bb3f_a08869e1ce9arow18_col2 {\n",
       "            background-color:  #b3ffff;\n",
       "        }    #T_c95c973a_beae_11e9_bb3f_a08869e1ce9arow18_col3 {\n",
       "            background-color:  #e0ffff;\n",
       "        }    #T_c95c973a_beae_11e9_bb3f_a08869e1ce9arow18_col4 {\n",
       "            background-color:  #ffffff;\n",
       "        }    #T_c95c973a_beae_11e9_bb3f_a08869e1ce9arow18_col5 {\n",
       "            background-color:  #e0ffff;\n",
       "        }    #T_c95c973a_beae_11e9_bb3f_a08869e1ce9arow18_col6 {\n",
       "            background-color:  #b3ffff;\n",
       "        }    #T_c95c973a_beae_11e9_bb3f_a08869e1ce9arow18_col7 {\n",
       "            background-color:  #e0ffff;\n",
       "        }    #T_c95c973a_beae_11e9_bb3f_a08869e1ce9arow18_col8 {\n",
       "            background-color:  #87ffff;\n",
       "        }    #T_c95c973a_beae_11e9_bb3f_a08869e1ce9arow19_col2 {\n",
       "            background-color:  #87ffff;\n",
       "        }    #T_c95c973a_beae_11e9_bb3f_a08869e1ce9arow19_col3 {\n",
       "            background-color:  #e0ffff;\n",
       "        }    #T_c95c973a_beae_11e9_bb3f_a08869e1ce9arow19_col4 {\n",
       "            background-color:  #ffffff;\n",
       "        }    #T_c95c973a_beae_11e9_bb3f_a08869e1ce9arow19_col5 {\n",
       "            background-color:  #e0ffff;\n",
       "        }    #T_c95c973a_beae_11e9_bb3f_a08869e1ce9arow19_col6 {\n",
       "            background-color:  #b3ffff;\n",
       "        }    #T_c95c973a_beae_11e9_bb3f_a08869e1ce9arow19_col7 {\n",
       "            background-color:  #e0ffff;\n",
       "        }    #T_c95c973a_beae_11e9_bb3f_a08869e1ce9arow19_col8 {\n",
       "            background-color:  #87ffff;\n",
       "        }    #T_c95c973a_beae_11e9_bb3f_a08869e1ce9arow20_col2 {\n",
       "            background-color:  #87ffff;\n",
       "        }    #T_c95c973a_beae_11e9_bb3f_a08869e1ce9arow20_col3 {\n",
       "            background-color:  #e0ffff;\n",
       "        }    #T_c95c973a_beae_11e9_bb3f_a08869e1ce9arow20_col4 {\n",
       "            background-color:  #e0ffff;\n",
       "        }    #T_c95c973a_beae_11e9_bb3f_a08869e1ce9arow20_col5 {\n",
       "            background-color:  #e0ffff;\n",
       "        }    #T_c95c973a_beae_11e9_bb3f_a08869e1ce9arow20_col6 {\n",
       "            background-color:  #b3ffff;\n",
       "        }    #T_c95c973a_beae_11e9_bb3f_a08869e1ce9arow20_col7 {\n",
       "            background-color:  #e0ffff;\n",
       "        }    #T_c95c973a_beae_11e9_bb3f_a08869e1ce9arow20_col8 {\n",
       "            background-color:  #87ffff;\n",
       "        }    #T_c95c973a_beae_11e9_bb3f_a08869e1ce9arow21_col2 {\n",
       "            background-color:  #87ffff;\n",
       "        }    #T_c95c973a_beae_11e9_bb3f_a08869e1ce9arow21_col3 {\n",
       "            background-color:  #e0ffff;\n",
       "        }    #T_c95c973a_beae_11e9_bb3f_a08869e1ce9arow21_col4 {\n",
       "            background-color:  #e0ffff;\n",
       "        }    #T_c95c973a_beae_11e9_bb3f_a08869e1ce9arow21_col5 {\n",
       "            background-color:  #e0ffff;\n",
       "        }    #T_c95c973a_beae_11e9_bb3f_a08869e1ce9arow21_col6 {\n",
       "            background-color:  #b3ffff;\n",
       "        }    #T_c95c973a_beae_11e9_bb3f_a08869e1ce9arow21_col7 {\n",
       "            background-color:  #e0ffff;\n",
       "        }    #T_c95c973a_beae_11e9_bb3f_a08869e1ce9arow21_col8 {\n",
       "            background-color:  #87ffff;\n",
       "        }    #T_c95c973a_beae_11e9_bb3f_a08869e1ce9arow22_col2 {\n",
       "            background-color:  #87ffff;\n",
       "        }    #T_c95c973a_beae_11e9_bb3f_a08869e1ce9arow22_col3 {\n",
       "            background-color:  #e0ffff;\n",
       "        }    #T_c95c973a_beae_11e9_bb3f_a08869e1ce9arow22_col4 {\n",
       "            background-color:  #e0ffff;\n",
       "        }    #T_c95c973a_beae_11e9_bb3f_a08869e1ce9arow22_col5 {\n",
       "            background-color:  #e0ffff;\n",
       "        }    #T_c95c973a_beae_11e9_bb3f_a08869e1ce9arow22_col6 {\n",
       "            background-color:  #b3ffff;\n",
       "        }    #T_c95c973a_beae_11e9_bb3f_a08869e1ce9arow22_col7 {\n",
       "            background-color:  #e0ffff;\n",
       "        }    #T_c95c973a_beae_11e9_bb3f_a08869e1ce9arow22_col8 {\n",
       "            background-color:  #87ffff;\n",
       "        }    #T_c95c973a_beae_11e9_bb3f_a08869e1ce9arow23_col2 {\n",
       "            background-color:  #87ffff;\n",
       "        }    #T_c95c973a_beae_11e9_bb3f_a08869e1ce9arow23_col3 {\n",
       "            background-color:  #e0ffff;\n",
       "        }    #T_c95c973a_beae_11e9_bb3f_a08869e1ce9arow23_col4 {\n",
       "            background-color:  #e0ffff;\n",
       "        }    #T_c95c973a_beae_11e9_bb3f_a08869e1ce9arow23_col5 {\n",
       "            background-color:  #e0ffff;\n",
       "        }    #T_c95c973a_beae_11e9_bb3f_a08869e1ce9arow23_col6 {\n",
       "            background-color:  #b3ffff;\n",
       "        }    #T_c95c973a_beae_11e9_bb3f_a08869e1ce9arow23_col7 {\n",
       "            background-color:  #e0ffff;\n",
       "        }    #T_c95c973a_beae_11e9_bb3f_a08869e1ce9arow23_col8 {\n",
       "            background-color:  #87ffff;\n",
       "        }    #T_c95c973a_beae_11e9_bb3f_a08869e1ce9arow24_col2 {\n",
       "            background-color:  #87ffff;\n",
       "        }    #T_c95c973a_beae_11e9_bb3f_a08869e1ce9arow24_col3 {\n",
       "            background-color:  #e0ffff;\n",
       "        }    #T_c95c973a_beae_11e9_bb3f_a08869e1ce9arow24_col4 {\n",
       "            background-color:  #e0ffff;\n",
       "        }    #T_c95c973a_beae_11e9_bb3f_a08869e1ce9arow24_col5 {\n",
       "            background-color:  #e0ffff;\n",
       "        }    #T_c95c973a_beae_11e9_bb3f_a08869e1ce9arow24_col6 {\n",
       "            background-color:  #b3ffff;\n",
       "        }    #T_c95c973a_beae_11e9_bb3f_a08869e1ce9arow24_col7 {\n",
       "            background-color:  #e0ffff;\n",
       "        }    #T_c95c973a_beae_11e9_bb3f_a08869e1ce9arow24_col8 {\n",
       "            background-color:  #87ffff;\n",
       "        }    #T_c95c973a_beae_11e9_bb3f_a08869e1ce9arow25_col2 {\n",
       "            background-color:  #62e4ff;\n",
       "        }    #T_c95c973a_beae_11e9_bb3f_a08869e1ce9arow25_col3 {\n",
       "            background-color:  #e0ffff;\n",
       "        }    #T_c95c973a_beae_11e9_bb3f_a08869e1ce9arow25_col4 {\n",
       "            background-color:  #e0ffff;\n",
       "        }    #T_c95c973a_beae_11e9_bb3f_a08869e1ce9arow25_col5 {\n",
       "            background-color:  #e0ffff;\n",
       "        }    #T_c95c973a_beae_11e9_bb3f_a08869e1ce9arow25_col6 {\n",
       "            background-color:  #b3ffff;\n",
       "        }    #T_c95c973a_beae_11e9_bb3f_a08869e1ce9arow25_col7 {\n",
       "            background-color:  #b3ffff;\n",
       "        }    #T_c95c973a_beae_11e9_bb3f_a08869e1ce9arow25_col8 {\n",
       "            background-color:  #87ffff;\n",
       "        }    #T_c95c973a_beae_11e9_bb3f_a08869e1ce9arow26_col2 {\n",
       "            background-color:  #62e4ff;\n",
       "        }    #T_c95c973a_beae_11e9_bb3f_a08869e1ce9arow26_col3 {\n",
       "            background-color:  #b3ffff;\n",
       "        }    #T_c95c973a_beae_11e9_bb3f_a08869e1ce9arow26_col4 {\n",
       "            background-color:  #e0ffff;\n",
       "        }    #T_c95c973a_beae_11e9_bb3f_a08869e1ce9arow26_col5 {\n",
       "            background-color:  #e0ffff;\n",
       "        }    #T_c95c973a_beae_11e9_bb3f_a08869e1ce9arow26_col6 {\n",
       "            background-color:  #b3ffff;\n",
       "        }    #T_c95c973a_beae_11e9_bb3f_a08869e1ce9arow26_col7 {\n",
       "            background-color:  #b3ffff;\n",
       "        }    #T_c95c973a_beae_11e9_bb3f_a08869e1ce9arow26_col8 {\n",
       "            background-color:  #87ffff;\n",
       "        }    #T_c95c973a_beae_11e9_bb3f_a08869e1ce9arow27_col2 {\n",
       "            background-color:  #62e4ff;\n",
       "        }    #T_c95c973a_beae_11e9_bb3f_a08869e1ce9arow27_col3 {\n",
       "            background-color:  #b3ffff;\n",
       "        }    #T_c95c973a_beae_11e9_bb3f_a08869e1ce9arow27_col4 {\n",
       "            background-color:  #e0ffff;\n",
       "        }    #T_c95c973a_beae_11e9_bb3f_a08869e1ce9arow27_col5 {\n",
       "            background-color:  #e0ffff;\n",
       "        }    #T_c95c973a_beae_11e9_bb3f_a08869e1ce9arow27_col6 {\n",
       "            background-color:  #b3ffff;\n",
       "        }    #T_c95c973a_beae_11e9_bb3f_a08869e1ce9arow27_col7 {\n",
       "            background-color:  #b3ffff;\n",
       "        }    #T_c95c973a_beae_11e9_bb3f_a08869e1ce9arow27_col8 {\n",
       "            background-color:  #87ffff;\n",
       "        }    #T_c95c973a_beae_11e9_bb3f_a08869e1ce9arow28_col2 {\n",
       "            background-color:  #62e4ff;\n",
       "        }    #T_c95c973a_beae_11e9_bb3f_a08869e1ce9arow28_col3 {\n",
       "            background-color:  #b3ffff;\n",
       "        }    #T_c95c973a_beae_11e9_bb3f_a08869e1ce9arow28_col4 {\n",
       "            background-color:  #e0ffff;\n",
       "        }    #T_c95c973a_beae_11e9_bb3f_a08869e1ce9arow28_col5 {\n",
       "            background-color:  #b3ffff;\n",
       "        }    #T_c95c973a_beae_11e9_bb3f_a08869e1ce9arow28_col6 {\n",
       "            background-color:  #b3ffff;\n",
       "        }    #T_c95c973a_beae_11e9_bb3f_a08869e1ce9arow28_col7 {\n",
       "            background-color:  #b3ffff;\n",
       "        }    #T_c95c973a_beae_11e9_bb3f_a08869e1ce9arow28_col8 {\n",
       "            background-color:  #87ffff;\n",
       "        }    #T_c95c973a_beae_11e9_bb3f_a08869e1ce9arow29_col2 {\n",
       "            background-color:  #62e4ff;\n",
       "        }    #T_c95c973a_beae_11e9_bb3f_a08869e1ce9arow29_col3 {\n",
       "            background-color:  #87ffff;\n",
       "        }    #T_c95c973a_beae_11e9_bb3f_a08869e1ce9arow29_col4 {\n",
       "            background-color:  #b3ffff;\n",
       "        }    #T_c95c973a_beae_11e9_bb3f_a08869e1ce9arow29_col5 {\n",
       "            background-color:  #87ffff;\n",
       "        }    #T_c95c973a_beae_11e9_bb3f_a08869e1ce9arow29_col6 {\n",
       "            background-color:  #62e4ff;\n",
       "        }    #T_c95c973a_beae_11e9_bb3f_a08869e1ce9arow29_col7 {\n",
       "            background-color:  #87ffff;\n",
       "        }    #T_c95c973a_beae_11e9_bb3f_a08869e1ce9arow29_col8 {\n",
       "            background-color:  #62e4ff;\n",
       "        }    #T_c95c973a_beae_11e9_bb3f_a08869e1ce9arow30_col2 {\n",
       "            background-color:  #62e4ff;\n",
       "        }    #T_c95c973a_beae_11e9_bb3f_a08869e1ce9arow30_col3 {\n",
       "            background-color:  #62e4ff;\n",
       "        }    #T_c95c973a_beae_11e9_bb3f_a08869e1ce9arow30_col4 {\n",
       "            background-color:  #87ffff;\n",
       "        }    #T_c95c973a_beae_11e9_bb3f_a08869e1ce9arow30_col5 {\n",
       "            background-color:  #62e4ff;\n",
       "        }    #T_c95c973a_beae_11e9_bb3f_a08869e1ce9arow30_col6 {\n",
       "            background-color:  #62e4ff;\n",
       "        }    #T_c95c973a_beae_11e9_bb3f_a08869e1ce9arow30_col7 {\n",
       "            background-color:  #62e4ff;\n",
       "        }    #T_c95c973a_beae_11e9_bb3f_a08869e1ce9arow30_col8 {\n",
       "            background-color:  #62e4ff;\n",
       "        }    #T_c95c973a_beae_11e9_bb3f_a08869e1ce9arow31_col2 {\n",
       "            background-color:  #62e4ff;\n",
       "        }    #T_c95c973a_beae_11e9_bb3f_a08869e1ce9arow31_col3 {\n",
       "            background-color:  #62e4ff;\n",
       "        }    #T_c95c973a_beae_11e9_bb3f_a08869e1ce9arow31_col4 {\n",
       "            background-color:  #62e4ff;\n",
       "        }    #T_c95c973a_beae_11e9_bb3f_a08869e1ce9arow31_col5 {\n",
       "            background-color:  #62e4ff;\n",
       "        }    #T_c95c973a_beae_11e9_bb3f_a08869e1ce9arow31_col6 {\n",
       "            background-color:  #62e4ff;\n",
       "        }    #T_c95c973a_beae_11e9_bb3f_a08869e1ce9arow31_col7 {\n",
       "            background-color:  #62e4ff;\n",
       "        }    #T_c95c973a_beae_11e9_bb3f_a08869e1ce9arow31_col8 {\n",
       "            background-color:  #62e4ff;\n",
       "        }</style><table id=\"T_c95c973a_beae_11e9_bb3f_a08869e1ce9a\" ><thead>    <tr>        <th class=\"blank level0\" ></th>        <th class=\"col_heading level0 col0\" >NAME</th>        <th class=\"col_heading level0 col1\" >PCGDP1940</th>        <th class=\"col_heading level0 col2\" >q540</th>        <th class=\"col_heading level0 col3\" >ei540</th>        <th class=\"col_heading level0 col4\" >ht40</th>        <th class=\"col_heading level0 col5\" >mb540</th>        <th class=\"col_heading level0 col6\" >msd40</th>        <th class=\"col_heading level0 col7\" >fj540</th>        <th class=\"col_heading level0 col8\" >jc540</th>    </tr></thead><tbody>\n",
       "                <tr>\n",
       "                        <th id=\"T_c95c973a_beae_11e9_bb3f_a08869e1ce9alevel0_row0\" class=\"row_heading level0 row0\" >19</th>\n",
       "                        <td id=\"T_c95c973a_beae_11e9_bb3f_a08869e1ce9arow0_col0\" class=\"data row0 col0\" >Oaxaca</td>\n",
       "                        <td id=\"T_c95c973a_beae_11e9_bb3f_a08869e1ce9arow0_col1\" class=\"data row0 col1\" >1892</td>\n",
       "                        <td id=\"T_c95c973a_beae_11e9_bb3f_a08869e1ce9arow0_col2\" class=\"data row0 col2\" >0</td>\n",
       "                        <td id=\"T_c95c973a_beae_11e9_bb3f_a08869e1ce9arow0_col3\" class=\"data row0 col3\" >0</td>\n",
       "                        <td id=\"T_c95c973a_beae_11e9_bb3f_a08869e1ce9arow0_col4\" class=\"data row0 col4\" >0</td>\n",
       "                        <td id=\"T_c95c973a_beae_11e9_bb3f_a08869e1ce9arow0_col5\" class=\"data row0 col5\" >0</td>\n",
       "                        <td id=\"T_c95c973a_beae_11e9_bb3f_a08869e1ce9arow0_col6\" class=\"data row0 col6\" >1</td>\n",
       "                        <td id=\"T_c95c973a_beae_11e9_bb3f_a08869e1ce9arow0_col7\" class=\"data row0 col7\" >0</td>\n",
       "                        <td id=\"T_c95c973a_beae_11e9_bb3f_a08869e1ce9arow0_col8\" class=\"data row0 col8\" >0</td>\n",
       "            </tr>\n",
       "            <tr>\n",
       "                        <th id=\"T_c95c973a_beae_11e9_bb3f_a08869e1ce9alevel0_row1\" class=\"row_heading level0 row1\" >18</th>\n",
       "                        <td id=\"T_c95c973a_beae_11e9_bb3f_a08869e1ce9arow1_col0\" class=\"data row1 col0\" >Guerrero</td>\n",
       "                        <td id=\"T_c95c973a_beae_11e9_bb3f_a08869e1ce9arow1_col1\" class=\"data row1 col1\" >2181</td>\n",
       "                        <td id=\"T_c95c973a_beae_11e9_bb3f_a08869e1ce9arow1_col2\" class=\"data row1 col2\" >0</td>\n",
       "                        <td id=\"T_c95c973a_beae_11e9_bb3f_a08869e1ce9arow1_col3\" class=\"data row1 col3\" >0</td>\n",
       "                        <td id=\"T_c95c973a_beae_11e9_bb3f_a08869e1ce9arow1_col4\" class=\"data row1 col4\" >0</td>\n",
       "                        <td id=\"T_c95c973a_beae_11e9_bb3f_a08869e1ce9arow1_col5\" class=\"data row1 col5\" >0</td>\n",
       "                        <td id=\"T_c95c973a_beae_11e9_bb3f_a08869e1ce9arow1_col6\" class=\"data row1 col6\" >2</td>\n",
       "                        <td id=\"T_c95c973a_beae_11e9_bb3f_a08869e1ce9arow1_col7\" class=\"data row1 col7\" >0</td>\n",
       "                        <td id=\"T_c95c973a_beae_11e9_bb3f_a08869e1ce9arow1_col8\" class=\"data row1 col8\" >0</td>\n",
       "            </tr>\n",
       "            <tr>\n",
       "                        <th id=\"T_c95c973a_beae_11e9_bb3f_a08869e1ce9alevel0_row2\" class=\"row_heading level0 row2\" >20</th>\n",
       "                        <td id=\"T_c95c973a_beae_11e9_bb3f_a08869e1ce9arow2_col0\" class=\"data row2 col0\" >Tabasco</td>\n",
       "                        <td id=\"T_c95c973a_beae_11e9_bb3f_a08869e1ce9arow2_col1\" class=\"data row2 col1\" >2459</td>\n",
       "                        <td id=\"T_c95c973a_beae_11e9_bb3f_a08869e1ce9arow2_col2\" class=\"data row2 col2\" >0</td>\n",
       "                        <td id=\"T_c95c973a_beae_11e9_bb3f_a08869e1ce9arow2_col3\" class=\"data row2 col3\" >0</td>\n",
       "                        <td id=\"T_c95c973a_beae_11e9_bb3f_a08869e1ce9arow2_col4\" class=\"data row2 col4\" >0</td>\n",
       "                        <td id=\"T_c95c973a_beae_11e9_bb3f_a08869e1ce9arow2_col5\" class=\"data row2 col5\" >0</td>\n",
       "                        <td id=\"T_c95c973a_beae_11e9_bb3f_a08869e1ce9arow2_col6\" class=\"data row2 col6\" >2</td>\n",
       "                        <td id=\"T_c95c973a_beae_11e9_bb3f_a08869e1ce9arow2_col7\" class=\"data row2 col7\" >0</td>\n",
       "                        <td id=\"T_c95c973a_beae_11e9_bb3f_a08869e1ce9arow2_col8\" class=\"data row2 col8\" >0</td>\n",
       "            </tr>\n",
       "            <tr>\n",
       "                        <th id=\"T_c95c973a_beae_11e9_bb3f_a08869e1ce9alevel0_row3\" class=\"row_heading level0 row3\" >21</th>\n",
       "                        <td id=\"T_c95c973a_beae_11e9_bb3f_a08869e1ce9arow3_col0\" class=\"data row3 col0\" >Chiapas</td>\n",
       "                        <td id=\"T_c95c973a_beae_11e9_bb3f_a08869e1ce9arow3_col1\" class=\"data row3 col1\" >2934</td>\n",
       "                        <td id=\"T_c95c973a_beae_11e9_bb3f_a08869e1ce9arow3_col2\" class=\"data row3 col2\" >0</td>\n",
       "                        <td id=\"T_c95c973a_beae_11e9_bb3f_a08869e1ce9arow3_col3\" class=\"data row3 col3\" >0</td>\n",
       "                        <td id=\"T_c95c973a_beae_11e9_bb3f_a08869e1ce9arow3_col4\" class=\"data row3 col4\" >0</td>\n",
       "                        <td id=\"T_c95c973a_beae_11e9_bb3f_a08869e1ce9arow3_col5\" class=\"data row3 col5\" >0</td>\n",
       "                        <td id=\"T_c95c973a_beae_11e9_bb3f_a08869e1ce9arow3_col6\" class=\"data row3 col6\" >2</td>\n",
       "                        <td id=\"T_c95c973a_beae_11e9_bb3f_a08869e1ce9arow3_col7\" class=\"data row3 col7\" >0</td>\n",
       "                        <td id=\"T_c95c973a_beae_11e9_bb3f_a08869e1ce9arow3_col8\" class=\"data row3 col8\" >0</td>\n",
       "            </tr>\n",
       "            <tr>\n",
       "                        <th id=\"T_c95c973a_beae_11e9_bb3f_a08869e1ce9alevel0_row4\" class=\"row_heading level0 row4\" >8</th>\n",
       "                        <td id=\"T_c95c973a_beae_11e9_bb3f_a08869e1ce9arow4_col0\" class=\"data row4 col0\" >Michoacan de Ocampo</td>\n",
       "                        <td id=\"T_c95c973a_beae_11e9_bb3f_a08869e1ce9arow4_col1\" class=\"data row4 col1\" >3327</td>\n",
       "                        <td id=\"T_c95c973a_beae_11e9_bb3f_a08869e1ce9arow4_col2\" class=\"data row4 col2\" >0</td>\n",
       "                        <td id=\"T_c95c973a_beae_11e9_bb3f_a08869e1ce9arow4_col3\" class=\"data row4 col3\" >0</td>\n",
       "                        <td id=\"T_c95c973a_beae_11e9_bb3f_a08869e1ce9arow4_col4\" class=\"data row4 col4\" >0</td>\n",
       "                        <td id=\"T_c95c973a_beae_11e9_bb3f_a08869e1ce9arow4_col5\" class=\"data row4 col5\" >0</td>\n",
       "                        <td id=\"T_c95c973a_beae_11e9_bb3f_a08869e1ce9arow4_col6\" class=\"data row4 col6\" >2</td>\n",
       "                        <td id=\"T_c95c973a_beae_11e9_bb3f_a08869e1ce9arow4_col7\" class=\"data row4 col7\" >0</td>\n",
       "                        <td id=\"T_c95c973a_beae_11e9_bb3f_a08869e1ce9arow4_col8\" class=\"data row4 col8\" >1</td>\n",
       "            </tr>\n",
       "            <tr>\n",
       "                        <th id=\"T_c95c973a_beae_11e9_bb3f_a08869e1ce9alevel0_row5\" class=\"row_heading level0 row5\" >9</th>\n",
       "                        <td id=\"T_c95c973a_beae_11e9_bb3f_a08869e1ce9arow5_col0\" class=\"data row5 col0\" >Mexico</td>\n",
       "                        <td id=\"T_c95c973a_beae_11e9_bb3f_a08869e1ce9arow5_col1\" class=\"data row5 col1\" >3408</td>\n",
       "                        <td id=\"T_c95c973a_beae_11e9_bb3f_a08869e1ce9arow5_col2\" class=\"data row5 col2\" >0</td>\n",
       "                        <td id=\"T_c95c973a_beae_11e9_bb3f_a08869e1ce9arow5_col3\" class=\"data row5 col3\" >0</td>\n",
       "                        <td id=\"T_c95c973a_beae_11e9_bb3f_a08869e1ce9arow5_col4\" class=\"data row5 col4\" >0</td>\n",
       "                        <td id=\"T_c95c973a_beae_11e9_bb3f_a08869e1ce9arow5_col5\" class=\"data row5 col5\" >0</td>\n",
       "                        <td id=\"T_c95c973a_beae_11e9_bb3f_a08869e1ce9arow5_col6\" class=\"data row5 col6\" >2</td>\n",
       "                        <td id=\"T_c95c973a_beae_11e9_bb3f_a08869e1ce9arow5_col7\" class=\"data row5 col7\" >0</td>\n",
       "                        <td id=\"T_c95c973a_beae_11e9_bb3f_a08869e1ce9arow5_col8\" class=\"data row5 col8\" >1</td>\n",
       "            </tr>\n",
       "            <tr>\n",
       "                        <th id=\"T_c95c973a_beae_11e9_bb3f_a08869e1ce9alevel0_row6\" class=\"row_heading level0 row6\" >15</th>\n",
       "                        <td id=\"T_c95c973a_beae_11e9_bb3f_a08869e1ce9arow6_col0\" class=\"data row6 col0\" >Puebla</td>\n",
       "                        <td id=\"T_c95c973a_beae_11e9_bb3f_a08869e1ce9arow6_col1\" class=\"data row6 col1\" >3569</td>\n",
       "                        <td id=\"T_c95c973a_beae_11e9_bb3f_a08869e1ce9arow6_col2\" class=\"data row6 col2\" >0</td>\n",
       "                        <td id=\"T_c95c973a_beae_11e9_bb3f_a08869e1ce9arow6_col3\" class=\"data row6 col3\" >0</td>\n",
       "                        <td id=\"T_c95c973a_beae_11e9_bb3f_a08869e1ce9arow6_col4\" class=\"data row6 col4\" >0</td>\n",
       "                        <td id=\"T_c95c973a_beae_11e9_bb3f_a08869e1ce9arow6_col5\" class=\"data row6 col5\" >0</td>\n",
       "                        <td id=\"T_c95c973a_beae_11e9_bb3f_a08869e1ce9arow6_col6\" class=\"data row6 col6\" >2</td>\n",
       "                        <td id=\"T_c95c973a_beae_11e9_bb3f_a08869e1ce9arow6_col7\" class=\"data row6 col7\" >0</td>\n",
       "                        <td id=\"T_c95c973a_beae_11e9_bb3f_a08869e1ce9arow6_col8\" class=\"data row6 col8\" >1</td>\n",
       "            </tr>\n",
       "            <tr>\n",
       "                        <th id=\"T_c95c973a_beae_11e9_bb3f_a08869e1ce9alevel0_row7\" class=\"row_heading level0 row7\" >17</th>\n",
       "                        <td id=\"T_c95c973a_beae_11e9_bb3f_a08869e1ce9arow7_col0\" class=\"data row7 col0\" >Tlaxcala</td>\n",
       "                        <td id=\"T_c95c973a_beae_11e9_bb3f_a08869e1ce9arow7_col1\" class=\"data row7 col1\" >3605</td>\n",
       "                        <td id=\"T_c95c973a_beae_11e9_bb3f_a08869e1ce9arow7_col2\" class=\"data row7 col2\" >1</td>\n",
       "                        <td id=\"T_c95c973a_beae_11e9_bb3f_a08869e1ce9arow7_col3\" class=\"data row7 col3\" >0</td>\n",
       "                        <td id=\"T_c95c973a_beae_11e9_bb3f_a08869e1ce9arow7_col4\" class=\"data row7 col4\" >0</td>\n",
       "                        <td id=\"T_c95c973a_beae_11e9_bb3f_a08869e1ce9arow7_col5\" class=\"data row7 col5\" >0</td>\n",
       "                        <td id=\"T_c95c973a_beae_11e9_bb3f_a08869e1ce9arow7_col6\" class=\"data row7 col6\" >2</td>\n",
       "                        <td id=\"T_c95c973a_beae_11e9_bb3f_a08869e1ce9arow7_col7\" class=\"data row7 col7\" >0</td>\n",
       "                        <td id=\"T_c95c973a_beae_11e9_bb3f_a08869e1ce9arow7_col8\" class=\"data row7 col8\" >1</td>\n",
       "            </tr>\n",
       "            <tr>\n",
       "                        <th id=\"T_c95c973a_beae_11e9_bb3f_a08869e1ce9alevel0_row8\" class=\"row_heading level0 row8\" >27</th>\n",
       "                        <td id=\"T_c95c973a_beae_11e9_bb3f_a08869e1ce9arow8_col0\" class=\"data row8 col0\" >Zacatecas</td>\n",
       "                        <td id=\"T_c95c973a_beae_11e9_bb3f_a08869e1ce9arow8_col1\" class=\"data row8 col1\" >3734</td>\n",
       "                        <td id=\"T_c95c973a_beae_11e9_bb3f_a08869e1ce9arow8_col2\" class=\"data row8 col2\" >1</td>\n",
       "                        <td id=\"T_c95c973a_beae_11e9_bb3f_a08869e1ce9arow8_col3\" class=\"data row8 col3\" >0</td>\n",
       "                        <td id=\"T_c95c973a_beae_11e9_bb3f_a08869e1ce9arow8_col4\" class=\"data row8 col4\" >0</td>\n",
       "                        <td id=\"T_c95c973a_beae_11e9_bb3f_a08869e1ce9arow8_col5\" class=\"data row8 col5\" >0</td>\n",
       "                        <td id=\"T_c95c973a_beae_11e9_bb3f_a08869e1ce9arow8_col6\" class=\"data row8 col6\" >2</td>\n",
       "                        <td id=\"T_c95c973a_beae_11e9_bb3f_a08869e1ce9arow8_col7\" class=\"data row8 col7\" >0</td>\n",
       "                        <td id=\"T_c95c973a_beae_11e9_bb3f_a08869e1ce9arow8_col8\" class=\"data row8 col8\" >1</td>\n",
       "            </tr>\n",
       "            <tr>\n",
       "                        <th id=\"T_c95c973a_beae_11e9_bb3f_a08869e1ce9alevel0_row9\" class=\"row_heading level0 row9\" >14</th>\n",
       "                        <td id=\"T_c95c973a_beae_11e9_bb3f_a08869e1ce9arow9_col0\" class=\"data row9 col0\" >Campeche</td>\n",
       "                        <td id=\"T_c95c973a_beae_11e9_bb3f_a08869e1ce9arow9_col1\" class=\"data row9 col1\" >3758</td>\n",
       "                        <td id=\"T_c95c973a_beae_11e9_bb3f_a08869e1ce9arow9_col2\" class=\"data row9 col2\" >1</td>\n",
       "                        <td id=\"T_c95c973a_beae_11e9_bb3f_a08869e1ce9arow9_col3\" class=\"data row9 col3\" >0</td>\n",
       "                        <td id=\"T_c95c973a_beae_11e9_bb3f_a08869e1ce9arow9_col4\" class=\"data row9 col4\" >0</td>\n",
       "                        <td id=\"T_c95c973a_beae_11e9_bb3f_a08869e1ce9arow9_col5\" class=\"data row9 col5\" >0</td>\n",
       "                        <td id=\"T_c95c973a_beae_11e9_bb3f_a08869e1ce9arow9_col6\" class=\"data row9 col6\" >2</td>\n",
       "                        <td id=\"T_c95c973a_beae_11e9_bb3f_a08869e1ce9arow9_col7\" class=\"data row9 col7\" >0</td>\n",
       "                        <td id=\"T_c95c973a_beae_11e9_bb3f_a08869e1ce9arow9_col8\" class=\"data row9 col8\" >1</td>\n",
       "            </tr>\n",
       "            <tr>\n",
       "                        <th id=\"T_c95c973a_beae_11e9_bb3f_a08869e1ce9alevel0_row10\" class=\"row_heading level0 row10\" >5</th>\n",
       "                        <td id=\"T_c95c973a_beae_11e9_bb3f_a08869e1ce9arow10_col0\" class=\"data row10 col0\" >Guanajuato</td>\n",
       "                        <td id=\"T_c95c973a_beae_11e9_bb3f_a08869e1ce9arow10_col1\" class=\"data row10 col1\" >4359</td>\n",
       "                        <td id=\"T_c95c973a_beae_11e9_bb3f_a08869e1ce9arow10_col2\" class=\"data row10 col2\" >1</td>\n",
       "                        <td id=\"T_c95c973a_beae_11e9_bb3f_a08869e1ce9arow10_col3\" class=\"data row10 col3\" >0</td>\n",
       "                        <td id=\"T_c95c973a_beae_11e9_bb3f_a08869e1ce9arow10_col4\" class=\"data row10 col4\" >0</td>\n",
       "                        <td id=\"T_c95c973a_beae_11e9_bb3f_a08869e1ce9arow10_col5\" class=\"data row10 col5\" >0</td>\n",
       "                        <td id=\"T_c95c973a_beae_11e9_bb3f_a08869e1ce9arow10_col6\" class=\"data row10 col6\" >2</td>\n",
       "                        <td id=\"T_c95c973a_beae_11e9_bb3f_a08869e1ce9arow10_col7\" class=\"data row10 col7\" >0</td>\n",
       "                        <td id=\"T_c95c973a_beae_11e9_bb3f_a08869e1ce9arow10_col8\" class=\"data row10 col8\" >1</td>\n",
       "            </tr>\n",
       "            <tr>\n",
       "                        <th id=\"T_c95c973a_beae_11e9_bb3f_a08869e1ce9alevel0_row11\" class=\"row_heading level0 row11\" >28</th>\n",
       "                        <td id=\"T_c95c973a_beae_11e9_bb3f_a08869e1ce9arow11_col0\" class=\"data row11 col0\" >San Luis Potosi</td>\n",
       "                        <td id=\"T_c95c973a_beae_11e9_bb3f_a08869e1ce9arow11_col1\" class=\"data row11 col1\" >4372</td>\n",
       "                        <td id=\"T_c95c973a_beae_11e9_bb3f_a08869e1ce9arow11_col2\" class=\"data row11 col2\" >1</td>\n",
       "                        <td id=\"T_c95c973a_beae_11e9_bb3f_a08869e1ce9arow11_col3\" class=\"data row11 col3\" >0</td>\n",
       "                        <td id=\"T_c95c973a_beae_11e9_bb3f_a08869e1ce9arow11_col4\" class=\"data row11 col4\" >0</td>\n",
       "                        <td id=\"T_c95c973a_beae_11e9_bb3f_a08869e1ce9arow11_col5\" class=\"data row11 col5\" >0</td>\n",
       "                        <td id=\"T_c95c973a_beae_11e9_bb3f_a08869e1ce9arow11_col6\" class=\"data row11 col6\" >2</td>\n",
       "                        <td id=\"T_c95c973a_beae_11e9_bb3f_a08869e1ce9arow11_col7\" class=\"data row11 col7\" >0</td>\n",
       "                        <td id=\"T_c95c973a_beae_11e9_bb3f_a08869e1ce9arow11_col8\" class=\"data row11 col8\" >1</td>\n",
       "            </tr>\n",
       "            <tr>\n",
       "                        <th id=\"T_c95c973a_beae_11e9_bb3f_a08869e1ce9alevel0_row12\" class=\"row_heading level0 row12\" >7</th>\n",
       "                        <td id=\"T_c95c973a_beae_11e9_bb3f_a08869e1ce9arow12_col0\" class=\"data row12 col0\" >Hidalgo</td>\n",
       "                        <td id=\"T_c95c973a_beae_11e9_bb3f_a08869e1ce9arow12_col1\" class=\"data row12 col1\" >4414</td>\n",
       "                        <td id=\"T_c95c973a_beae_11e9_bb3f_a08869e1ce9arow12_col2\" class=\"data row12 col2\" >1</td>\n",
       "                        <td id=\"T_c95c973a_beae_11e9_bb3f_a08869e1ce9arow12_col3\" class=\"data row12 col3\" >0</td>\n",
       "                        <td id=\"T_c95c973a_beae_11e9_bb3f_a08869e1ce9arow12_col4\" class=\"data row12 col4\" >0</td>\n",
       "                        <td id=\"T_c95c973a_beae_11e9_bb3f_a08869e1ce9arow12_col5\" class=\"data row12 col5\" >0</td>\n",
       "                        <td id=\"T_c95c973a_beae_11e9_bb3f_a08869e1ce9arow12_col6\" class=\"data row12 col6\" >2</td>\n",
       "                        <td id=\"T_c95c973a_beae_11e9_bb3f_a08869e1ce9arow12_col7\" class=\"data row12 col7\" >0</td>\n",
       "                        <td id=\"T_c95c973a_beae_11e9_bb3f_a08869e1ce9arow12_col8\" class=\"data row12 col8\" >1</td>\n",
       "            </tr>\n",
       "            <tr>\n",
       "                        <th id=\"T_c95c973a_beae_11e9_bb3f_a08869e1ce9alevel0_row13\" class=\"row_heading level0 row13\" >2</th>\n",
       "                        <td id=\"T_c95c973a_beae_11e9_bb3f_a08869e1ce9arow13_col0\" class=\"data row13 col0\" >Nayarit</td>\n",
       "                        <td id=\"T_c95c973a_beae_11e9_bb3f_a08869e1ce9arow13_col1\" class=\"data row13 col1\" >4836</td>\n",
       "                        <td id=\"T_c95c973a_beae_11e9_bb3f_a08869e1ce9arow13_col2\" class=\"data row13 col2\" >2</td>\n",
       "                        <td id=\"T_c95c973a_beae_11e9_bb3f_a08869e1ce9arow13_col3\" class=\"data row13 col3\" >0</td>\n",
       "                        <td id=\"T_c95c973a_beae_11e9_bb3f_a08869e1ce9arow13_col4\" class=\"data row13 col4\" >0</td>\n",
       "                        <td id=\"T_c95c973a_beae_11e9_bb3f_a08869e1ce9arow13_col5\" class=\"data row13 col5\" >0</td>\n",
       "                        <td id=\"T_c95c973a_beae_11e9_bb3f_a08869e1ce9arow13_col6\" class=\"data row13 col6\" >2</td>\n",
       "                        <td id=\"T_c95c973a_beae_11e9_bb3f_a08869e1ce9arow13_col7\" class=\"data row13 col7\" >0</td>\n",
       "                        <td id=\"T_c95c973a_beae_11e9_bb3f_a08869e1ce9arow13_col8\" class=\"data row13 col8\" >2</td>\n",
       "            </tr>\n",
       "            <tr>\n",
       "                        <th id=\"T_c95c973a_beae_11e9_bb3f_a08869e1ce9alevel0_row14\" class=\"row_heading level0 row14\" >25</th>\n",
       "                        <td id=\"T_c95c973a_beae_11e9_bb3f_a08869e1ce9arow14_col0\" class=\"data row14 col0\" >Sinaloa</td>\n",
       "                        <td id=\"T_c95c973a_beae_11e9_bb3f_a08869e1ce9arow14_col1\" class=\"data row14 col1\" >4840</td>\n",
       "                        <td id=\"T_c95c973a_beae_11e9_bb3f_a08869e1ce9arow14_col2\" class=\"data row14 col2\" >2</td>\n",
       "                        <td id=\"T_c95c973a_beae_11e9_bb3f_a08869e1ce9arow14_col3\" class=\"data row14 col3\" >0</td>\n",
       "                        <td id=\"T_c95c973a_beae_11e9_bb3f_a08869e1ce9arow14_col4\" class=\"data row14 col4\" >0</td>\n",
       "                        <td id=\"T_c95c973a_beae_11e9_bb3f_a08869e1ce9arow14_col5\" class=\"data row14 col5\" >0</td>\n",
       "                        <td id=\"T_c95c973a_beae_11e9_bb3f_a08869e1ce9arow14_col6\" class=\"data row14 col6\" >2</td>\n",
       "                        <td id=\"T_c95c973a_beae_11e9_bb3f_a08869e1ce9arow14_col7\" class=\"data row14 col7\" >0</td>\n",
       "                        <td id=\"T_c95c973a_beae_11e9_bb3f_a08869e1ce9arow14_col8\" class=\"data row14 col8\" >2</td>\n",
       "            </tr>\n",
       "            <tr>\n",
       "                        <th id=\"T_c95c973a_beae_11e9_bb3f_a08869e1ce9alevel0_row15\" class=\"row_heading level0 row15\" >31</th>\n",
       "                        <td id=\"T_c95c973a_beae_11e9_bb3f_a08869e1ce9arow15_col0\" class=\"data row15 col0\" >Veracruz-Llave</td>\n",
       "                        <td id=\"T_c95c973a_beae_11e9_bb3f_a08869e1ce9arow15_col1\" class=\"data row15 col1\" >5203</td>\n",
       "                        <td id=\"T_c95c973a_beae_11e9_bb3f_a08869e1ce9arow15_col2\" class=\"data row15 col2\" >2</td>\n",
       "                        <td id=\"T_c95c973a_beae_11e9_bb3f_a08869e1ce9arow15_col3\" class=\"data row15 col3\" >0</td>\n",
       "                        <td id=\"T_c95c973a_beae_11e9_bb3f_a08869e1ce9arow15_col4\" class=\"data row15 col4\" >0</td>\n",
       "                        <td id=\"T_c95c973a_beae_11e9_bb3f_a08869e1ce9arow15_col5\" class=\"data row15 col5\" >0</td>\n",
       "                        <td id=\"T_c95c973a_beae_11e9_bb3f_a08869e1ce9arow15_col6\" class=\"data row15 col6\" >2</td>\n",
       "                        <td id=\"T_c95c973a_beae_11e9_bb3f_a08869e1ce9arow15_col7\" class=\"data row15 col7\" >0</td>\n",
       "                        <td id=\"T_c95c973a_beae_11e9_bb3f_a08869e1ce9arow15_col8\" class=\"data row15 col8\" >2</td>\n",
       "            </tr>\n",
       "            <tr>\n",
       "                        <th id=\"T_c95c973a_beae_11e9_bb3f_a08869e1ce9alevel0_row16\" class=\"row_heading level0 row16\" >3</th>\n",
       "                        <td id=\"T_c95c973a_beae_11e9_bb3f_a08869e1ce9arow16_col0\" class=\"data row16 col0\" >Jalisco</td>\n",
       "                        <td id=\"T_c95c973a_beae_11e9_bb3f_a08869e1ce9arow16_col1\" class=\"data row16 col1\" >5309</td>\n",
       "                        <td id=\"T_c95c973a_beae_11e9_bb3f_a08869e1ce9arow16_col2\" class=\"data row16 col2\" >2</td>\n",
       "                        <td id=\"T_c95c973a_beae_11e9_bb3f_a08869e1ce9arow16_col3\" class=\"data row16 col3\" >0</td>\n",
       "                        <td id=\"T_c95c973a_beae_11e9_bb3f_a08869e1ce9arow16_col4\" class=\"data row16 col4\" >0</td>\n",
       "                        <td id=\"T_c95c973a_beae_11e9_bb3f_a08869e1ce9arow16_col5\" class=\"data row16 col5\" >0</td>\n",
       "                        <td id=\"T_c95c973a_beae_11e9_bb3f_a08869e1ce9arow16_col6\" class=\"data row16 col6\" >2</td>\n",
       "                        <td id=\"T_c95c973a_beae_11e9_bb3f_a08869e1ce9arow16_col7\" class=\"data row16 col7\" >0</td>\n",
       "                        <td id=\"T_c95c973a_beae_11e9_bb3f_a08869e1ce9arow16_col8\" class=\"data row16 col8\" >2</td>\n",
       "            </tr>\n",
       "            <tr>\n",
       "                        <th id=\"T_c95c973a_beae_11e9_bb3f_a08869e1ce9alevel0_row17\" class=\"row_heading level0 row17\" >22</th>\n",
       "                        <td id=\"T_c95c973a_beae_11e9_bb3f_a08869e1ce9arow17_col0\" class=\"data row17 col0\" >Sonora</td>\n",
       "                        <td id=\"T_c95c973a_beae_11e9_bb3f_a08869e1ce9arow17_col1\" class=\"data row17 col1\" >6399</td>\n",
       "                        <td id=\"T_c95c973a_beae_11e9_bb3f_a08869e1ce9arow17_col2\" class=\"data row17 col2\" >2</td>\n",
       "                        <td id=\"T_c95c973a_beae_11e9_bb3f_a08869e1ce9arow17_col3\" class=\"data row17 col3\" >1</td>\n",
       "                        <td id=\"T_c95c973a_beae_11e9_bb3f_a08869e1ce9arow17_col4\" class=\"data row17 col4\" >0</td>\n",
       "                        <td id=\"T_c95c973a_beae_11e9_bb3f_a08869e1ce9arow17_col5\" class=\"data row17 col5\" >1</td>\n",
       "                        <td id=\"T_c95c973a_beae_11e9_bb3f_a08869e1ce9arow17_col6\" class=\"data row17 col6\" >2</td>\n",
       "                        <td id=\"T_c95c973a_beae_11e9_bb3f_a08869e1ce9arow17_col7\" class=\"data row17 col7\" >1</td>\n",
       "                        <td id=\"T_c95c973a_beae_11e9_bb3f_a08869e1ce9arow17_col8\" class=\"data row17 col8\" >2</td>\n",
       "            </tr>\n",
       "            <tr>\n",
       "                        <th id=\"T_c95c973a_beae_11e9_bb3f_a08869e1ce9alevel0_row18\" class=\"row_heading level0 row18\" >11</th>\n",
       "                        <td id=\"T_c95c973a_beae_11e9_bb3f_a08869e1ce9arow18_col0\" class=\"data row18 col0\" >Colima</td>\n",
       "                        <td id=\"T_c95c973a_beae_11e9_bb3f_a08869e1ce9arow18_col1\" class=\"data row18 col1\" >6909</td>\n",
       "                        <td id=\"T_c95c973a_beae_11e9_bb3f_a08869e1ce9arow18_col2\" class=\"data row18 col2\" >2</td>\n",
       "                        <td id=\"T_c95c973a_beae_11e9_bb3f_a08869e1ce9arow18_col3\" class=\"data row18 col3\" >1</td>\n",
       "                        <td id=\"T_c95c973a_beae_11e9_bb3f_a08869e1ce9arow18_col4\" class=\"data row18 col4\" >0</td>\n",
       "                        <td id=\"T_c95c973a_beae_11e9_bb3f_a08869e1ce9arow18_col5\" class=\"data row18 col5\" >1</td>\n",
       "                        <td id=\"T_c95c973a_beae_11e9_bb3f_a08869e1ce9arow18_col6\" class=\"data row18 col6\" >2</td>\n",
       "                        <td id=\"T_c95c973a_beae_11e9_bb3f_a08869e1ce9arow18_col7\" class=\"data row18 col7\" >1</td>\n",
       "                        <td id=\"T_c95c973a_beae_11e9_bb3f_a08869e1ce9arow18_col8\" class=\"data row18 col8\" >3</td>\n",
       "            </tr>\n",
       "            <tr>\n",
       "                        <th id=\"T_c95c973a_beae_11e9_bb3f_a08869e1ce9alevel0_row19\" class=\"row_heading level0 row19\" >12</th>\n",
       "                        <td id=\"T_c95c973a_beae_11e9_bb3f_a08869e1ce9arow19_col0\" class=\"data row19 col0\" >Morelos</td>\n",
       "                        <td id=\"T_c95c973a_beae_11e9_bb3f_a08869e1ce9arow19_col1\" class=\"data row19 col1\" >6936</td>\n",
       "                        <td id=\"T_c95c973a_beae_11e9_bb3f_a08869e1ce9arow19_col2\" class=\"data row19 col2\" >3</td>\n",
       "                        <td id=\"T_c95c973a_beae_11e9_bb3f_a08869e1ce9arow19_col3\" class=\"data row19 col3\" >1</td>\n",
       "                        <td id=\"T_c95c973a_beae_11e9_bb3f_a08869e1ce9arow19_col4\" class=\"data row19 col4\" >0</td>\n",
       "                        <td id=\"T_c95c973a_beae_11e9_bb3f_a08869e1ce9arow19_col5\" class=\"data row19 col5\" >1</td>\n",
       "                        <td id=\"T_c95c973a_beae_11e9_bb3f_a08869e1ce9arow19_col6\" class=\"data row19 col6\" >2</td>\n",
       "                        <td id=\"T_c95c973a_beae_11e9_bb3f_a08869e1ce9arow19_col7\" class=\"data row19 col7\" >1</td>\n",
       "                        <td id=\"T_c95c973a_beae_11e9_bb3f_a08869e1ce9arow19_col8\" class=\"data row19 col8\" >3</td>\n",
       "            </tr>\n",
       "            <tr>\n",
       "                        <th id=\"T_c95c973a_beae_11e9_bb3f_a08869e1ce9alevel0_row20\" class=\"row_heading level0 row20\" >30</th>\n",
       "                        <td id=\"T_c95c973a_beae_11e9_bb3f_a08869e1ce9arow20_col0\" class=\"data row20 col0\" >Tamaulipas</td>\n",
       "                        <td id=\"T_c95c973a_beae_11e9_bb3f_a08869e1ce9arow20_col1\" class=\"data row20 col1\" >7508</td>\n",
       "                        <td id=\"T_c95c973a_beae_11e9_bb3f_a08869e1ce9arow20_col2\" class=\"data row20 col2\" >3</td>\n",
       "                        <td id=\"T_c95c973a_beae_11e9_bb3f_a08869e1ce9arow20_col3\" class=\"data row20 col3\" >1</td>\n",
       "                        <td id=\"T_c95c973a_beae_11e9_bb3f_a08869e1ce9arow20_col4\" class=\"data row20 col4\" >1</td>\n",
       "                        <td id=\"T_c95c973a_beae_11e9_bb3f_a08869e1ce9arow20_col5\" class=\"data row20 col5\" >1</td>\n",
       "                        <td id=\"T_c95c973a_beae_11e9_bb3f_a08869e1ce9arow20_col6\" class=\"data row20 col6\" >2</td>\n",
       "                        <td id=\"T_c95c973a_beae_11e9_bb3f_a08869e1ce9arow20_col7\" class=\"data row20 col7\" >1</td>\n",
       "                        <td id=\"T_c95c973a_beae_11e9_bb3f_a08869e1ce9arow20_col8\" class=\"data row20 col8\" >3</td>\n",
       "            </tr>\n",
       "            <tr>\n",
       "                        <th id=\"T_c95c973a_beae_11e9_bb3f_a08869e1ce9alevel0_row21\" class=\"row_heading level0 row21\" >13</th>\n",
       "                        <td id=\"T_c95c973a_beae_11e9_bb3f_a08869e1ce9arow21_col0\" class=\"data row21 col0\" >Yucatan</td>\n",
       "                        <td id=\"T_c95c973a_beae_11e9_bb3f_a08869e1ce9arow21_col1\" class=\"data row21 col1\" >7990</td>\n",
       "                        <td id=\"T_c95c973a_beae_11e9_bb3f_a08869e1ce9arow21_col2\" class=\"data row21 col2\" >3</td>\n",
       "                        <td id=\"T_c95c973a_beae_11e9_bb3f_a08869e1ce9arow21_col3\" class=\"data row21 col3\" >1</td>\n",
       "                        <td id=\"T_c95c973a_beae_11e9_bb3f_a08869e1ce9arow21_col4\" class=\"data row21 col4\" >1</td>\n",
       "                        <td id=\"T_c95c973a_beae_11e9_bb3f_a08869e1ce9arow21_col5\" class=\"data row21 col5\" >1</td>\n",
       "                        <td id=\"T_c95c973a_beae_11e9_bb3f_a08869e1ce9arow21_col6\" class=\"data row21 col6\" >2</td>\n",
       "                        <td id=\"T_c95c973a_beae_11e9_bb3f_a08869e1ce9arow21_col7\" class=\"data row21 col7\" >1</td>\n",
       "                        <td id=\"T_c95c973a_beae_11e9_bb3f_a08869e1ce9arow21_col8\" class=\"data row21 col8\" >3</td>\n",
       "            </tr>\n",
       "            <tr>\n",
       "                        <th id=\"T_c95c973a_beae_11e9_bb3f_a08869e1ce9alevel0_row22\" class=\"row_heading level0 row22\" >24</th>\n",
       "                        <td id=\"T_c95c973a_beae_11e9_bb3f_a08869e1ce9arow22_col0\" class=\"data row22 col0\" >Coahuila De Zaragoza</td>\n",
       "                        <td id=\"T_c95c973a_beae_11e9_bb3f_a08869e1ce9arow22_col1\" class=\"data row22 col1\" >8537</td>\n",
       "                        <td id=\"T_c95c973a_beae_11e9_bb3f_a08869e1ce9arow22_col2\" class=\"data row22 col2\" >3</td>\n",
       "                        <td id=\"T_c95c973a_beae_11e9_bb3f_a08869e1ce9arow22_col3\" class=\"data row22 col3\" >1</td>\n",
       "                        <td id=\"T_c95c973a_beae_11e9_bb3f_a08869e1ce9arow22_col4\" class=\"data row22 col4\" >1</td>\n",
       "                        <td id=\"T_c95c973a_beae_11e9_bb3f_a08869e1ce9arow22_col5\" class=\"data row22 col5\" >1</td>\n",
       "                        <td id=\"T_c95c973a_beae_11e9_bb3f_a08869e1ce9arow22_col6\" class=\"data row22 col6\" >2</td>\n",
       "                        <td id=\"T_c95c973a_beae_11e9_bb3f_a08869e1ce9arow22_col7\" class=\"data row22 col7\" >1</td>\n",
       "                        <td id=\"T_c95c973a_beae_11e9_bb3f_a08869e1ce9arow22_col8\" class=\"data row22 col8\" >3</td>\n",
       "            </tr>\n",
       "            <tr>\n",
       "                        <th id=\"T_c95c973a_beae_11e9_bb3f_a08869e1ce9alevel0_row23\" class=\"row_heading level0 row23\" >23</th>\n",
       "                        <td id=\"T_c95c973a_beae_11e9_bb3f_a08869e1ce9arow23_col0\" class=\"data row23 col0\" >Chihuahua</td>\n",
       "                        <td id=\"T_c95c973a_beae_11e9_bb3f_a08869e1ce9arow23_col1\" class=\"data row23 col1\" >8578</td>\n",
       "                        <td id=\"T_c95c973a_beae_11e9_bb3f_a08869e1ce9arow23_col2\" class=\"data row23 col2\" >3</td>\n",
       "                        <td id=\"T_c95c973a_beae_11e9_bb3f_a08869e1ce9arow23_col3\" class=\"data row23 col3\" >1</td>\n",
       "                        <td id=\"T_c95c973a_beae_11e9_bb3f_a08869e1ce9arow23_col4\" class=\"data row23 col4\" >1</td>\n",
       "                        <td id=\"T_c95c973a_beae_11e9_bb3f_a08869e1ce9arow23_col5\" class=\"data row23 col5\" >1</td>\n",
       "                        <td id=\"T_c95c973a_beae_11e9_bb3f_a08869e1ce9arow23_col6\" class=\"data row23 col6\" >2</td>\n",
       "                        <td id=\"T_c95c973a_beae_11e9_bb3f_a08869e1ce9arow23_col7\" class=\"data row23 col7\" >1</td>\n",
       "                        <td id=\"T_c95c973a_beae_11e9_bb3f_a08869e1ce9arow23_col8\" class=\"data row23 col8\" >3</td>\n",
       "            </tr>\n",
       "            <tr>\n",
       "                        <th id=\"T_c95c973a_beae_11e9_bb3f_a08869e1ce9alevel0_row24\" class=\"row_heading level0 row24\" >29</th>\n",
       "                        <td id=\"T_c95c973a_beae_11e9_bb3f_a08869e1ce9arow24_col0\" class=\"data row24 col0\" >Nuevo Leon</td>\n",
       "                        <td id=\"T_c95c973a_beae_11e9_bb3f_a08869e1ce9arow24_col1\" class=\"data row24 col1\" >9073</td>\n",
       "                        <td id=\"T_c95c973a_beae_11e9_bb3f_a08869e1ce9arow24_col2\" class=\"data row24 col2\" >3</td>\n",
       "                        <td id=\"T_c95c973a_beae_11e9_bb3f_a08869e1ce9arow24_col3\" class=\"data row24 col3\" >1</td>\n",
       "                        <td id=\"T_c95c973a_beae_11e9_bb3f_a08869e1ce9arow24_col4\" class=\"data row24 col4\" >1</td>\n",
       "                        <td id=\"T_c95c973a_beae_11e9_bb3f_a08869e1ce9arow24_col5\" class=\"data row24 col5\" >1</td>\n",
       "                        <td id=\"T_c95c973a_beae_11e9_bb3f_a08869e1ce9arow24_col6\" class=\"data row24 col6\" >2</td>\n",
       "                        <td id=\"T_c95c973a_beae_11e9_bb3f_a08869e1ce9arow24_col7\" class=\"data row24 col7\" >1</td>\n",
       "                        <td id=\"T_c95c973a_beae_11e9_bb3f_a08869e1ce9arow24_col8\" class=\"data row24 col8\" >3</td>\n",
       "            </tr>\n",
       "            <tr>\n",
       "                        <th id=\"T_c95c973a_beae_11e9_bb3f_a08869e1ce9alevel0_row25\" class=\"row_heading level0 row25\" >1</th>\n",
       "                        <td id=\"T_c95c973a_beae_11e9_bb3f_a08869e1ce9arow25_col0\" class=\"data row25 col0\" >Baja California Sur</td>\n",
       "                        <td id=\"T_c95c973a_beae_11e9_bb3f_a08869e1ce9arow25_col1\" class=\"data row25 col1\" >9573</td>\n",
       "                        <td id=\"T_c95c973a_beae_11e9_bb3f_a08869e1ce9arow25_col2\" class=\"data row25 col2\" >4</td>\n",
       "                        <td id=\"T_c95c973a_beae_11e9_bb3f_a08869e1ce9arow25_col3\" class=\"data row25 col3\" >1</td>\n",
       "                        <td id=\"T_c95c973a_beae_11e9_bb3f_a08869e1ce9arow25_col4\" class=\"data row25 col4\" >1</td>\n",
       "                        <td id=\"T_c95c973a_beae_11e9_bb3f_a08869e1ce9arow25_col5\" class=\"data row25 col5\" >1</td>\n",
       "                        <td id=\"T_c95c973a_beae_11e9_bb3f_a08869e1ce9arow25_col6\" class=\"data row25 col6\" >2</td>\n",
       "                        <td id=\"T_c95c973a_beae_11e9_bb3f_a08869e1ce9arow25_col7\" class=\"data row25 col7\" >2</td>\n",
       "                        <td id=\"T_c95c973a_beae_11e9_bb3f_a08869e1ce9arow25_col8\" class=\"data row25 col8\" >3</td>\n",
       "            </tr>\n",
       "            <tr>\n",
       "                        <th id=\"T_c95c973a_beae_11e9_bb3f_a08869e1ce9alevel0_row26\" class=\"row_heading level0 row26\" >4</th>\n",
       "                        <td id=\"T_c95c973a_beae_11e9_bb3f_a08869e1ce9arow26_col0\" class=\"data row26 col0\" >Aguascalientes</td>\n",
       "                        <td id=\"T_c95c973a_beae_11e9_bb3f_a08869e1ce9arow26_col1\" class=\"data row26 col1\" >10384</td>\n",
       "                        <td id=\"T_c95c973a_beae_11e9_bb3f_a08869e1ce9arow26_col2\" class=\"data row26 col2\" >4</td>\n",
       "                        <td id=\"T_c95c973a_beae_11e9_bb3f_a08869e1ce9arow26_col3\" class=\"data row26 col3\" >2</td>\n",
       "                        <td id=\"T_c95c973a_beae_11e9_bb3f_a08869e1ce9arow26_col4\" class=\"data row26 col4\" >1</td>\n",
       "                        <td id=\"T_c95c973a_beae_11e9_bb3f_a08869e1ce9arow26_col5\" class=\"data row26 col5\" >1</td>\n",
       "                        <td id=\"T_c95c973a_beae_11e9_bb3f_a08869e1ce9arow26_col6\" class=\"data row26 col6\" >2</td>\n",
       "                        <td id=\"T_c95c973a_beae_11e9_bb3f_a08869e1ce9arow26_col7\" class=\"data row26 col7\" >2</td>\n",
       "                        <td id=\"T_c95c973a_beae_11e9_bb3f_a08869e1ce9arow26_col8\" class=\"data row26 col8\" >3</td>\n",
       "            </tr>\n",
       "            <tr>\n",
       "                        <th id=\"T_c95c973a_beae_11e9_bb3f_a08869e1ce9alevel0_row27\" class=\"row_heading level0 row27\" >6</th>\n",
       "                        <td id=\"T_c95c973a_beae_11e9_bb3f_a08869e1ce9arow27_col0\" class=\"data row27 col0\" >Queretaro de Arteaga</td>\n",
       "                        <td id=\"T_c95c973a_beae_11e9_bb3f_a08869e1ce9arow27_col1\" class=\"data row27 col1\" >11016</td>\n",
       "                        <td id=\"T_c95c973a_beae_11e9_bb3f_a08869e1ce9arow27_col2\" class=\"data row27 col2\" >4</td>\n",
       "                        <td id=\"T_c95c973a_beae_11e9_bb3f_a08869e1ce9arow27_col3\" class=\"data row27 col3\" >2</td>\n",
       "                        <td id=\"T_c95c973a_beae_11e9_bb3f_a08869e1ce9arow27_col4\" class=\"data row27 col4\" >1</td>\n",
       "                        <td id=\"T_c95c973a_beae_11e9_bb3f_a08869e1ce9arow27_col5\" class=\"data row27 col5\" >1</td>\n",
       "                        <td id=\"T_c95c973a_beae_11e9_bb3f_a08869e1ce9arow27_col6\" class=\"data row27 col6\" >2</td>\n",
       "                        <td id=\"T_c95c973a_beae_11e9_bb3f_a08869e1ce9arow27_col7\" class=\"data row27 col7\" >2</td>\n",
       "                        <td id=\"T_c95c973a_beae_11e9_bb3f_a08869e1ce9arow27_col8\" class=\"data row27 col8\" >3</td>\n",
       "            </tr>\n",
       "            <tr>\n",
       "                        <th id=\"T_c95c973a_beae_11e9_bb3f_a08869e1ce9alevel0_row28\" class=\"row_heading level0 row28\" >26</th>\n",
       "                        <td id=\"T_c95c973a_beae_11e9_bb3f_a08869e1ce9arow28_col0\" class=\"data row28 col0\" >Durango</td>\n",
       "                        <td id=\"T_c95c973a_beae_11e9_bb3f_a08869e1ce9arow28_col1\" class=\"data row28 col1\" >12132</td>\n",
       "                        <td id=\"T_c95c973a_beae_11e9_bb3f_a08869e1ce9arow28_col2\" class=\"data row28 col2\" >4</td>\n",
       "                        <td id=\"T_c95c973a_beae_11e9_bb3f_a08869e1ce9arow28_col3\" class=\"data row28 col3\" >2</td>\n",
       "                        <td id=\"T_c95c973a_beae_11e9_bb3f_a08869e1ce9arow28_col4\" class=\"data row28 col4\" >1</td>\n",
       "                        <td id=\"T_c95c973a_beae_11e9_bb3f_a08869e1ce9arow28_col5\" class=\"data row28 col5\" >2</td>\n",
       "                        <td id=\"T_c95c973a_beae_11e9_bb3f_a08869e1ce9arow28_col6\" class=\"data row28 col6\" >2</td>\n",
       "                        <td id=\"T_c95c973a_beae_11e9_bb3f_a08869e1ce9arow28_col7\" class=\"data row28 col7\" >2</td>\n",
       "                        <td id=\"T_c95c973a_beae_11e9_bb3f_a08869e1ce9arow28_col8\" class=\"data row28 col8\" >3</td>\n",
       "            </tr>\n",
       "            <tr>\n",
       "                        <th id=\"T_c95c973a_beae_11e9_bb3f_a08869e1ce9alevel0_row29\" class=\"row_heading level0 row29\" >10</th>\n",
       "                        <td id=\"T_c95c973a_beae_11e9_bb3f_a08869e1ce9arow29_col0\" class=\"data row29 col0\" >Distrito Federal</td>\n",
       "                        <td id=\"T_c95c973a_beae_11e9_bb3f_a08869e1ce9arow29_col1\" class=\"data row29 col1\" >17816</td>\n",
       "                        <td id=\"T_c95c973a_beae_11e9_bb3f_a08869e1ce9arow29_col2\" class=\"data row29 col2\" >4</td>\n",
       "                        <td id=\"T_c95c973a_beae_11e9_bb3f_a08869e1ce9arow29_col3\" class=\"data row29 col3\" >3</td>\n",
       "                        <td id=\"T_c95c973a_beae_11e9_bb3f_a08869e1ce9arow29_col4\" class=\"data row29 col4\" >2</td>\n",
       "                        <td id=\"T_c95c973a_beae_11e9_bb3f_a08869e1ce9arow29_col5\" class=\"data row29 col5\" >3</td>\n",
       "                        <td id=\"T_c95c973a_beae_11e9_bb3f_a08869e1ce9arow29_col6\" class=\"data row29 col6\" >4</td>\n",
       "                        <td id=\"T_c95c973a_beae_11e9_bb3f_a08869e1ce9arow29_col7\" class=\"data row29 col7\" >3</td>\n",
       "                        <td id=\"T_c95c973a_beae_11e9_bb3f_a08869e1ce9arow29_col8\" class=\"data row29 col8\" >4</td>\n",
       "            </tr>\n",
       "            <tr>\n",
       "                        <th id=\"T_c95c973a_beae_11e9_bb3f_a08869e1ce9alevel0_row30\" class=\"row_heading level0 row30\" >16</th>\n",
       "                        <td id=\"T_c95c973a_beae_11e9_bb3f_a08869e1ce9arow30_col0\" class=\"data row30 col0\" >Quintana Roo</td>\n",
       "                        <td id=\"T_c95c973a_beae_11e9_bb3f_a08869e1ce9arow30_col1\" class=\"data row30 col1\" >21965</td>\n",
       "                        <td id=\"T_c95c973a_beae_11e9_bb3f_a08869e1ce9arow30_col2\" class=\"data row30 col2\" >4</td>\n",
       "                        <td id=\"T_c95c973a_beae_11e9_bb3f_a08869e1ce9arow30_col3\" class=\"data row30 col3\" >4</td>\n",
       "                        <td id=\"T_c95c973a_beae_11e9_bb3f_a08869e1ce9arow30_col4\" class=\"data row30 col4\" >3</td>\n",
       "                        <td id=\"T_c95c973a_beae_11e9_bb3f_a08869e1ce9arow30_col5\" class=\"data row30 col5\" >4</td>\n",
       "                        <td id=\"T_c95c973a_beae_11e9_bb3f_a08869e1ce9arow30_col6\" class=\"data row30 col6\" >4</td>\n",
       "                        <td id=\"T_c95c973a_beae_11e9_bb3f_a08869e1ce9arow30_col7\" class=\"data row30 col7\" >4</td>\n",
       "                        <td id=\"T_c95c973a_beae_11e9_bb3f_a08869e1ce9arow30_col8\" class=\"data row30 col8\" >4</td>\n",
       "            </tr>\n",
       "            <tr>\n",
       "                        <th id=\"T_c95c973a_beae_11e9_bb3f_a08869e1ce9alevel0_row31\" class=\"row_heading level0 row31\" >0</th>\n",
       "                        <td id=\"T_c95c973a_beae_11e9_bb3f_a08869e1ce9arow31_col0\" class=\"data row31 col0\" >Baja California Norte</td>\n",
       "                        <td id=\"T_c95c973a_beae_11e9_bb3f_a08869e1ce9arow31_col1\" class=\"data row31 col1\" >22361</td>\n",
       "                        <td id=\"T_c95c973a_beae_11e9_bb3f_a08869e1ce9arow31_col2\" class=\"data row31 col2\" >4</td>\n",
       "                        <td id=\"T_c95c973a_beae_11e9_bb3f_a08869e1ce9arow31_col3\" class=\"data row31 col3\" >4</td>\n",
       "                        <td id=\"T_c95c973a_beae_11e9_bb3f_a08869e1ce9arow31_col4\" class=\"data row31 col4\" >4</td>\n",
       "                        <td id=\"T_c95c973a_beae_11e9_bb3f_a08869e1ce9arow31_col5\" class=\"data row31 col5\" >4</td>\n",
       "                        <td id=\"T_c95c973a_beae_11e9_bb3f_a08869e1ce9arow31_col6\" class=\"data row31 col6\" >4</td>\n",
       "                        <td id=\"T_c95c973a_beae_11e9_bb3f_a08869e1ce9arow31_col7\" class=\"data row31 col7\" >4</td>\n",
       "                        <td id=\"T_c95c973a_beae_11e9_bb3f_a08869e1ce9arow31_col8\" class=\"data row31 col8\" >4</td>\n",
       "            </tr>\n",
       "    </tbody></table>"
      ],
      "text/plain": [
       "<pandas.io.formats.style.Styler at 0x7fc67f2d3630>"
      ]
     },
     "execution_count": 33,
     "metadata": {},
     "output_type": "execute_result"
    }
   ],
   "source": [
    "t = mxs[['NAME', 'PCGDP1940', 'q540', 'ei540', 'ht40', 'mb540', 'msd40', 'fj540', 'jc540']]\n",
    "t.style.applymap(highlight_values)"
   ]
  },
  {
   "cell_type": "code",
   "execution_count": 34,
   "metadata": {},
   "outputs": [],
   "source": [
    "# write table out to tex\n",
    "with open('classtable.tex', 'w') as out:\n",
    "    t.to_latex(out)"
   ]
  },
  {
   "cell_type": "markdown",
   "metadata": {},
   "source": [
    "Inspection of this table reveals a number of interesting results. First, the\n",
    "only Mexican state that is treated consistantly across the k=5 classifiers is\n",
    "Baja California Norte which is placed in the highest class by all classifiers.\n",
    "Second, the mean-standard deviation classifier has an empty first class due to\n",
    "the inadmissible upper bound and the overconcentration of values in the central\n",
    "class (2).\n",
    "\n",
    "Finally, we can consider a meso-level view of the clasification\n",
    "results by comparing the number of values assigned to each class across the\n",
    "different classifiers:"
   ]
  },
  {
   "cell_type": "code",
   "execution_count": 35,
   "metadata": {},
   "outputs": [
    {
     "data": {
      "text/html": [
       "<div>\n",
       "<style scoped>\n",
       "    .dataframe tbody tr th:only-of-type {\n",
       "        vertical-align: middle;\n",
       "    }\n",
       "\n",
       "    .dataframe tbody tr th {\n",
       "        vertical-align: top;\n",
       "    }\n",
       "\n",
       "    .dataframe thead th {\n",
       "        text-align: right;\n",
       "    }\n",
       "</style>\n",
       "<table border=\"1\" class=\"dataframe\">\n",
       "  <thead>\n",
       "    <tr style=\"text-align: right;\">\n",
       "      <th></th>\n",
       "      <th>Quantiles</th>\n",
       "      <th>EqualInterval</th>\n",
       "      <th>HeadTailBreaks</th>\n",
       "      <th>MaximumBreaks</th>\n",
       "      <th>StdMean</th>\n",
       "      <th>FisherJenks</th>\n",
       "      <th>JenksCaspall</th>\n",
       "    </tr>\n",
       "  </thead>\n",
       "  <tbody>\n",
       "    <tr>\n",
       "      <th>Class-0</th>\n",
       "      <td>7</td>\n",
       "      <td>17</td>\n",
       "      <td>20</td>\n",
       "      <td>17</td>\n",
       "      <td>0</td>\n",
       "      <td>17</td>\n",
       "      <td>4</td>\n",
       "    </tr>\n",
       "    <tr>\n",
       "      <th>Class-1</th>\n",
       "      <td>6</td>\n",
       "      <td>9</td>\n",
       "      <td>9</td>\n",
       "      <td>11</td>\n",
       "      <td>1</td>\n",
       "      <td>8</td>\n",
       "      <td>9</td>\n",
       "    </tr>\n",
       "    <tr>\n",
       "      <th>Class-2</th>\n",
       "      <td>6</td>\n",
       "      <td>3</td>\n",
       "      <td>1</td>\n",
       "      <td>1</td>\n",
       "      <td>28</td>\n",
       "      <td>4</td>\n",
       "      <td>5</td>\n",
       "    </tr>\n",
       "    <tr>\n",
       "      <th>Class-3</th>\n",
       "      <td>6</td>\n",
       "      <td>1</td>\n",
       "      <td>1</td>\n",
       "      <td>1</td>\n",
       "      <td>0</td>\n",
       "      <td>1</td>\n",
       "      <td>11</td>\n",
       "    </tr>\n",
       "    <tr>\n",
       "      <th>Class-4</th>\n",
       "      <td>7</td>\n",
       "      <td>2</td>\n",
       "      <td>1</td>\n",
       "      <td>2</td>\n",
       "      <td>3</td>\n",
       "      <td>2</td>\n",
       "      <td>3</td>\n",
       "    </tr>\n",
       "  </tbody>\n",
       "</table>\n",
       "</div>"
      ],
      "text/plain": [
       "         Quantiles  EqualInterval  HeadTailBreaks  MaximumBreaks  StdMean  \\\n",
       "Class-0          7             17              20             17        0   \n",
       "Class-1          6              9               9             11        1   \n",
       "Class-2          6              3               1              1       28   \n",
       "Class-3          6              1               1              1        0   \n",
       "Class-4          7              2               1              2        3   \n",
       "\n",
       "         FisherJenks  JenksCaspall  \n",
       "Class-0           17             4  \n",
       "Class-1            8             9  \n",
       "Class-2            4             5  \n",
       "Class-3            1            11  \n",
       "Class-4            2             3  "
      ]
     },
     "execution_count": 35,
     "metadata": {},
     "output_type": "execute_result"
    }
   ],
   "source": [
    "pandas.DataFrame({c.name: c.counts for c in class5},\n",
    "                 index=['Class-{}'.format(i) for i in range(5)])"
   ]
  },
  {
   "cell_type": "markdown",
   "metadata": {},
   "source": [
    "Doing so highlights the similarities between Fisher Jenks and equal intervals as\n",
    "the distribution counts are very similar as the two approaches agree on all 17\n",
    "states assigned to the first class. Indeed, the only observation that\n",
    "distinguishes the two classifiers is the treatment of Baja California Sur which\n",
    "is kept in class 1 in equal intervals, but assigned to class 2 by Fisher Jenks.\n",
    "\n",
    "## Color\n",
    "\n",
    "Having considered the evaluation of the statisitcal distribution of\n",
    "the attribute values and the alternative classification approaches, the next\n",
    "step is to select the symbolization and color scheme. Together with the choice of classifier, these will determine the overall\n",
    "effectiveness of the choropleth map in representing the spatial\n",
    "distribution of the attribute values.\n",
    "\n",
    "Let us start by refreshing the `mx` object and exploring the base polygons for the Mexican states:"
   ]
  },
  {
   "cell_type": "code",
   "execution_count": null,
   "metadata": {},
   "outputs": [],
   "source": [
    "mx = geopandas.read_file('../data/mexico/mexicojoin.shp')\n",
    "f, ax = plt.subplots(1, figsize=(9, 9))\n",
    "mx.plot(ax=ax, color='blue', edgecolor='grey')\n",
    "ax.set_axis_off()\n",
    "ax.set_title('Mexican States')\n",
    "plt.axis('equal')\n",
    "plt.show()"
   ]
  },
  {
   "cell_type": "markdown",
   "metadata": {},
   "source": [
    "Prior to examining the attribute values it is important to note that the\n",
    "spatial units for these states are far from homogenous in their shapes and\n",
    "sizes. This can have major impacts on our brain's pattern recognition capabilities\n",
    "as we tend to be drawn to the larger polygons. Yet, when we considered the\n",
    "statistical distribution above, each observation was given equal weight. Thus,\n",
    "the spatial distribution becomes more complicated to evaluate from a visual and\n",
    "statistical perspective.\n",
    "\n",
    "With this qualification in mind, we will explore the construction of choropleth\n",
    "maps using geopandas:"
   ]
  },
  {
   "cell_type": "code",
   "execution_count": null,
   "metadata": {},
   "outputs": [],
   "source": [
    "mx = geopandas.read_file('../data/mexico/mexicojoin.shp')\n",
    "f, ax = plt.subplots(1, figsize=(9, 9))\n",
    "mx.plot(ax=ax, column='PCGDP1940', legend=True, scheme='Quantiles')\n",
    "ax.set_axis_off()\n",
    "ax.set_title('PCGDP1940')\n",
    "plt.axis('equal')\n",
    "plt.show()"
   ]
  },
  {
   "cell_type": "markdown",
   "metadata": {},
   "source": [
    "Note that the default for the legend is two report two decimal places. If we desire, this can be changed by overriding the `fmt` parameter:"
   ]
  },
  {
   "cell_type": "code",
   "execution_count": 38,
   "metadata": {},
   "outputs": [
    {
     "data": {
      "image/png": "[encoded data removed]",
      "text/plain": [
       "<Figure size 648x648 with 1 Axes>"
      ]
     },
     "metadata": {
      "needs_background": "light"
     },
     "output_type": "display_data"
    }
   ],
   "source": [
    "f, ax = plt.subplots(1, figsize=(9, 9))\n",
    "mx.plot(ax=ax, column='PCGDP1940', legend=True, scheme='Quantiles', fmt='{:.0f}')\n",
    "ax.set_axis_off()\n",
    "ax.set_title('PCGDP1940')\n",
    "plt.axis('equal')\n",
    "plt.show()"
   ]
  },
  {
   "cell_type": "markdown",
   "metadata": {},
   "source": [
    "The default color map used by geopandas is viridis, which is a multi-hue sequential scheme, with the darker (ligher) hues representing lower (higher) values for the attribute in question. The choice of a color scheme for a choropleth map should be based on the type of variable underconsideration. Generally, a distinction is drawn between three types of numerical attributues:\n",
    "\n",
    "- sequential\n",
    "- diverging\n",
    "- qualitative"
   ]
  },
  {
   "cell_type": "markdown",
   "metadata": {},
   "source": [
    "### Sequential Color Schemes"
   ]
  },
  {
   "cell_type": "markdown",
   "metadata": {},
   "source": [
    "Our attribute is measured in dollars and is characterized as a *sequential* attribute. To choose an appropriate sequential scheme we can override the `cmap` parameter:"
   ]
  },
  {
   "cell_type": "code",
   "execution_count": 39,
   "metadata": {},
   "outputs": [
    {
     "data": {
      "image/png": "[encoded data removed]",
      "text/plain": [
       "<Figure size 648x648 with 1 Axes>"
      ]
     },
     "metadata": {
      "needs_background": "light"
     },
     "output_type": "display_data"
    }
   ],
   "source": [
    "f, ax = plt.subplots(1, figsize=(9, 9))\n",
    "mx.plot(ax=ax, column='PCGDP1940', legend=True, scheme='Quantiles', fmt='{:.0f}', \\\n",
    "         cmap='Blues')\n",
    "ax.set_axis_off()\n",
    "ax.set_title('PCGDP1940')\n",
    "plt.axis('equal')\n",
    "plt.show()"
   ]
  },
  {
   "cell_type": "markdown",
   "metadata": {},
   "source": [
    "which now uses a single-hue sequent,ial color map with the lighter shades representing lower values. One difficulty with this map is that the poor states in the southern portion of Mexico blend into the background of the map display. This can be adjusted by overriding the `edgecolor`:\n"
   ]
  },
  {
   "cell_type": "code",
   "execution_count": 40,
   "metadata": {},
   "outputs": [
    {
     "data": {
      "image/png": "[encoded data removed]",
      "text/plain": [
       "<Figure size 648x648 with 1 Axes>"
      ]
     },
     "metadata": {
      "needs_background": "light"
     },
     "output_type": "display_data"
    }
   ],
   "source": [
    "f, ax = plt.subplots(1, figsize=(9, 9))\n",
    "mx.plot(ax=ax, column='PCGDP1940', legend=True, scheme='Quantiles', fmt='{:.0f}', \\\n",
    "         cmap='Blues', edgecolor='k')\n",
    "ax.set_axis_off()\n",
    "ax.set_title('PCGDP1940')\n",
    "plt.axis('equal')\n",
    "plt.show()"
   ]
  },
  {
   "cell_type": "markdown",
   "metadata": {},
   "source": [
    "### Diverging Color Schemes\n",
    "\n",
    "A slightly different type of attribute is the so-called \"diverging\" values attribute. This is\n",
    "useful when one wishes to place equal emphasis on mid-range critical values as\n",
    "well as extremes at both ends of the distribution. Light colors are used to\n",
    "emphasize the mid-range class while dark colors with contrasting hues are used\n",
    "to distinguish the low and high extremes.\n",
    "\n",
    "To illustrate this for the Mexican\n",
    "income data we can derive a new variable which measures the change in a state's\n",
    "rank in the income distribution between 1940 to 2000:"
   ]
  },
  {
   "cell_type": "code",
   "execution_count": 41,
   "metadata": {},
   "outputs": [
    {
     "data": {
      "text/plain": [
       "array([1, 1, 0, 2, 1, 2, 1, 1, 2, 3, 2, 2, 1, 1, 4, 3, 1, 1, 2, 2, 3, 1,\n",
       "       2, 2, 2, 1, 0, 0, 2, 3, 2, 0])"
      ]
     },
     "execution_count": 41,
     "metadata": {},
     "output_type": "execute_result"
    }
   ],
   "source": [
    "rnk = mx.rank(ascending=False) # ascending ranks 1=high, n=lowest\n",
    "rnk['NAME']=mx['NAME']\n",
    "delta_rnk = rnk.PCGDP1940 - rnk.PCGDP2000\n",
    "delta_rnk\n",
    "cls = numpy.digitize(delta_rnk, [-5, 0, 5, 20])\n",
    "cls"
   ]
  },
  {
   "cell_type": "markdown",
   "metadata": {},
   "source": [
    "Here we have created four classes for the rank changes: [-inf, -5), [-5, 0), [0,\n",
    "5), [5, 20]. Note that these are descending ranks, so the wealthiest state in\n",
    "any period has a rank of 1 and therefore when considering the change in ranks, a\n",
    "negative change reflects moving down the income distribution."
   ]
  },
  {
   "cell_type": "code",
   "execution_count": 42,
   "metadata": {},
   "outputs": [
    {
     "data": {
      "image/png": "[encoded data removed]",
      "text/plain": [
       "<Figure size 648x648 with 1 Axes>"
      ]
     },
     "metadata": {
      "needs_background": "light"
     },
     "output_type": "display_data"
    }
   ],
   "source": [
    "f, ax = plt.subplots(1, figsize=(9, 9))\n",
    "mx.assign(cl=cls).plot(ax=ax, column='cl', categorical=True, cmap='RdYlBu',\n",
    "           scheme='equal_interval', k=4)\n",
    "ax.set_axis_off()\n",
    "ax.set_title('PCGDP1940')\n",
    "plt.axis('equal')\n",
    "plt.show()\n"
   ]
  },
  {
   "cell_type": "markdown",
   "metadata": {},
   "source": [
    "Here the red (blue) hues are states that have moved downwards (upwards) in the\n",
    "income distribution, with the darker hue representing a larger movement."
   ]
  },
  {
   "cell_type": "markdown",
   "metadata": {},
   "source": [
    "### Qualitative Color Schemes\n",
    "\n",
    "The Mexico data set also has several variables that\n",
    "are on a nominal measurement scale. One of these is a region definition variable\n",
    "that groups individual states in contiguous clusters of similar characteristics:"
   ]
  },
  {
   "cell_type": "code",
   "execution_count": 43,
   "metadata": {},
   "outputs": [
    {
     "data": {
      "text/plain": [
       "0    1.0\n",
       "1    2.0\n",
       "2    2.0\n",
       "3    3.0\n",
       "4    2.0\n",
       "Name: HANSON98, dtype: float64"
      ]
     },
     "execution_count": 43,
     "metadata": {},
     "output_type": "execute_result"
    }
   ],
   "source": [
    "mx['HANSON98'].head()"
   ]
  },
  {
   "cell_type": "markdown",
   "metadata": {},
   "source": [
    "This regionalization scheme partions Mexico into 5 regions. A naive (and\n",
    "incorrect) way to display this would be to treat the region variable as\n",
    "sequential and use a `UserDefined` classifier to display the regions:"
   ]
  },
  {
   "cell_type": "code",
   "execution_count": 44,
   "metadata": {},
   "outputs": [
    {
     "data": {
      "text/plain": [
       "UserDefined     \n",
       "\n",
       "Interval   Count\n",
       "----------------\n",
       "[1, 1] |     6\n",
       "(1, 2] |     7\n",
       "(2, 3] |    10\n",
       "(3, 4] |     2\n",
       "(4, 5] |     7"
      ]
     },
     "execution_count": 44,
     "metadata": {},
     "output_type": "execute_result"
    }
   ],
   "source": [
    "import numpy as np\n",
    "h5 = mapclassify.UserDefined(mx['HANSON98'], bins=np.arange(1,6).tolist())\n",
    "h5.fmt = '{:.0f}'\n",
    "h5"
   ]
  },
  {
   "cell_type": "code",
   "execution_count": 45,
   "metadata": {},
   "outputs": [
    {
     "data": {
      "image/png": "[encoded data removed]",
      "text/plain": [
       "<Figure size 432x288 with 1 Axes>"
      ]
     },
     "metadata": {
      "needs_background": "light"
     },
     "output_type": "display_data"
    }
   ],
   "source": [
    "_ = h5.plot(mx, axis_on=False)"
   ]
  },
  {
   "cell_type": "markdown",
   "metadata": {},
   "source": [
    "This is not correct because the region variable is not on an interval scale, so\n",
    "the differences between the values have no quantitative significance but rather\n",
    "the values simply indicate region membership. However, the choropleth above gives\n",
    "a clear visual cue that regions in the south have larger values\n",
    "than those in the north, as the color map implies an intensity gradient.\n",
    "\n",
    "A more appropriate visualization\n",
    "is to use a \"qualitative\" color palette:"
   ]
  },
  {
   "cell_type": "code",
   "execution_count": 46,
   "metadata": {},
   "outputs": [
    {
     "data": {
      "image/png": "[encoded data removed]",
      "text/plain": [
       "<Figure size 432x288 with 1 Axes>"
      ]
     },
     "metadata": {
      "needs_background": "light"
     },
     "output_type": "display_data"
    }
   ],
   "source": [
    "_ = h5.plot(mx, cmap='Pastel1', axis_on=False)"
   ]
  },
  {
   "cell_type": "markdown",
   "metadata": {},
   "source": [
    "## Conclusion\n",
    "\n",
    "In this chapter we have considered the construction of choropleth maps for\n",
    "spatial data visualization. The key issues of the choice of classification\n",
    "scheme, variable measurement scale, spatial configuration and color palettes\n",
    "were illustrated using PySAL's map classification module together with other\n",
    "related packages in the PyData stack.\n",
    "\n",
    "Choropleth maps are a central tool in the geographic data science arsenal as\n",
    "they provide powerful visualizations of the spatial distribution of attribute\n",
    "values. We have only touched on the basic concepts in this chapter, as there is\n",
    "much more that can be said about cartographic theory and the design of effective\n",
    "choropleth maps. Readers interested in pursuing this literature are encouraged\n",
    "to see the references cited.\n",
    "\n",
    "At the same time, given the philosophy underlying PySAL the methods we cover\n",
    "here are sufficient for exploratory data analysis where the rapid and flexible\n",
    "generation of views is critical to the work flow. Once the analysis is complete,\n",
    "and the final presentation quality maps are to be generated, there are excellent\n",
    "packages in the data stack that the user can turn to.\n",
    "\n",
    "## Questions\n",
    "\n",
    "1. A variable such as population density measured for census tracts in a metropolitan area can display a high degree of skewness. What is an appropriate choice for a choropleth classification for such a variable?\n",
    "2. Provide two solutions to the problem of ties when applying quantile classification to the following series: $y=[2,2,2,2,2,2,4,7,8,9,20,21]$ and $k=4$. Discuss the merits of each approach.\n",
    "3. Which classifiers are appropriate for data that displays a high degree of multi-modality in its statistical distribution?\n",
    "4. Contrast and compare classed choropleth maps with class-less choropleth maps? What are the strengths and limitations of each type of visualization for spatial data?\n",
    "5. In what ways do choropleth classifiers treat intra-class and inter-class heterogeneity differently? What are the implications of these choices?\n",
    "6. To what extent do most commonly employed choropleth classification methods take the geographical distribution of the variable into consideration? Can you think of ways to incorporate the spatial features of a variable into a classification?\n",
    "7. Discuss the similarities between  the choice of the number of classes in choropleth mapping, on the one hand, and the determination of the number of clusters in a data set on the other. What aspects of choropleth mapping differentiate the former from the latter?\n",
    "8. The Fisher-Jenks classifier will always dominate other k-classifiers for a given data set, with respect to statistical fit. Given this, why might one decide on choosing a different k-classifier for a particular data set?"
   ]
  },
  {
   "cell_type": "markdown",
   "metadata": {},
   "source": [
    "## References\n",
    "\n",
    "Duque, J.C., L. Anselin, and S.J. Rey. (2012) \"The max-p regions problem.\" *Journal of Regional Science*, 52:397-419.\n",
    "\n",
    "Jenks, G. F., & Caspall, F. C. (1971). Error on choroplethic maps: definition, measurement, reduction. Annals of the Association of American Geographers, 61(2), 217-244.\n",
    "\n",
    "Jian, B. (2013) \"Head/Tail Breaks: A New Classification Scheme for Data with a Heavy-Tailed Distribution.\" *The Professional Geographer*, 65(3): 482-494.\n",
    "\n",
    "Jiang, Bin. (2015) \"Head/tail breaks for visualization of city\n",
    "structure and dynamics.\" *Cities*, 43: 69-77.\n",
    "\n",
    "Rey, S.J. and M.L. Guitierez. (2010)\n",
    "\"Interregional inequality dynamics in Mexico.\" *Spatial Economic Analysis*, 5:\n",
    "277-298."
   ]
  },
  {
   "cell_type": "markdown",
   "metadata": {},
   "source": [
    "---\n",
    "\n",
    "<a rel=\"license\" href=\"http://creativecommons.org/licenses/by-nc-nd/4.0/\"><img alt=\"Creative Commons License\" style=\"border-width:0\" src=\"https://i.creativecommons.org/l/by-nc-nd/4.0/88x31.png\" /></a><br />This work is licensed under a <a rel=\"license\" href=\"http://creativecommons.org/licenses/by-nc-nd/4.0/\">Creative Commons Attribution-NonCommercial-NoDerivatives 4.0 International License</a>."
   ]
  }
 ],
 "metadata": {
  "jupytext": {
   "formats": "ipynb,md"
  },
  "kernelspec": {
   "display_name": "Python 3",
   "language": "python",
   "name": "python3"
  },
  "language_info": {
   "codemirror_mode": {
    "name": "ipython",
    "version": 3
   },
   "file_extension": ".py",
   "mimetype": "text/x-python",
   "name": "python",
   "nbconvert_exporter": "python",
   "pygments_lexer": "ipython3",
   "version": "3.7.6"
  }
 },
 "nbformat": 4,
 "nbformat_minor": 4
}
