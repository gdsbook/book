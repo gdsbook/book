{
 "cells": [
  {
   "cell_type": "markdown",
   "id": "original-phoenix",
   "metadata": {},
   "source": [
    "# Table of Contents\n",
    "\n",
    "## Part I: Building Blocks\n",
    "\n",
    "- [Geographic Thinking for Data Scientists](01_geo_thinking)\n",
    "- [Geospatial Computational Environment](02_geospatial_computational_environment)\n",
    "- [Spatial data](03_spatial_data)\n",
    "- [Spatial weights](04_spatial_weights)\n",
    "\n",
    "## Part II: Spatial Data Analysis\n",
    "\n",
    "- [Choropleth Mapping](05_choropleth)\n",
    "- [Spatial Autocorrelation](06_spatial_autocorrelation)\n",
    "- [Local Spatial Autocorrelation](07_local_autocorrelation)\n",
    "- [Point Pattern Analysis](08_point_pattern_analysis)\n",
    "\n",
    "## Part III: Advanced Topics\n",
    "\n",
    "- [Spatial Inequality](09_spatial_inequality)\n",
    "- [Clustering and Regionalization](10_clustering_and_regionalization)\n",
    "- [Spatial Regression](11_regression)\n",
    "- [Spatial Feature Engineering](12_feature_engineering)\n",
    "\n"
   ]
  }
 ],
 "metadata": {
  "jupytext": {
   "formats": "ipynb,md"
  },
  "kernelspec": {
   "display_name": "Python 3",
   "language": "python",
   "name": "python3"
  }
 },
 "nbformat": 4,
 "nbformat_minor": 5
}
