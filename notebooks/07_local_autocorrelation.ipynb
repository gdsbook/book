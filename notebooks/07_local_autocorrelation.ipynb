{
 "cells": [
  {
   "cell_type": "code",
   "execution_count": null,
   "id": "amazing-recruitment",
   "metadata": {
    "tags": [
     "remove-cell"
    ]
   },
   "outputs": [],
   "source": [
    "import warnings\n",
    "warnings.filterwarnings(\"ignore\")"
   ]
  },
  {
   "cell_type": "markdown",
   "id": "pacific-horror",
   "metadata": {},
   "source": [
    "# Local Spatial Autocorrelation"
   ]
  },
  {
   "cell_type": "markdown",
   "id": "superb-corner",
   "metadata": {},
   "source": [
    "In the previous chapter we explored the use of global measures of spatial autocorrelation to ask the question of whether the overall spatial distribution of our attribute of interest was reflective of a geographically random process, or not. These statistics are useful as the presence of spatial autocorrelation has important implications for subsequent statistical analysis. From a substantive perspective, spatial autocorrelation could reflect the operation of processes that generate association between the values in nearby locations. In these cases formal modeling of the spatial dimensions of the processes should next be carried out. On the other hand, spatial autocorrelation can sometimes arise from data processing operations in which cases the dependence is a form of non-random noise rather than due to substantive processes. Irrespective of whether the spatial autocorrelation is due to substantive or nuisance sources, it is a form of non-randomness that complicates statistical analysis.\n",
    "\n",
    "For these reasons the ability to determine whether  spatial autocorrelation is present in a geographically referenced data set is a critical component of the spatial data science toolbox. That said, the global measures of spatial autocorrelation are \"whole map\" statistics, meaning that the single statistic pertains to the complete data set. In other words, global autocorrelation statistics allow us to detect *clustering* in a geographically referenced dataset. For example,\n",
    "Moran's I is good tool to summarize a dataset into a single value that informs\n",
    "about its degree of geographical clustering. However, it is not an appropriate\n",
    "measure to identify areas within the map where specific types of values (e.g.\n",
    "high, low) are located. In other words, Moran's I can tell us values are\n",
    "clustered overall, but it will not inform us about where the *clusters* are.\n",
    "For that purpose, we need to use a local measure of spatial autocorrelation.\n",
    "Local measures consider each single observation and operate on them, as opposed\n",
    "to on the overall dataset, as global measures do. Because of that, they are not\n",
    "good at summarizing a map, but they allow to obtain further insights about\n",
    "interesting geographical subsets of the data. In this chapter, we consider\n",
    "Local Indicators of Spatial Association (LISAs) {cite}`Anselin1995local`, a\n",
    "local counter-part of global measures like Moran's I.\n",
    "\n"
   ]
  },
  {
   "cell_type": "markdown",
   "id": "sacred-russell",
   "metadata": {},
   "source": [
    "## An empirical illustration: the EU Referendum\n",
    "\n",
    "We continue with the same dataset we examined in the previous chapter, and thus we utilize the same imports and initial data preparation steps:"
   ]
  },
  {
   "cell_type": "code",
   "execution_count": null,
   "id": "dressed-hands",
   "metadata": {},
   "outputs": [],
   "source": [
    "# Display graphics within the notebook\n",
    "%matplotlib inline\n",
    "\n",
    "import matplotlib.pyplot as plt  # Graphics\n",
    "from matplotlib import colors\n",
    "import seaborn                   # Graphics\n",
    "import geopandas                 # Spatial data manipulation\n",
    "import pandas                    # Tabular data manipulation\n",
    "from pysal.explore import esda   # Exploratory Spatial analytics\n",
    "from pysal.lib import weights\n",
    "import contextily                # Background tiles"
   ]
  },
  {
   "cell_type": "code",
   "execution_count": null,
   "id": "voluntary-beads",
   "metadata": {},
   "outputs": [],
   "source": [
    "ref = pandas.read_csv('../data/brexit/brexit_vote.csv', \n",
    "                      index_col='Area_Code')\n",
    "ref.info()"
   ]
  },
  {
   "cell_type": "markdown",
   "id": "wanted-constitutional",
   "metadata": {},
   "source": [
    "Now let us bring in the spatial data:"
   ]
  },
  {
   "cell_type": "code",
   "execution_count": null,
   "id": "quick-cabin",
   "metadata": {},
   "outputs": [],
   "source": [
    "lads = geopandas.read_file(\"../data/brexit/local_authority_districts.geojson\")\\\n",
    "                .set_index('lad16cd')\n",
    "lads.info()"
   ]
  },
  {
   "cell_type": "markdown",
   "id": "signal-civilian",
   "metadata": {},
   "source": [
    "And to \"trim\" the `DataFrame` so it only retains what we know we will need:"
   ]
  },
  {
   "cell_type": "code",
   "execution_count": null,
   "id": "billion-library",
   "metadata": {},
   "outputs": [],
   "source": [
    "db = geopandas.GeoDataFrame(lads.join(ref[['Pct_Leave']]), crs=lads.crs)\\\n",
    "              .to_crs(epsg=3857)\\\n",
    "              [['objectid', 'lad16nm', 'Pct_Leave', 'geometry']]\\\n",
    "              .dropna()\n",
    "db.info()"
   ]
  },
  {
   "cell_type": "markdown",
   "id": "classified-anniversary",
   "metadata": {},
   "source": [
    "Although there are several variables that could be considered, we will focus on `Pct_Leave`, which measures the proportion of votes for the Leave alternative. For convenience, let us merge this with the spatial data and project the output into the Spherical Mercator coordinate reference system (CRS), which will allow us to combine them with contextual tiles."
   ]
  },
  {
   "cell_type": "code",
   "execution_count": null,
   "id": "distinct-ending",
   "metadata": {},
   "outputs": [],
   "source": [
    "lads.crs"
   ]
  },
  {
   "cell_type": "markdown",
   "id": "multiple-memphis",
   "metadata": {},
   "source": [
    "And with this elements, we can generate a choropleth to get a quick sense of the spatial distribution of the data we will be analyzing. Note how we use some visual tweaks (e.g. transparency through the `alpha` attribute) to make the final plot easier to read."
   ]
  },
  {
   "cell_type": "code",
   "execution_count": null,
   "id": "banner-runner",
   "metadata": {},
   "outputs": [],
   "source": [
    "f, ax = plt.subplots(1, figsize=(9, 9))\n",
    "db.plot(column='Pct_Leave', \n",
    "        cmap='viridis', \n",
    "        scheme='quantiles',\n",
    "        k=5, \n",
    "        edgecolor='white', \n",
    "        linewidth=0., \n",
    "        alpha=0.75, \n",
    "        legend=True,\n",
    "        legend_kwds={\"loc\": 2},\n",
    "        ax=ax\n",
    "       )\n",
    "contextily.add_basemap(ax, \n",
    "                       crs=db.crs, \n",
    "                       source=contextily.providers.Stamen.TerrainBackground,\n",
    "                       \n",
    "                      )\n",
    "ax.set_axis_off()"
   ]
  },
  {
   "cell_type": "markdown",
   "id": "variable-classics",
   "metadata": {},
   "source": [
    "The final piece we need before we can delve into spatial autocorrelation is the spatial weights matrix. We will use eight nearest neighbors for the sake of comparison with the previous chapter. We also row-standardize the weights:"
   ]
  },
  {
   "cell_type": "code",
   "execution_count": null,
   "id": "united-producer",
   "metadata": {},
   "outputs": [],
   "source": [
    "# Generate W from the GeoDataFrame\n",
    "w = weights.distance.KNN.from_dataframe(db, k=8)\n",
    "# Row-standardization\n",
    "w.transform = 'R'"
   ]
  },
  {
   "cell_type": "markdown",
   "id": "ordered-bhutan",
   "metadata": {},
   "source": [
    "## Motivating Local Spatial Autocorrelation\n",
    "\n",
    "To better understand the underpinning of local autocorrelation, we will return to the Moran Plot as a graphical tool. Let us first calculate the spatial lag of our variable of interest:"
   ]
  },
  {
   "cell_type": "code",
   "execution_count": null,
   "id": "beneficial-order",
   "metadata": {},
   "outputs": [],
   "source": [
    "db['w_Pct_Leave'] = weights.spatial_lag.lag_spatial(w, db['Pct_Leave'])"
   ]
  },
  {
   "cell_type": "markdown",
   "id": "universal-paste",
   "metadata": {},
   "source": [
    "And their respective standardized versions, where we subtract the average and divide by the standard deviation:"
   ]
  },
  {
   "cell_type": "code",
   "execution_count": null,
   "id": "united-danger",
   "metadata": {},
   "outputs": [],
   "source": [
    "db['Pct_Leave_std'] = ( db['Pct_Leave'] - db['Pct_Leave'].mean() )\\\n",
    "                    / db['Pct_Leave'].std()\n",
    "db['w_Pct_Leave_std'] = ( db['w_Pct_Leave'] - db['w_Pct_Leave'].mean() )\\\n",
    "                    / db['w_Pct_Leave'].std()"
   ]
  },
  {
   "cell_type": "markdown",
   "id": "institutional-danish",
   "metadata": {},
   "source": [
    "Technically speaking, creating a Moran Plot is very similar to creating any other scatter plot in Python:"
   ]
  },
  {
   "cell_type": "code",
   "execution_count": null,
   "id": "controlled-response",
   "metadata": {},
   "outputs": [],
   "source": [
    "# Setup the figure and axis\n",
    "f, ax = plt.subplots(1, figsize=(6, 6))\n",
    "# Plot values\n",
    "seaborn.regplot(x='Pct_Leave_std', y='w_Pct_Leave_std', data=db, ci=None)\n",
    "# Display\n",
    "plt.show()"
   ]
  },
  {
   "cell_type": "markdown",
   "id": "large-logging",
   "metadata": {},
   "source": [
    "Using standardized values allows us to divide each variable (the percentage that voted to leave, and its spatial lag) in two groups: above and below the average. This, in turn, divides a Moran Plot in four quadrants, depending on whether a given area displays a value above the mean (high) or below (low), and how its spatial lag behaves:\n",
    "\n",
    "* High-high (HH)\n",
    "* Low-high (LH)\n",
    "* Low-low (LL)\n",
    "* High-low (HL)\n",
    "\n",
    "Graphically, this can be captured as follows:"
   ]
  },
  {
   "cell_type": "code",
   "execution_count": null,
   "id": "premier-raise",
   "metadata": {},
   "outputs": [],
   "source": [
    "# Setup the figure and axis\n",
    "f, ax = plt.subplots(1, figsize=(6, 6))\n",
    "# Plot values\n",
    "seaborn.regplot(x='Pct_Leave_std', y='w_Pct_Leave_std', data=db, ci=None)\n",
    "# Add vertical and horizontal lines\n",
    "plt.axvline(0, c='k', alpha=0.5)\n",
    "plt.axhline(0, c='k', alpha=0.5)\n",
    "# Add text labels for each quadrant\n",
    "plt.text(1, 1.5, \"HH\", fontsize=25)\n",
    "plt.text(1, -1.5, \"HL\", fontsize=25)\n",
    "plt.text(-1.5, 1.5, \"LH\", fontsize=25)\n",
    "plt.text(-1.5, -1.5, \"LL\", fontsize=25)\n",
    "# Display\n",
    "plt.show()"
   ]
  },
  {
   "cell_type": "markdown",
   "id": "acceptable-ecology",
   "metadata": {},
   "source": [
    "## Local Moran's I\n",
    "\n",
    "So far we have classified each observation in the dataset depending on its value and that of its neighbors. This is only half way into identifying areas of unusual concentration of values. To know whether each of the locations is a *statistically significant* cluster of a given kind, we again need to compare it with what we would expect if the data were allocated in a completely random way. After all, by definition, every observation will be of one kind of another, based on the comparison above. However, what we are interested in is whether the strength with which the values are concentrated is unusually high.\n",
    "\n",
    "This is exactly what LISAs are designed to do. A more detailed description of their statistical underpinnings is beyond the scope in this context, but we will provide some intuition about how they work. The core idea is to identify cases in which the comparison between the value of an observation and the average of its neighbors is either more similar (HH, LL) or dissimilar (HL, LH) than we would expect from pure chance. The mechanism to do this is similar to the one in the global Moran's I, but applied in this case to each observation, resulting then in as many statistics as original observations. The formal representation of the statistic can be written as:\n",
    "\n",
    "$$\n",
    "I_i = \\dfrac{z_i}{m_2} \\displaystyle\\sum_j w_{ij} z_j \\; ; \\; m_2 = \\dfrac{\\sum_i z_i^2}{n}\n",
    "$$\n",
    "\n",
    "where $m_2$ is the second moment (variance) of the distribution of values in the data, $z_i = y_i - \\bar{y}$, $w_{i,j}$ is the spatial weight for the pair of observations $i$ and $j$, and $n$ is the number of observations.\n",
    "\n",
    "LISAs are widely used in many fields to identify clusters of values in space. They are a very useful tool that can quickly return areas in which values are concentrated and provide suggestive evidence about the processes that might be at work. For that, they have a prime place in the exploratory toolbox. Examples of contexts where LISAs can be useful include: identification of spatial clusters of poverty in regions, detection of ethnic enclaves, delineation of areas of particularly high/low activity of any phenomenon, etc.\n"
   ]
  },
  {
   "cell_type": "markdown",
   "id": "awful-paris",
   "metadata": {},
   "source": [
    "In Python, we can calculate LISAs in a very streamlined way thanks to `PySAL`:"
   ]
  },
  {
   "cell_type": "code",
   "execution_count": null,
   "id": "cross-ordering",
   "metadata": {},
   "outputs": [],
   "source": [
    "lisa = esda.moran.Moran_Local(db['Pct_Leave'], w)"
   ]
  },
  {
   "cell_type": "markdown",
   "id": "standing-secretariat",
   "metadata": {},
   "source": [
    "All we need to pass is the variable of interest -proportion of Leave votes in this context- and the spatial weights that describes the neighborhood relations between the different areas that make up the dataset. This creates a LISA object that has a number of attributes of interest. The local indicators themselves are in the `Is` attribute and we can get a sense of their distribution using `seaborn`:"
   ]
  },
  {
   "cell_type": "code",
   "execution_count": null,
   "id": "suburban-treasure",
   "metadata": {},
   "outputs": [],
   "source": [
    "seaborn.distplot(lisa.Is)"
   ]
  },
  {
   "cell_type": "markdown",
   "id": "racial-explosion",
   "metadata": {},
   "source": [
    "This reveals a rather skewed distribution due to the dominance of the positive forms of spatial association. Here it is important to keep in mind that the high positive values arise from value similarity in space, and this can be due to either high values being next to high values *or* low values next to low values. The local $I_i$ values themselves cannot distinguish between these two.\n",
    "\n",
    "The values in the left tail of the density represent locations displaying negative spatial association. There are also two forms, a high value surrounded by low values, or a low value surrounded by high valued neighboring observations. And, again, the  $I_i$ value cannot distinguish between the two cases."
   ]
  },
  {
   "cell_type": "markdown",
   "id": "important-cambridge",
   "metadata": {},
   "source": [
    "Because of their very nature, looking at the numerical result of LISAs is not always the most useful way to exploit all the information they can provide. Remember we are calculating a statistic for every single observation in the data so, if we have many of them, it will be difficult to extract any meaningful pattern. In this context, a choropleth can help. At first glance, this may seem to suggest that a map of the $I_i$  values would be a useful way to visualize the spatial distribution:"
   ]
  },
  {
   "cell_type": "code",
   "execution_count": null,
   "id": "spectacular-graphics",
   "metadata": {},
   "outputs": [],
   "source": [
    "f, ax = plt.subplots(1, figsize=(9,9))\n",
    "db['Is'] = lisa.Is\n",
    "db.plot(column='Is', cmap='viridis', scheme='quantiles',\n",
    "        k=5, edgecolor='white', linewidth=0.1, alpha=0.75, legend=True,ax=ax);\n",
    "contextily.add_basemap(ax, \n",
    "                       crs=db.crs, \n",
    "                       source=contextily.providers.Stamen.TerrainBackground\n",
    "                      )\n",
    "ax.set_axis_off()"
   ]
  },
  {
   "cell_type": "markdown",
   "id": "owned-broadway",
   "metadata": {},
   "source": [
    "However, this does not inform us in any way about what type of spatial correlation each area is experiencing. For example, are the yellow areas in Scotland similar to those in the East cluster of high values too? Also, we know that values around zero will not be statistically significant. Which ones are thus significant and non-significant from a statistical point of view? In other words, which ones can be considered statistical clusters and which ones noise? To answer these questions, we need to bring in additional information that we have obtained when calculating the LISA statistics. Let us first build a four-plot figure that brings all these different perspectives together:"
   ]
  },
  {
   "cell_type": "code",
   "execution_count": null,
   "id": "unavailable-asian",
   "metadata": {},
   "outputs": [],
   "source": [
    "# Set up figure and axes\n",
    "f, axs = plt.subplots(nrows=2, ncols=2, figsize=(12, 12))\n",
    "# Make the axes accessible with single indexing\n",
    "axs = axs.flatten()\n",
    "\n",
    "                    # Subplot 1 #\n",
    "ax = axs[0]\n",
    "db.plot(column='Is', cmap='viridis', scheme='quantiles',\n",
    "        k=5, edgecolor='white', linewidth=0.1, alpha=0.75, legend=True, ax=ax)\n",
    "ax.set_aspect('equal')\n",
    "ax.set_axis_off()\n",
    "\n",
    "                    # Subplot 2 #\n",
    "ax = axs[1]\n",
    "q_labels = ['Q1', 'Q2', 'Q3', 'Q4']\n",
    "labels = [q_labels[i-1] for i in lisa.q]\n",
    "hmap = colors.ListedColormap([ 'red', 'lightblue', 'blue', 'pink'])\n",
    "db.assign(cl=labels).plot(column='cl', categorical=True, \\\n",
    "        k=2, cmap=hmap, linewidth=0.1, ax=ax, \\\n",
    "        edgecolor='white', legend=True)\n",
    "\n",
    "ax.set_aspect('equal')\n",
    "ax.set_axis_off()\n",
    "\n",
    "                    # Subplot 3 #\n",
    "\n",
    "ax = axs[2]\n",
    "sig = 1 * (lisa.p_sim < 0.05)\n",
    "hmap = colors.ListedColormap(['grey','black'])\n",
    "labels = ['non-sig.', 'significant'] \n",
    "labels = [labels[i] for i in sig]\n",
    "db.assign(cl=labels).plot(column='cl', categorical=True, \\\n",
    "        k=2, cmap=hmap, linewidth=0.1, ax=ax, \\\n",
    "        edgecolor='white', legend=True)\n",
    "\n",
    "ax.set_aspect('equal')\n",
    "ax.set_axis_off()\n",
    "                            \n",
    "                    # Subplot 4 #\n",
    "ax = axs[3]\n",
    "hotspot = 1 * (sig * lisa.q==1)\n",
    "coldspot = 3 * (sig * lisa.q==3)\n",
    "doughnut = 2 * (sig * lisa.q==2)\n",
    "diamond = 4 * (sig * lisa.q==4)\n",
    "spots = hotspot + coldspot + doughnut + diamond\n",
    "spot_labels = [ '0 ns', '1 hot spot', '2 doughnut', '3 cold spot', '4 diamond']\n",
    "labels = [spot_labels[i] for i in spots]\n",
    "hmap = colors.ListedColormap([ 'grey', 'red', 'lightblue', 'blue', 'pink'])\n",
    "\n",
    "\n",
    "db.assign(cl=labels).plot(column='cl', categorical=True, \\\n",
    "        k=2, cmap=hmap, linewidth=0.1, ax=ax, \\\n",
    "        edgecolor='white', legend=True)\n",
    "\n",
    "ax.set_aspect('equal')\n",
    "ax.set_axis_off()\n",
    "\n",
    "\n",
    "# Display the figure\n",
    "plt.show()"
   ]
  },
  {
   "cell_type": "markdown",
   "id": "turned-anthropology",
   "metadata": {},
   "source": [
    "The figure in the upper-left replicates our first map above. The green and yellow locations have the largest values for the local statistics, yet this does not distinguish between positive association of low support for the Brexit vote and positive association of high support for Brexit.\n",
    "\n",
    "To distinguish between these two cases, the map in the upper-right shows the location of the LISA statistic in the quadrant of the Moran Scatter plot, which is recorded in the `q` attribute:\n"
   ]
  },
  {
   "cell_type": "code",
   "execution_count": null,
   "id": "particular-ceremony",
   "metadata": {},
   "outputs": [],
   "source": [
    "lisa.q[:10]"
   ]
  },
  {
   "cell_type": "markdown",
   "id": "paperback-bread",
   "metadata": {},
   "source": [
    "The correspondence between the numbers in the `q` attribute and the actual quadrants is as follows:\n",
    "\n",
    "* 1: HH\n",
    "* 2: LH\n",
    "* 3: LL\n",
    "* 4: HL\n",
    "\n"
   ]
  },
  {
   "cell_type": "markdown",
   "id": "cardiac-forty",
   "metadata": {},
   "source": [
    "Comparing the two maps in the top row reveals that the positive association in the north is due to low support for the Brexit vote, while the positive association in the south is of the high-support for Brexit. Overall, we can obtain counts of areas in each quadrant:"
   ]
  },
  {
   "cell_type": "code",
   "execution_count": null,
   "id": "dense-treasure",
   "metadata": {},
   "outputs": [],
   "source": [
    "counts = [(j,(lisa.q==j).sum()) for j in range(1,5)]\n",
    "counts"
   ]
  },
  {
   "cell_type": "markdown",
   "id": "imposed-decline",
   "metadata": {},
   "source": [
    "Showing that the high-high (1), and low-low (3), values are predominant."
   ]
  },
  {
   "cell_type": "markdown",
   "id": "collected-being",
   "metadata": {},
   "source": [
    "Care must be taken, however, in the interpretation of these first two maps, as the underlying statistical significance of the local values has not been considered."
   ]
  },
  {
   "cell_type": "markdown",
   "id": "parliamentary-remark",
   "metadata": {},
   "source": [
    "Instead, what is typically done is to create a map, a cluster map as it is usually called, that extracts the significant observations (those that are highly unlikely to have come from pure chance) and plots them with a specific color depending on their quadrant category.\n",
    "\n",
    "All of the needed pieces are contained inside the `lisa` object we have created above. But, to make the map making more straightforward, it is convenient to pull them out and insert them in the main data table:"
   ]
  },
  {
   "cell_type": "code",
   "execution_count": null,
   "id": "matched-temperature",
   "metadata": {},
   "outputs": [],
   "source": [
    "sig = 1 * (lisa.p_sim < 0.05)\n",
    "db['p-sim'] = lisa.p_sim\n",
    "db['sig'] = sig\n",
    "db[['sig','p-sim']].head()"
   ]
  },
  {
   "cell_type": "code",
   "execution_count": null,
   "id": "hidden-mason",
   "metadata": {},
   "outputs": [],
   "source": [
    "db[['sig','p-sim']].tail()"
   ]
  },
  {
   "cell_type": "markdown",
   "id": "visible-iceland",
   "metadata": {},
   "source": [
    "Thus, the first five values are statistically significant, while the last five observations are not."
   ]
  },
  {
   "cell_type": "markdown",
   "id": "solar-colleague",
   "metadata": {},
   "source": [
    "Let us stop for second on these two steps. First, the `significant` column. Similarly as with global Moran's I, `PySAL` is automatically computing a p-value for each LISA. Because not every observation represents a statistically significant one, we want to identify those with a p-value small enough that rules out the possibility of obtaining a similar situation from pure chance. Following a similar reasoning as with global Moran's I, we select 5% as the threshold for statistical significance. To identify these values, we create a variable, `significant`, that contains `True` if the p-value of the observation satisfies the condition, and `False` otherwise. We can check this is the case:"
   ]
  },
  {
   "cell_type": "markdown",
   "id": "casual-toner",
   "metadata": {},
   "source": [
    "Next we consider the `q` attribute signifying what quadrant the local value is, but now mask these values using are newly created significance indicator:"
   ]
  },
  {
   "cell_type": "code",
   "execution_count": null,
   "id": "determined-slovakia",
   "metadata": {},
   "outputs": [],
   "source": [
    "hotspot = 1 * (sig * lisa.q==1)\n",
    "coldspot = 3 * (sig * lisa.q==3)\n",
    "doughnut = 2 * (sig * lisa.q==2)\n",
    "diamond = 4 * (sig * lisa.q==4)\n",
    "spots = hotspot + coldspot + doughnut + diamond\n",
    "spot_labels = [ '0 ns', '1 hot spot', '2 doughnut', '3 cold spot', '4 diamond']"
   ]
  },
  {
   "cell_type": "markdown",
   "id": "raising-chess",
   "metadata": {},
   "source": [
    "We also give descriptive labels to the five cases, where the locations with non-significant p-values for the LISAs are labeled as `ns`. Positive forms of local spatial autocorrelation are of two types: significant HH clustering, or so called 'hot spot's, or significant clustering of LL values, or 'cold spot's. Locations with significant, but negative, local autocorrelation are either 'doughnut's where a low value is neighbored by locations with high support for Brexit, or 'diamonds in the rough' where a high value is surrounded by low values.\n"
   ]
  },
  {
   "cell_type": "code",
   "execution_count": null,
   "id": "ordered-orleans",
   "metadata": {},
   "outputs": [],
   "source": [
    "db['labels'] = labels\n",
    "[(spot_label, (db['labels']==spot_label).sum()) for spot_label in spot_labels]"
   ]
  },
  {
   "cell_type": "markdown",
   "id": "adequate-volunteer",
   "metadata": {},
   "source": [
    "The final cluster map in the lower right above displays the output of the LISA statistics for the percentage of Leave votes in English, Welsh and Scottish local authorities. In bright red, we find those with an unusual concentration of high Leave proportions surrounded also by high Leave results. This corresponds with areas in the East and center of the map. In light red, we find the first type of spatial outliers: areas that still voted to Leave in high proportions, despite being surrounded by areas with more modest support for Leave. These correspond with some of the peripheral areas of London and and adjacent to Oxford. In darker blue we can see the spatial clusters of low support for the Leave campaign, which include London, Oxford and most of Scotland. Finally, in light blue we find the other type of spatial outlier: areas with lower percentages of Leave votes nearby areas of high concentration of supporters for Leave."
   ]
  },
  {
   "cell_type": "markdown",
   "id": "brutal-tuition",
   "metadata": {},
   "source": [
    "## Other local indices\n",
    "\n",
    "Similar to the global case, there are more local indicators of spatial correlation than the local Moran's I. `PySAL` includes Getis and Ord's $G_i$ and $G_i^*$, which differ only on whether to exclude the self-value in the calculation or not, respectively. The way to calculate them also follows similar patterns as with the LISA above. Let us see how that would look like for our Brexit example:"
   ]
  },
  {
   "cell_type": "code",
   "execution_count": null,
   "id": "active-cloud",
   "metadata": {},
   "outputs": [],
   "source": [
    "# Gi\n",
    "gostats = esda.getisord.G_Local(db['Pct_Leave'], w)\n",
    "# Gi*\n",
    "gostars = esda.getisord.G_Local(db['Pct_Leave'], w, star=True)"
   ]
  },
  {
   "cell_type": "markdown",
   "id": "flying-wisconsin",
   "metadata": {},
   "source": [
    "As the local statistics they are, it is best to explore them by plotting them on a map. Unlike with LISA though, the $G$ statistics only allow to identify positive spatial autocorrelation. When standardized, positive values imply clustering of high values, while negative implies grouping of low values. Unfortunately, it is not possible to discern spatial outliers.\n",
    "\n",
    "In this case, let us write a little function that generates the map so we can then easily use it to generate two maps, one for $G_i$ and one for $G_i^*$:"
   ]
  },
  {
   "cell_type": "code",
   "execution_count": null,
   "id": "aggressive-least",
   "metadata": {},
   "outputs": [],
   "source": [
    "def g_map(g, geog, ax):\n",
    "    '''\n",
    "    Create a cluster map\n",
    "    ...\n",
    "    \n",
    "    Arguments\n",
    "    ---------\n",
    "    g      : G_Local\n",
    "             Object from the computation of the G statistic\n",
    "    geog   : GeoDataFrame\n",
    "             Table aligned with values in `g` and containing \n",
    "             the geometries to plot\n",
    "    ax     : AxesSubplot\n",
    "             `matplotlib` axis to draw the map on\n",
    "\n",
    "    Returns\n",
    "    -------\n",
    "    ax     : AxesSubplot\n",
    "             Axis with the map drawn\n",
    "    '''\n",
    "    ec = '0.8'\n",
    "    \n",
    "    # Break observations into significant or not\n",
    "    sig = g.p_sim < 0.05\n",
    "\n",
    "    # Plot non-significant clusters\n",
    "    ns = db.loc[sig==False, 'geometry']\n",
    "    ns.plot(ax=ax, color='grey', edgecolor=ec, linewidth=0.1)\n",
    "    # Plot HH clusters\n",
    "    hh = db.loc[(g.Zs > 0) & (sig==True), 'geometry']\n",
    "    hh.plot(ax=ax, color='red', edgecolor=ec, linewidth=0.1)\n",
    "    # Plot LL clusters\n",
    "    ll = db.loc[(g.Zs < 0) & (sig==True), 'geometry']\n",
    "    ll.plot(ax=ax, color='blue', edgecolor=ec, linewidth=0.1)\n",
    "    # Style and draw\n",
    "    contextily.add_basemap(ax, \n",
    "                           crs=db.crs, \n",
    "                           source=contextily.providers.Stamen.TerrainBackground,\n",
    "\n",
    "                          )\n",
    "    st = ''\n",
    "    if g.star:\n",
    "        st = '*'\n",
    "    ax.set_title('G%s statistic for Pct of Leave votes'%st, size=15)\n",
    "    ax.set_axis_off()\n",
    "    return ax"
   ]
  },
  {
   "cell_type": "code",
   "execution_count": null,
   "id": "traditional-million",
   "metadata": {},
   "outputs": [],
   "source": [
    "# Setup figure and axes\n",
    "f, axs = plt.subplots(1, 2, figsize=(12, 6))\n",
    "# Loop over the two statistics and generate the map\n",
    "for g, ax in zip([gostats, gostars], axs.flatten()):\n",
    "    ax = g_map(g, db, ax)\n",
    "# Render\n",
    "plt.show()"
   ]
  },
  {
   "cell_type": "markdown",
   "id": "instant-sessions",
   "metadata": {},
   "source": [
    "As you can see, the results are virtually the same for $G_i$ and $G_i^*$. Also, at first glance, these maps appear to be visually similar to the final LISA map from above, and this leads to the question of why use the $G$ statistics at all. The answer to this question is that the two sets of local statistics, Local $I$ and the local $G$, are complementary statistics. This is because the local $I$ by itself cannot distinguish between the two forms of positive spatial association while the G can. At the same time, the G statistic does not consider negative spatial association, while the local I statistic does."
   ]
  },
  {
   "cell_type": "markdown",
   "id": "silver-quantum",
   "metadata": {},
   "source": [
    "## Questions\n",
    "1. Do the same Local Moran analysis done for `Pct_Leave`, but using `Pct_Turnout`. Is there a geography to how involved people were in different places? Where was turnout percentage (relatively) higher or lower? \n",
    "2. Do the same Getis-Ord analysis done for `Pct_Leave`, but using `Pct_Turnout`. \n",
    "3. Local Moran statistics are premised on a few distributional assumptions. One well-recognized concern with Moran statistics is when they are estimated for *rates*. Rate data is distinct from other kinds of data because it embeds the relationship between two quantities: the event and the population. For instance, in the case of Leave voting, the \"event\" is a person voting leave, and the \"population\" could be the number of eligible voters, the number of votes cast, or the total number of people. This usually only poses a problem for analysis when the event outcome is somehow dependent on the population. \n",
    "    1. Using our past analytical steps, build a new `db` dataframe from `ref` and `lads` that contains the `Electorate`, `Votes_Cast`, and `Leave` columns. \n",
    "    - From this new dataframe, make scatterplots of:\n",
    "       - the number of votes cast and the percent leave vote\n",
    "       - the size of the electorate and the percent of leave vote\n",
    "    2. Based on your answers to the previous point, does it appear that there is a relationship between the event and the population size? Use `scipy.stats.kendalltau` or `scipy.stats.pearsonr`  to confirm your visual intuition. \n",
    "    3. Using `esda.moran.Moran_Rate`, estimate a global Moran's I that takes into account the rate structure of `Pct_Leave`, using the `Electorate` as the population. Is this estimate different from the one obtained without taking into account the rate structure? What about when `Votes_Cast` is used for the population? \n",
    "    4. Using `esda.moran.Moran_Local_Rate`, estimate *local* Moran's I treating Leave data as a rate.\n",
    "        - does any site's local I change? Make a scatterplot of the `lisa.Is` you estimated before and this new rate-based local Moran. \n",
    "        - does any site's local I change their outlier/statistical significance classifications? Use `pandas.crosstab` to examine how many classifications change between the two kinds of statistic. Make sure to consider observations' statistical significances in addition to their quadrant classification.\n",
    "    5. Make two maps, side by side, of the local statistics without rate correction and with rate correction. Does your interpretation of the maps change depending on the correction?\n",
    "4. Local statistics use *permutation-based* inference for their significance testing. This means that, to test the statistical significance of a local relationship, values of the observed variable are *shuffled* around the map. These large numbers of *random* maps are then used to compare against the observed map. Local inference requires some restrictions on how each shuffle occurs, since each observation must be \"fixed\" and compared to randomly-shuffle neighboring observations. The distribution of local statistics for each \"shuffle\" is contained in the `.rlisas` attribute of a Local Moran object. \n",
    "    - For the first observation, make a `seaborn.distplot` of its shuffled local statistics. Add a vertical line to the histogram using `plt.axvline()`. \n",
    "    - Do the same for the last observation as well. \n",
    "    - Looking only at their permutation distributions, do you expect the first LISA statistic to be statistically-significant? Do you expect the last?\n",
    "5. LISAs have some amount of fundamental uncertainty due to their estimation. This is called the `standard error` of the statistic.\n",
    "    - The standard errors are contained in the `.seI_sim` attribute. Make a map of the standard errors. Are there any areas of the map that appear to be more uncertain about their local statistics? \n",
    "    - compute the standard deviation of each observation's \"shuffle\" distribution, contained in the `.rlisas` attribute. Verify that the standard deviation of this shuffle distribution is the same as the standard errors in `seI_sim`. \n",
    "6. Local Getis-Ord statistics come in two forms. As discussed above, Getis-Ord $G_i$ statistics *omit* each site from their own local statistic. In contrast, $G_i^*$ statistics *include* the site in its own local statistic.\n",
    "    - Make a scatterplot of the two types of statistic, contained in `gostats.Zs` and `gostars.Zs` to examine how similar the two forms of the Getis-Ord statistic are. \n",
    "    - The two forms of the Getis-Ord statistic differ by their inclusion of the *site* value, $y_i$, in the value for the $G_i$ statistic at that site. So, make a scatterplot of the percent leave variable and the *difference* of the two statistics. Is there a relationship between the percent leave vote and the difference in the two forms of the Getis-Ord statistic? Confirm this for yourself using `scipy.stats.kendalltau` or `scipy.stats.pearsonr`. "
   ]
  }
 ],
 "metadata": {
  "jupytext": {
   "formats": "ipynb,md"
  },
  "kernelspec": {
   "display_name": "Python 3",
   "language": "python",
   "name": "python3"
  }
 },
 "nbformat": 4,
 "nbformat_minor": 5
}
