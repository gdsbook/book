{
 "cells": [
  {
   "cell_type": "code",
   "execution_count": null,
   "id": "drawn-revolution",
   "metadata": {
    "tags": [
     "remove-cell"
    ]
   },
   "outputs": [],
   "source": [
    "import warnings\n",
    "warnings.filterwarnings(\"ignore\")"
   ]
  },
  {
   "cell_type": "markdown",
   "id": "severe-stuff",
   "metadata": {},
   "source": [
    "# Choropleth Mapping\n",
    "\n"
   ]
  },
  {
   "cell_type": "markdown",
   "id": "apparent-texture",
   "metadata": {},
   "source": [
    "## Principles\n",
    "\n",
    "\n",
    "Choropleth maps play a prominent role in geographic data science as they allow\n",
    "us to display non-geographic attributes or variables on a geographic map. The\n",
    "word choropleth stems from the root \"choro\", meaning \"region\". As such\n",
    "choropleth maps represent data at the region level, and are appropriate for\n",
    "areal unit data where each observation combines a value of an attribute and a\n",
    "geometric figure, usually a polygon. Choropleth maps derive from an earlier era\n",
    "where cartographers faced technological constraints that precluded the use of\n",
    "unclassed maps where each unique attribute value could be represented by a\n",
    "distinct symbol or color. Instead, attribute values were grouped into a smaller\n",
    "number of classes, usually not more than 12. Each class was associated with a\n",
    "unique symbol that was in turn applied to all observations with attribute values\n",
    "falling in the class.\n",
    "\n",
    "Although today these technological constraints are no longer binding, and\n",
    "unclassed mapping is feasible, there are still good reasons for adopting a\n",
    "classed approach. Chief among these is to reduce the cognitive load involved in\n",
    "parsing the complexity of an unclassed map. A choropleth map reduces this\n",
    "complexity by drawing upon statistical and visualization theory to provide an\n",
    "effective representation of the spatial distribution of the attribute values\n",
    "across the areal units. \n",
    "\n",
    "The effectiveness of a choropleth map will be a\n",
    "function of the choice of classification scheme together with the color or\n",
    "symbolization strategy adopted. In broad terms, the classification scheme\n",
    "defines the number of classes as well as the rules for assignment, while the\n",
    "symbolization should convey information about the value differentiation across\n",
    "the classes.\n",
    "\n",
    "In this chapter we first discuss the approaches used to classify attribute\n",
    "values. This is followed by an overview of color theory and the implications of\n",
    "different color schemes for effective map design. We combine theory and practice\n",
    "by exploring how these concepts are implemented in different Python packages,\n",
    "including `geopandas`, and `PySAL`.\n",
    "\n",
    "\n"
   ]
  },
  {
   "cell_type": "code",
   "execution_count": null,
   "id": "brutal-trinidad",
   "metadata": {},
   "outputs": [],
   "source": [
    "%matplotlib inline\n",
    "\n",
    "import seaborn\n",
    "import pandas\n",
    "import geopandas\n",
    "import pysal\n",
    "import numpy\n",
    "import mapclassify\n",
    "import matplotlib.pyplot as plt"
   ]
  },
  {
   "cell_type": "markdown",
   "id": "pressed-stretch",
   "metadata": {},
   "source": [
    "## Quantitative data classification \n",
    "\n",
    "Data classification considers the problem of \n",
    "partitioning the attribute values into mutually exclusive and exhaustive\n",
    "groups. The precise manner in which this is done will be a function of the\n",
    "measurement scale of the attribute in question. For quantitative attributes\n",
    "(ordinal, interval, ratio scales) the classes will have an explicit ordering.\n",
    "More formally, the classification problem is to define class boundaries such\n",
    "that\n",
    "\n",
    "$$\n",
    "c_j < y_i \\le  c_{j+1} \\ \\forall y_i \\in C_{j}\n",
    "$$\n",
    "\n",
    "where $y_i$ is the\n",
    "value of the attribute for spatial location $i$, $j$ is a class index, and $c_j$\n",
    "represents the lower bound of interval $j$.\n",
    "\n",
    "Different classification schemes obtain from their definition of the class\n",
    "boundaries. The choice of the classification scheme should take into\n",
    "consideration the statistical distribution of the attribute values.\n",
    "\n",
    "To illustrate these considerations, we will examine regional income data for the\n",
    "32 Mexican states used in the paper by {cite}`Rey_2010`. The variable we focus on is per capita gross domestic product\n",
    "for 1940 (PCGDP1940):"
   ]
  },
  {
   "cell_type": "code",
   "execution_count": null,
   "id": "single-confidentiality",
   "metadata": {},
   "outputs": [],
   "source": [
    "mx = geopandas.read_file(\"../data/mexico/mexicojoin.shp\")\n",
    "mx[['NAME', 'PCGDP1940']].head()"
   ]
  },
  {
   "cell_type": "markdown",
   "id": "medium-potato",
   "metadata": {},
   "source": [
    "Which displays the following statistical distribution:"
   ]
  },
  {
   "cell_type": "code",
   "execution_count": null,
   "id": "convenient-sheriff",
   "metadata": {},
   "outputs": [],
   "source": [
    "h = seaborn.distplot(mx['PCGDP1940'], bins=5, rug=True);"
   ]
  },
  {
   "cell_type": "markdown",
   "id": "classical-unemployment",
   "metadata": {},
   "source": [
    "As we can see, the distribution is positively skewed as in common in regional income studies. In other words,\n",
    "the mean exceeds the median (`50%`, in the table below), leading the to fat right tail in the figure. As\n",
    "we shall see, this skewness will have implications for the choice of choropleth\n",
    "classification scheme."
   ]
  },
  {
   "cell_type": "code",
   "execution_count": null,
   "id": "protected-novel",
   "metadata": {
    "lines_to_next_cell": 2
   },
   "outputs": [],
   "source": [
    "mx['PCGDP1940'].describe()"
   ]
  },
  {
   "cell_type": "markdown",
   "id": "timely-tongue",
   "metadata": {},
   "source": [
    "For quantitative attributes we first sort the data by their value,\n",
    "such that $x_0 \\le x_2 \\ldots \\le x_{n-1}$. For a prespecified number of classes\n",
    "$k$, the classification problem boils down to selection of $k-1$ break points\n",
    "along the sorted values that separate the values into mutually exclusive and\n",
    "exhaustive groups.\n",
    "\n",
    "In fact, the determination of the histogram above can\n",
    "be viewed as one approach to this selection.\n",
    "The method `seaborn.distplot` uses the matplotlib `hist`\n",
    "function under the hood to determine the class boundaries and the counts of\n",
    "observations in each class. In the figure, we have five classes which can be\n",
    "extracted with an explicit call to the `hist` function:"
   ]
  },
  {
   "cell_type": "code",
   "execution_count": null,
   "id": "turkish-milwaukee",
   "metadata": {},
   "outputs": [],
   "source": [
    "counts, bins, patches = h.hist(mx['PCGDP1940'], bins=5)"
   ]
  },
  {
   "cell_type": "markdown",
   "id": "filled-closing",
   "metadata": {},
   "source": [
    "The `counts` object captures how many observations each category in the classification has:"
   ]
  },
  {
   "cell_type": "code",
   "execution_count": null,
   "id": "sexual-cancellation",
   "metadata": {},
   "outputs": [],
   "source": [
    "counts"
   ]
  },
  {
   "cell_type": "markdown",
   "id": "dietary-interest",
   "metadata": {},
   "source": [
    "The `bin` object stores these break points we are interested in when considering classification schemes (the `patches` object can be ignored in this context, as it stores the geometries of the histogram plot):"
   ]
  },
  {
   "cell_type": "code",
   "execution_count": null,
   "id": "dynamic-asian",
   "metadata": {},
   "outputs": [],
   "source": [
    "bins"
   ]
  },
  {
   "cell_type": "markdown",
   "id": "hungarian-dream",
   "metadata": {},
   "source": [
    "This yields 5 bins, with the first having a lower bound of 1892 and an upper\n",
    "bound of 5985.8 which contains 17 observations. \n",
    "The determination of the\n",
    "interval width ($w$) and the number of bins in `seaborn` is based on the Freedman-Diaconis rule:\n",
    "\n",
    "$$\n",
    "w = 2 * IQR * n^{-1/3}\n",
    "$$\n",
    "\n",
    "where $IQR$ is the inter quartile\n",
    "range of the attribute values. Given $w$ the number of bins ($k$) is:\n",
    "\n",
    "$$k=(max-\n",
    "min)/w.$$\n",
    "\n",
    "Below we present several approaches to create these break points that follow criteria that can be of interest in different contexts, as they focus on different priorities.\n",
    " \n",
    "### Equal Intervals\n",
    "\n",
    "The Freedman-Diaconis approach provides a rule to determine the width and, in\n",
    "turn, the number of bins for the classification. This is a special case of a\n",
    "more general classifier known as \"equal intervals\", where each of the bins has\n",
    "the same width in the value space. For a given value of $k$, equal intervals\n",
    "classification splits the range of the attribute space into $k$ equal length\n",
    "intervals, with each interval having a width $w = \\frac{x_0 - x_{n-1}}{k}$. Thus\n",
    "the maximum class is $(x_{n-1}-w, x_{n-1}]$ and the first class is $(-\\infty,\n",
    "x_{n-1} - (k-1)w]$.\n",
    "\n",
    "Equal intervals have the dual advantages of simplicity and ease of\n",
    "interpretation. However, this rule only considers the extreme values of the\n",
    "distribution and, in some cases, this can result in one or more classes being\n",
    "sparse. This is clearly the case in our income dataset, as the majority of the\n",
    "values are placed into the first two classes leaving the last three classes\n",
    "rather sparse:"
   ]
  },
  {
   "cell_type": "code",
   "execution_count": null,
   "id": "weird-majority",
   "metadata": {},
   "outputs": [],
   "source": [
    "ei5 = mapclassify.EqualInterval(mx['PCGDP1940'], k=5)\n",
    "ei5"
   ]
  },
  {
   "cell_type": "markdown",
   "id": "skilled-temperature",
   "metadata": {},
   "source": [
    " Note that each of the intervals, however, has equal width of\n",
    "$w=4093.8$. This value of $k=5$ also coincides with the default classification\n",
    "in the `seaborn` histogram displayed in Figure 1. It should also be noted that the first class is closed on the lower bound,\n",
    "in contrast to the general approach defined in Equation (1)."
   ]
  },
  {
   "cell_type": "markdown",
   "id": "simplified-creation",
   "metadata": {},
   "source": [
    "### Quantiles\n",
    "To avoid the potential problem of sparse classes, the quantiles of\n",
    "the distribution can be used to identify the class boundaries. Indeed, each\n",
    "class will have approximately $\\mid\\frac{n}{k}\\mid$ observations using the quantile\n",
    "classifier. If $k=5$ the sample quintiles are used to define the upper limits of\n",
    "each class resulting in the following classification:"
   ]
  },
  {
   "cell_type": "code",
   "execution_count": null,
   "id": "joined-schedule",
   "metadata": {},
   "outputs": [],
   "source": [
    "q5 = mapclassify.Quantiles(mx.PCGDP1940, k=5)\n",
    "q5"
   ]
  },
  {
   "cell_type": "markdown",
   "id": "mature-mambo",
   "metadata": {},
   "source": [
    "Note that while the numbers of values in each class are roughly equal, the\n",
    "widths of the first four intervals are rather different:"
   ]
  },
  {
   "cell_type": "code",
   "execution_count": null,
   "id": "difficult-lightning",
   "metadata": {},
   "outputs": [],
   "source": [
    "q5.bins[1:]-q5.bins[:-1]"
   ]
  },
  {
   "cell_type": "markdown",
   "id": "cheap-toilet",
   "metadata": {},
   "source": [
    "While quantiles does avoid the pitfall of sparse classes, this classification is\n",
    "not problem free. The varying widths of the intervals can be markedly different\n",
    "which can lead to problems of interpretation. A second challenge facing quantiles\n",
    "arises when there are a large number of duplicate values in the distribution\n",
    "such that the limits for one or more classes become ambiguous. For example, if one had a variable with $n=20$ but 10 of the observations took on the same value which was the minimum observed, then for values of $k>2$, the class boundaries become ill-defined since a simple rule of splitting at the $n/k$ ranked observed value would depend upon how ties are treated when ranking."
   ]
  },
  {
   "cell_type": "code",
   "execution_count": null,
   "id": "affected-windsor",
   "metadata": {},
   "outputs": [],
   "source": [
    "numpy.random.seed(12345)\n",
    "x = numpy.random.randint(0,10,20)\n",
    "x[0:10] = x.min()\n",
    "x"
   ]
  },
  {
   "cell_type": "code",
   "execution_count": null,
   "id": "still-march",
   "metadata": {},
   "outputs": [],
   "source": [
    "ties = mapclassify.Quantiles(x, k=5)\n",
    "ties"
   ]
  },
  {
   "cell_type": "code",
   "execution_count": null,
   "id": "metropolitan-vegetation",
   "metadata": {},
   "outputs": [],
   "source": [
    "x"
   ]
  },
  {
   "cell_type": "code",
   "execution_count": null,
   "id": "apparent-pursuit",
   "metadata": {},
   "outputs": [],
   "source": [
    "ux = numpy.unique(x)"
   ]
  },
  {
   "cell_type": "code",
   "execution_count": null,
   "id": "bacterial-exception",
   "metadata": {},
   "outputs": [],
   "source": [
    "ux"
   ]
  },
  {
   "cell_type": "markdown",
   "id": "pediatric-radio",
   "metadata": {},
   "source": [
    "In this case, `mapclassify` will issue a warning alerting the user to the issue that this sample does not contain enough unique values to form \n",
    "the number of well-defined classes requested.  It then forms a lower number of classes using pseudo quantiles, or quantiles defined on the unique values in the sample, and then uses the pseudo quantiles to classify all the values."
   ]
  },
  {
   "cell_type": "code",
   "execution_count": null,
   "id": "knowing-border",
   "metadata": {},
   "outputs": [],
   "source": [
    "np = numpy\n",
    "import scipy.stats as stats"
   ]
  },
  {
   "cell_type": "code",
   "execution_count": null,
   "id": "remarkable-start",
   "metadata": {},
   "outputs": [],
   "source": [
    "k = 5\n",
    "w = 100.0 / k\n",
    "p = np.arange(w, 100+w, w)\n",
    "p"
   ]
  },
  {
   "cell_type": "code",
   "execution_count": null,
   "id": "furnished-davis",
   "metadata": {},
   "outputs": [],
   "source": [
    "q = np.array([stats.scoreatpercentile(x, pct) for pct in p])\n",
    "q"
   ]
  },
  {
   "cell_type": "code",
   "execution_count": null,
   "id": "oriental-knight",
   "metadata": {},
   "outputs": [],
   "source": [
    "np.array([stats.scoreatpercentile(x, pct) for pct in np.arange(20, 120, 20)])"
   ]
  },
  {
   "cell_type": "code",
   "execution_count": null,
   "id": "capital-spank",
   "metadata": {},
   "outputs": [],
   "source": [
    "p"
   ]
  },
  {
   "cell_type": "markdown",
   "id": "wired-enlargement",
   "metadata": {},
   "source": [
    "### Mean-standard deviation\n",
    "\n",
    "Our third classifier uses the sample mean $\\bar{x} =\n",
    "\\frac{1}{n} \\sum_{i=1}^n x_i$ and sample standard deviation $s = \\sqrt{\n",
    "\\frac{1}{n-1} \\sum_{i=1}^n (x_i - \\bar{x})  }$ to define class boundaries as\n",
    "some distance from the sample mean, with the distance being a multiple of the\n",
    "standard deviation. For example, a common definition for $k=5$ is to set the\n",
    "upper limit of the first class to two standard deviations ($c_{0}^u = \\bar{x} - 2 s$), and the intermediate\n",
    "classes to have upper limits within one standard deviation ($c_{1}^u = \\bar{x}-s,\\ c_{2}^u = \\bar{x}+s, \\ c_{3}^u\n",
    "= \\bar{x}+2s$). Any values greater (smaller) than two standard deviations above (below) the mean\n",
    "are placed into the top (bottom) class."
   ]
  },
  {
   "cell_type": "code",
   "execution_count": null,
   "id": "cellular-spencer",
   "metadata": {},
   "outputs": [],
   "source": [
    "msd = mapclassify.StdMean(mx['PCGDP1940'])\n",
    "msd"
   ]
  },
  {
   "cell_type": "markdown",
   "id": "changing-article",
   "metadata": {},
   "source": [
    "This classifier is best used when data is normally distributed or, at least, when the sample mean is a meaningful measure to anchor the classification around. Clearly this is\n",
    "not the case for our income data as the positive skew results in a loss of\n",
    "information when we use the standard deviation. The lack of symmetry leads to\n",
    "an inadmissible upper bound for the first  class as well as a concentration of the\n",
    "vast majority of values in the middle class.\n",
    "\n",
    "### Maximum Breaks\n",
    "\n",
    "The maximum breaks classifier decides where to set the break points between\n",
    "classes by considering the difference between sorted values. That is, rather\n",
    "than considering a value of the dataset in itself, it looks at how apart each\n",
    "value is from the next one in the sorted sequence. The classifier then places\n",
    "the the $k-1$ break points in between the pairs of values most stretched apart from\n",
    "each other in the entire sequence, proceeding in descending order relative to\n",
    "the size of the breaks:"
   ]
  },
  {
   "cell_type": "code",
   "execution_count": null,
   "id": "sporting-section",
   "metadata": {},
   "outputs": [],
   "source": [
    "mb5 = mapclassify.MaximumBreaks(mx['PCGDP1940'], k=5)\n",
    "mb5"
   ]
  },
  {
   "cell_type": "markdown",
   "id": "saved-malaysia",
   "metadata": {},
   "source": [
    "Maximum breaks is an appropriate approach when we are interested in making sure\n",
    "observations in each class are separated from those in neighboring classes. As\n",
    "such, it works well in cases where the distribution of values is not unimodal.\n",
    "In addition, the algorithm is relatively fast to compute. However, its\n",
    "simplicity can sometimes cause unexpected results. To the extent in only\n",
    "considers the top $k-1$ differences between consecutive values, other more nuanced\n",
    "within-group differences and dissimilarities can be ignored.\n",
    "\n",
    "### Box-Plot\n",
    "\n",
    "The box-plot classification is a blend of the quantile and\n",
    "standard deviation classifiers. Here $k$ is predefined to six, with the upper limit of class 0 set\n",
    "to $q_{0.25}-h \\, IQR$. $IQR = q_{0.75}-q_{0.25}$ is the\n",
    "inter-quartile range; $h$ corresponds to the hinge, or the multiplier of the $IQR$ to obtain the bounds of the whiskers. The lower limit of the sixth class is set to $q_{0.75}+h \\,\n",
    "IQR$. Intermediate classes have their upper limits set to the 0.25, 0.50 and\n",
    "0.75 percentiles of the attribute values."
   ]
  },
  {
   "cell_type": "code",
   "execution_count": null,
   "id": "operational-radio",
   "metadata": {},
   "outputs": [],
   "source": [
    "bp = mapclassify.BoxPlot(mx['PCGDP1940'])\n",
    "bp"
   ]
  },
  {
   "cell_type": "markdown",
   "id": "rapid-synthetic",
   "metadata": {},
   "source": [
    "Any values falling into either of the extreme classes are defined as outliers.\n",
    "Note that because the income values are non-negative by definition, the lower\n",
    "outlier class has an inadmissible upper bound meaning that lower outliers would\n",
    "not be possible for this sample.\n",
    "\n",
    "The default value for the hinge is $h=1.5$ in\n",
    "PySAL. However, this can be specified by the user for an alternative classification:"
   ]
  },
  {
   "cell_type": "code",
   "execution_count": null,
   "id": "satisfactory-renaissance",
   "metadata": {},
   "outputs": [],
   "source": [
    "bp1 = mapclassify.BoxPlot(mx['PCGDP1940'], hinge=1)\n",
    "bp1"
   ]
  },
  {
   "cell_type": "markdown",
   "id": "operational-bahamas",
   "metadata": {},
   "source": [
    "Doing so will affect the definition of the outlier classes, as well as the\n",
    "neighboring internal classes.\n",
    "\n",
    "### Head-Tail Breaks\n",
    "\n",
    "The head tail algorithm {cite}`Jiang_2013` is based on a recursive partitioning of the data using splits around\n",
    "iterative means. The splitting process continues until the distributions within each of\n",
    "the classes no longer display a heavy-tailed distribution in the sense that\n",
    "there is a balance between the number of smaller and larger values assigned to\n",
    "each class."
   ]
  },
  {
   "cell_type": "code",
   "execution_count": null,
   "id": "undefined-calculator",
   "metadata": {},
   "outputs": [],
   "source": [
    "ht = mapclassify.HeadTailBreaks(mx['PCGDP1940'])\n",
    "ht"
   ]
  },
  {
   "cell_type": "markdown",
   "id": "missing-bathroom",
   "metadata": {},
   "source": [
    "For data with a heavy-tailed distribution, such as power law and log normal\n",
    "distributions, the head tail breaks classifier  can be particularly\n",
    "effective.\n",
    "\n",
    "### Jenks Caspall\n",
    "\n",
    "This approach, as well as the following two, tackles the classification\n",
    "challenge from a heuristic perspective, rather than from deterministic one.\n",
    "Originally proposed by {cite}`Jenks_1971`, this algorithm aims to minimize\n",
    "the sum of absolute deviations around class means. The approach begins with a\n",
    "prespecified number of classes and an arbitrary initial set of class breaks -\n",
    "for example using quintiles. The algorithm attempts to improve the objective\n",
    "function by considering the movement of observations between adjacent classes.\n",
    "For example, the largest value in the lowest quintile would be considered for\n",
    "movement into the second quintile, while the lowest value in the second\n",
    "quintile would be considered for a possible move into the first quintile. The\n",
    "candidate move resulting in the largest reduction in the objective function\n",
    "would be made, and the process continues until no other improving moves are\n",
    "possible."
   ]
  },
  {
   "cell_type": "code",
   "execution_count": null,
   "id": "verbal-stand",
   "metadata": {},
   "outputs": [],
   "source": [
    "numpy.random.seed(12345)\n",
    "jc5 = mapclassify.JenksCaspall(mx['PCGDP1940'], k=5)\n",
    "jc5"
   ]
  },
  {
   "cell_type": "markdown",
   "id": "abandoned-being",
   "metadata": {},
   "source": [
    "### Fisher Jenks\n",
    "\n",
    "The second optimal algorithm adopts a dynamic programming approach to minimize\n",
    "the sum of the absolute deviations around class medians. In contrast to the\n",
    "Jenks-Caspall approach, Fisher-Jenks is guaranteed to produce an optimal\n",
    "classification for a prespecified number of classes:"
   ]
  },
  {
   "cell_type": "code",
   "execution_count": null,
   "id": "operating-traveler",
   "metadata": {},
   "outputs": [],
   "source": [
    "numpy.random.seed(12345)\n",
    "fj5 = mapclassify.FisherJenks(mx['PCGDP1940'], k=5)\n",
    "fj5"
   ]
  },
  {
   "cell_type": "markdown",
   "id": "differential-assets",
   "metadata": {},
   "source": [
    "### Max-p\n",
    "\n",
    "Finally, the max-p classifiers adopts the algorithm underlying the max-p region\n",
    "building method {cite}`Duque_2011` to the case of map classification. It is similar in spirit to\n",
    "Jenks Caspall in that it considers greedy swapping between adjacent classes to\n",
    "improve the objective function. It is a heuristic, however, so unlike\n",
    "Fisher-Jenks, there is no optimal solution guaranteed:"
   ]
  },
  {
   "cell_type": "code",
   "execution_count": null,
   "id": "aerial-superior",
   "metadata": {},
   "outputs": [],
   "source": [
    "mp5 = mapclassify.MaxP(mx['PCGDP1940'], k=5)\n",
    "mp5"
   ]
  },
  {
   "cell_type": "markdown",
   "id": "least-welcome",
   "metadata": {},
   "source": [
    "### Comparing Classification schemes\n",
    "\n",
    "As a special case of clustering, the definition of\n",
    "the number of classes and the class boundaries pose a problem to the map\n",
    "designer. Recall that the Freedman-Diaconis rule was said to be optimal,\n",
    "however, the optimality necessitates the specification of an objective function.\n",
    "In the case of Freedman-Diaconis, the objective function is to minimize the\n",
    "difference between the area under estimated kernel density based on the sample\n",
    "and the area under the theoretical population distribution that generated the\n",
    "sample.\n",
    "\n",
    "This notion of statistical fit is an important one. However, it is not the\n",
    "only consideration when evaluating classifiers for the purpose of choropleth\n",
    "mapping. Also relevant is the spatial distribution of the attribute values and\n",
    "the ability of the classifier to convey a sense of that spatial distribution. As\n",
    "we shall see, this is not necessarily directly related to the statistical\n",
    "distribution of the attribute values. We will return to a joint consideration of both\n",
    "the statistical and spatial distribution of the attribute values in comparison\n",
    "of classifiers below.\n",
    "\n",
    "For map classification, one optimality criterion that\n",
    "can be used is a measure of fit. In PySAL the \"absolute deviation around class\n",
    "medians\" (ADCM) is calculated and provides a measure of fit that allows for\n",
    "comparison of alternative classifiers for the same value of $k$.\n",
    "\n",
    "To see this, we can compare different classifiers for $k=5$ on the Mexico data:"
   ]
  },
  {
   "cell_type": "code",
   "execution_count": null,
   "id": "threatened-supply",
   "metadata": {},
   "outputs": [],
   "source": [
    "class5 = q5, ei5, ht, mb5, msd, fj5, jc5\n",
    "fits = numpy.array([ c.adcm for c in class5])\n",
    "data = pandas.DataFrame(fits)\n",
    "data['classifier'] = [c.name for c in class5]\n",
    "data.columns = ['ADCM', 'Classifier']\n",
    "ax = seaborn.barplot(y='Classifier', x='ADCM', data=data)"
   ]
  },
  {
   "cell_type": "markdown",
   "id": "gothic-folder",
   "metadata": {},
   "source": [
    "As is to be expected, the Fisher-Jenks classifier dominates all other k=5\n",
    "classifiers with an ADCM of 23,729. Interestingly, the equal interval classifier\n",
    "performs well despite the problems associated with being sensitive to the\n",
    "extreme values in the distribution. The mean-standard deviation classifier has a\n",
    "very poor fit due to the skewed nature of the data and the concentrated\n",
    "assignment of the majority of the observations to the central class.\n",
    "\n",
    "The ADCM provides a global measure of fit which can be used to compare the\n",
    "alternative classifiers. As a complement to this global perspective, it can be\n",
    "revealing to consider how each of the spatial observations was classified across\n",
    "the alternative approaches. To do this we can add the class bin attribute (`yb`)\n",
    "generated by the PySAL classifiers as additional columns in the data frame and\n",
    "present these jointly in a table:"
   ]
  },
  {
   "cell_type": "code",
   "execution_count": null,
   "id": "extensive-macro",
   "metadata": {},
   "outputs": [],
   "source": [
    "mx['q540'] = q5.yb\n",
    "mx['ei540'] = ei5.yb\n",
    "mx['ht40'] = ht.yb\n",
    "mx['mb540'] = mb5.yb\n",
    "mx['msd40'] = msd.yb\n",
    "mx['fj540'] = fj5.yb\n",
    "mx['jc540'] = jc5.yb"
   ]
  },
  {
   "cell_type": "code",
   "execution_count": null,
   "id": "greater-alpha",
   "metadata": {},
   "outputs": [],
   "source": [
    "mxs = mx.sort_values('PCGDP1940')"
   ]
  },
  {
   "cell_type": "code",
   "execution_count": null,
   "id": "patient-venue",
   "metadata": {},
   "outputs": [],
   "source": [
    "def highlight_values(val):\n",
    "    if val==0:\n",
    "        return 'background-color: %s' % '#ffffff'\n",
    "    elif val==1:\n",
    "        return 'background-color: %s' % '#e0ffff'\n",
    "    elif val==2:\n",
    "        return 'background-color: %s' % '#b3ffff'\n",
    "    elif val==3:\n",
    "        return 'background-color: %s' % '#87ffff'\n",
    "    elif val==4:\n",
    "        return 'background-color: %s' % '#62e4ff'\n",
    "    else:\n",
    "        return ''"
   ]
  },
  {
   "cell_type": "code",
   "execution_count": null,
   "id": "metropolitan-lounge",
   "metadata": {},
   "outputs": [],
   "source": [
    "t = mxs[['NAME', 'PCGDP1940', 'q540', 'ei540', 'ht40', 'mb540', 'msd40', 'fj540', 'jc540']]\n",
    "t.style.applymap(highlight_values)"
   ]
  },
  {
   "cell_type": "markdown",
   "id": "dirty-offense",
   "metadata": {},
   "source": [
    "Inspection of this table reveals a number of interesting results. First, the\n",
    "only Mexican state that is treated consistently across the k=5 classifiers is\n",
    "Baja California Norte which is placed in the highest class by all classifiers.\n",
    "Second, the mean-standard deviation classifier has an empty first class due to\n",
    "the inadmissible upper bound and the over-concentration of values in the central\n",
    "class (2).\n",
    "\n",
    "Finally, we can consider a meso-level view of the classification\n",
    "results by comparing the number of values assigned to each class across the\n",
    "different classifiers:"
   ]
  },
  {
   "cell_type": "code",
   "execution_count": null,
   "id": "married-horse",
   "metadata": {},
   "outputs": [],
   "source": [
    "pandas.DataFrame({c.name: c.counts for c in class5},\n",
    "                 index=['Class-{}'.format(i) for i in range(5)])"
   ]
  },
  {
   "cell_type": "markdown",
   "id": "impressive-exemption",
   "metadata": {},
   "source": [
    "Doing so highlights the similarities between Fisher Jenks and equal intervals as\n",
    "the distribution counts are very similar as the two approaches agree on all 17\n",
    "states assigned to the first class. Indeed, the only observation that\n",
    "distinguishes the two classifiers is the treatment of Baja California Sur which\n",
    "is kept in class 1 in equal intervals, but assigned to class 2 by Fisher Jenks.\n",
    "\n",
    "## Color\n",
    "\n",
    "Having considered the evaluation of the statistical distribution of\n",
    "the attribute values and the alternative classification approaches, the next\n",
    "step is to select the symbolization and color scheme. Together with the choice of classifier, these will determine the overall\n",
    "effectiveness of the choropleth map in representing the spatial\n",
    "distribution of the attribute values.\n",
    "\n",
    "Let us start by refreshing the `mx` object and exploring the base polygons for the Mexican states:"
   ]
  },
  {
   "cell_type": "code",
   "execution_count": null,
   "id": "mineral-sheffield",
   "metadata": {},
   "outputs": [],
   "source": [
    "mx = geopandas.read_file('../data/mexico/mexicojoin.shp')\n",
    "f, ax = plt.subplots(1, figsize=(9, 9))\n",
    "mx.plot(ax=ax, color='blue', edgecolor='grey')\n",
    "ax.set_axis_off()\n",
    "ax.set_title('Mexican States')\n",
    "plt.axis('equal')\n",
    "plt.show()"
   ]
  },
  {
   "cell_type": "markdown",
   "id": "adopted-assembly",
   "metadata": {},
   "source": [
    "Prior to examining the attribute values it is important to note that the\n",
    "spatial units for these states are far from homogeneous in their shapes and\n",
    "sizes. This can have major impacts on our brain's pattern recognition capabilities\n",
    "as we tend to be drawn to the larger polygons. Yet, when we considered the\n",
    "statistical distribution above, each observation was given equal weight. Thus,\n",
    "the spatial distribution becomes more complicated to evaluate from a visual and\n",
    "statistical perspective.\n",
    "\n",
    "With this qualification in mind, we will explore the construction of choropleth\n",
    "maps using `geopandas`:"
   ]
  },
  {
   "cell_type": "code",
   "execution_count": null,
   "id": "material-notion",
   "metadata": {},
   "outputs": [],
   "source": [
    "mx = geopandas.read_file('../data/mexico/mexicojoin.shp')\n",
    "f, ax = plt.subplots(1, figsize=(9, 9))\n",
    "mx.plot(ax=ax, column='PCGDP1940', legend=True, scheme='Quantiles')\n",
    "ax.set_axis_off()\n",
    "ax.set_title('PCGDP1940')\n",
    "plt.axis('equal')\n",
    "plt.show()"
   ]
  },
  {
   "cell_type": "markdown",
   "id": "listed-poker",
   "metadata": {},
   "source": [
    "Note that the default for the legend is two report two decimal places. If we desire, this can be changed by overriding the `fmt` parameter:"
   ]
  },
  {
   "cell_type": "code",
   "execution_count": null,
   "id": "meaningful-gardening",
   "metadata": {},
   "outputs": [],
   "source": [
    "f, ax = plt.subplots(1, figsize=(9, 9))\n",
    "mx.plot(ax=ax, column='PCGDP1940', legend=True, scheme='Quantiles', legend_kwds={'fmt':'{:.0f}'})\n",
    "ax.set_axis_off()\n",
    "ax.set_title('PCGDP1940')\n",
    "plt.axis('equal')\n",
    "plt.show()"
   ]
  },
  {
   "cell_type": "markdown",
   "id": "pharmaceutical-leave",
   "metadata": {},
   "source": [
    "The default color map used by `geopandas` is viridis, which is a multi-hue\n",
    "sequential scheme, with the darker (lighter) hues representing lower (higher)\n",
    "values for the attribute in question. The choice of a color scheme for a\n",
    "choropleth map should be based on the type of variable under consideration\n",
    "{cite}`Brewer1997mapping`. Generally, a distinction is drawn between three\n",
    "types of numerical attributes:\n",
    "\n",
    "- sequential\n",
    "- diverging\n",
    "- qualitative"
   ]
  },
  {
   "cell_type": "markdown",
   "id": "bound-marble",
   "metadata": {},
   "source": [
    "### Sequential Color Schemes"
   ]
  },
  {
   "cell_type": "markdown",
   "id": "minute-applicant",
   "metadata": {},
   "source": [
    "Our attribute is measured in dollars and is characterized as a *sequential* attribute. To choose an appropriate sequential scheme we can override the `cmap` parameter:"
   ]
  },
  {
   "cell_type": "code",
   "execution_count": null,
   "id": "extraordinary-excerpt",
   "metadata": {},
   "outputs": [],
   "source": [
    "f, ax = plt.subplots(1, figsize=(9, 9))\n",
    "mx.plot(ax=ax, column='PCGDP1940', legend=True, scheme='Quantiles', legend_kwds={'fmt':'{:.0f}'}, \\\n",
    "         cmap='Blues')\n",
    "ax.set_axis_off()\n",
    "ax.set_title('PCGDP1940')\n",
    "plt.axis('equal')\n",
    "plt.show()"
   ]
  },
  {
   "cell_type": "markdown",
   "id": "australian-probability",
   "metadata": {},
   "source": [
    "which now uses a single-hue sequential color map with the lighter shades representing lower values. One difficulty with this map is that the poor states in the southern portion of Mexico blend into the background of the map display. This can be adjusted by overriding the `edgecolor`:\n"
   ]
  },
  {
   "cell_type": "code",
   "execution_count": null,
   "id": "japanese-leather",
   "metadata": {},
   "outputs": [],
   "source": [
    "f, ax = plt.subplots(1, figsize=(9, 9))\n",
    "mx.plot(ax=ax, column='PCGDP1940', legend=True, scheme='Quantiles', legend_kwds={'fmt':'{:.0f}'}, \\\n",
    "         cmap='Blues', edgecolor='k')\n",
    "ax.set_axis_off()\n",
    "ax.set_title('PCGDP1940')\n",
    "plt.axis('equal')\n",
    "plt.show()"
   ]
  },
  {
   "cell_type": "markdown",
   "id": "fourth-brazilian",
   "metadata": {},
   "source": [
    "### Diverging Color Schemes\n",
    "\n",
    "A slightly different type of attribute is the so-called \"diverging\" values attribute. This is\n",
    "useful when one wishes to place equal emphasis on mid-range critical values as\n",
    "well as extremes at both ends of the distribution. Light colors are used to\n",
    "emphasize the mid-range class while dark colors with contrasting hues are used\n",
    "to distinguish the low and high extremes.\n",
    "\n",
    "To illustrate this for the Mexican\n",
    "income data we can derive a new variable which measures the change in a state's\n",
    "rank in the income distribution between 1940 to 2000:"
   ]
  },
  {
   "cell_type": "code",
   "execution_count": null,
   "id": "enclosed-vinyl",
   "metadata": {},
   "outputs": [],
   "source": [
    "rnk = mx.rank(ascending=False) # ascending ranks 1=high, n=lowest\n",
    "rnk['NAME']=mx['NAME']\n",
    "delta_rnk = rnk.PCGDP1940 - rnk.PCGDP2000\n",
    "delta_rnk\n",
    "cls = numpy.digitize(delta_rnk, [-5, 0, 5, 20])\n",
    "cls"
   ]
  },
  {
   "cell_type": "markdown",
   "id": "regular-occasion",
   "metadata": {},
   "source": [
    "Here we have created four classes for the rank changes: [-inf, -5), [-5, 0), [0,\n",
    "5), [5, 20]. Note that these are descending ranks, so the wealthiest state in\n",
    "any period has a rank of 1 and therefore when considering the change in ranks, a\n",
    "negative change reflects moving down the income distribution."
   ]
  },
  {
   "cell_type": "code",
   "execution_count": null,
   "id": "charming-sample",
   "metadata": {},
   "outputs": [],
   "source": [
    "f, ax = plt.subplots(1, figsize=(9, 9))\n",
    "mx.assign(cl=cls).plot(ax=ax, column='cl', categorical=True, cmap='RdYlBu',\n",
    "           scheme='equal_interval', k=4)\n",
    "ax.set_axis_off()\n",
    "ax.set_title('PCGDP1940')\n",
    "plt.axis('equal')\n",
    "plt.show()\n"
   ]
  },
  {
   "cell_type": "markdown",
   "id": "compressed-glasgow",
   "metadata": {},
   "source": [
    "Here the red (blue) hues are states that have moved downwards (upwards) in the\n",
    "income distribution, with the darker hue representing a larger movement."
   ]
  },
  {
   "cell_type": "markdown",
   "id": "worth-norway",
   "metadata": {},
   "source": [
    "### Qualitative Color Schemes\n",
    "\n",
    "The Mexico data set also has several variables that\n",
    "are on a nominal measurement scale. One of these is a region definition variable\n",
    "that groups individual states in contiguous clusters of similar characteristics:"
   ]
  },
  {
   "cell_type": "code",
   "execution_count": null,
   "id": "statistical-arabic",
   "metadata": {},
   "outputs": [],
   "source": [
    "mx['HANSON98'].head()"
   ]
  },
  {
   "cell_type": "markdown",
   "id": "framed-machine",
   "metadata": {},
   "source": [
    "This regionalization scheme partitions Mexico into 5 regions. A naive (and\n",
    "incorrect) way to display this would be to treat the region variable as\n",
    "sequential and use a `UserDefined` classifier to display the regions:"
   ]
  },
  {
   "cell_type": "code",
   "execution_count": null,
   "id": "invalid-terrain",
   "metadata": {},
   "outputs": [],
   "source": [
    "import numpy as np\n",
    "h5 = mapclassify.UserDefined(mx['HANSON98'], bins=np.arange(1,6).tolist())\n",
    "h5.fmt = '{:.0f}'\n",
    "h5"
   ]
  },
  {
   "cell_type": "code",
   "execution_count": null,
   "id": "rapid-verification",
   "metadata": {},
   "outputs": [],
   "source": [
    "_ = h5.plot(mx, axis_on=False)"
   ]
  },
  {
   "cell_type": "markdown",
   "id": "arctic-council",
   "metadata": {},
   "source": [
    "This is not correct because the region variable is not on an interval scale, so\n",
    "the differences between the values have no quantitative significance but rather\n",
    "the values simply indicate region membership. However, the choropleth above gives\n",
    "a clear visual cue that regions in the south have larger values\n",
    "than those in the north, as the color map implies an intensity gradient.\n",
    "\n",
    "A more appropriate visualization\n",
    "is to use a \"qualitative\" color palette:"
   ]
  },
  {
   "cell_type": "code",
   "execution_count": null,
   "id": "exposed-lingerie",
   "metadata": {},
   "outputs": [],
   "source": [
    "_ = h5.plot(mx, cmap='Pastel1', axis_on=False)"
   ]
  },
  {
   "cell_type": "markdown",
   "id": "municipal-denial",
   "metadata": {},
   "source": [
    "## Conclusion\n",
    "\n",
    "In this chapter we have considered the construction of choropleth maps for\n",
    "spatial data visualization. The key issues of the choice of classification\n",
    "scheme, variable measurement scale, spatial configuration and color palettes\n",
    "were illustrated using PySAL's map classification module together with other\n",
    "related packages in the PyData stack.\n",
    "\n",
    "Choropleth maps are a central tool in the geographic data science arsenal as\n",
    "they provide powerful visualizations of the spatial distribution of attribute\n",
    "values. We have only touched on the basic concepts in this chapter, as there is\n",
    "much more that can be said about cartographic theory and the design of effective\n",
    "choropleth maps. Readers interested in pursuing this literature are encouraged\n",
    "to see the references cited.\n",
    "\n",
    "At the same time, given the philosophy underlying PySAL the methods we cover\n",
    "here are sufficient for exploratory data analysis where the rapid and flexible\n",
    "generation of views is critical to the work flow. Once the analysis is complete,\n",
    "and the final presentation quality maps are to be generated, there are excellent\n",
    "packages in the data stack that the user can turn to.\n",
    "\n",
    "## Questions\n",
    "\n",
    "1. A variable (such as population density measured for census tracts in a metropolitan area) can display a high degree of skewness. That is, the distribution may be very asymmetric, either with a few very values and a bulk of low ones; or a few very low values with a bulk of high values. What is an appropriate choice for a choropleth classification for a skewed variable?\n",
    "2. Provide two solutions to the problem of ties when applying quantile classification to the following series: $y=[2,2,2,2,2,2,4,7,8,9,20,21]$ and $k=4$. Discuss the merits of each approach.\n",
    "3. Which classifiers are appropriate for data that displays a high degree of multi-modality in its statistical distribution? \n",
    "4. Are there any colormaps that work well for multi-modal data?\n",
    "5. Contrast and compare classed choropleth maps with class-less (i.e. continuous-scale) choropleth maps? What are the strengths and limitations of each type of visualization for spatial data?\n",
    "6. In what ways do choropleth classifiers treat intra-class and inter-class heterogeneity differently? What are the implications of these choices?\n",
    "7. To what extent do most commonly employed choropleth classification methods take the geographical distribution of the variable into consideration? Can you think of ways to incorporate the spatial features of a variable into a classification for a choropleth map?\n",
    "8. Discuss the similarities between the choice of the number of classes in choropleth mapping, on the one hand, and the determination of the number of clusters in a data set on the other. What aspects of choropleth mapping differentiate the former from the latter?\n",
    "9. The Fisher-Jenks classifier will always have more internally homogeneous classes than other k-classifiers. Given this, why might one decide on choosing a different k-classifier for a particular data set?\n"
   ]
  }
 ],
 "metadata": {
  "jupytext": {
   "formats": "ipynb,md"
  },
  "kernelspec": {
   "display_name": "Python 3",
   "language": "python",
   "name": "python3"
  }
 },
 "nbformat": 4,
 "nbformat_minor": 5
}
