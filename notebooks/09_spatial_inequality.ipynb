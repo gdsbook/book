{
 "cells": [
  {
   "cell_type": "code",
   "execution_count": null,
   "id": "julian-olympus",
   "metadata": {
    "tags": [
     "remove-cell"
    ]
   },
   "outputs": [],
   "source": [
    "import warnings\n",
    "warnings.filterwarnings(\"ignore\")"
   ]
  },
  {
   "cell_type": "markdown",
   "id": "acceptable-token",
   "metadata": {},
   "source": [
    "# Spatial Inequality\n",
    "\n"
   ]
  },
  {
   "cell_type": "code",
   "execution_count": null,
   "id": "alleged-shower",
   "metadata": {
    "ein.hycell": false,
    "ein.tags": "worksheet-0",
    "jupyter": {
     "outputs_hidden": false
    },
    "slideshow": {
     "slide_type": "-"
    }
   },
   "outputs": [],
   "source": [
    "%matplotlib inline\n",
    "\n",
    "import seaborn\n",
    "import pandas\n",
    "import geopandas\n",
    "import pysal\n",
    "import numpy\n",
    "import mapclassify\n",
    "import matplotlib.pyplot as plt\n",
    "from matplotlib import rcParams\n",
    "rcParams['figure.figsize'] = 10, 5"
   ]
  },
  {
   "cell_type": "markdown",
   "id": "amber-master",
   "metadata": {
    "ein.tags": "worksheet-0",
    "slideshow": {
     "slide_type": "-"
    }
   },
   "source": [
    "\n",
    "## Introduction\n",
    "\n",
    "This chapter uses economic inequality to illustrate how the study of the evolution of social \n",
    "disparities can benefit from an explicitly spatial treatment.\n",
    "Social and economic inequality is often at the top of policy makers' agendas.\n",
    "Its study has always drawn considerable attention in academic circles.\n",
    "Much of the focus has been on *interpersonal income inequality*, yet there is a growing recognition\n",
    "that the question of *inter-regional income inequality* requires further \n",
    "attention as the growing gaps between poor and rich regions have been identified\n",
    "as key drivers of political polarization in developing and developed countries\n",
    "{cite}`Rodriguez_Pose_2018`.\n",
    "\n",
    "Much of the study of inequalities has focused at the individual level: how do outcomes\n",
    "differ across individuals? This approach does not group individuals geographically. \n",
    "In other words, it is not concerned with whether those differences follow a pattern,\n",
    "for example, at the regional level (e.g. *is most of the more disadvantaged population\n",
    "located in a particular section of the map?*).\n",
    "Indeed, while the two literatures (personal and regional inequality) are\n",
    "related, they have developed in a largely parallel fashion with limited\n",
    "cross-fertilization. In this chapter, we examine how a spatially explicit focus\n",
    "can provide insights on the study of inequality and its dynamics. We hope this illustration\n",
    "can be useful in itself but also inspire the use of these methods in the study of\n",
    "other phenomena for which the regional perspective can bring value to the table.\n",
    "\n",
    "After discussing the data we employ, we begin with an introduction to classic methods for interpersonal income\n",
    "inequality analysis and how they have been adopted to the question of regional\n",
    "inequalities. These include a number of graphical tools along side familiar\n",
    "indices of inequality. As we discuss more fully, the use of these classical\n",
    "methods in spatially referenced data, while useful in providing insights on some\n",
    "of the aspects of spatial inequality, fails to fully capture the nature of\n",
    "geographical disparities and their dynamics. Thus, we next move to spatially\n",
    "explicit measures for regional inequality analysis. The chapter closes with\n",
    "some recent extensions of some classical measures to more fully examine the\n",
    "spatial dimensions of regional inequality dynamics.\n",
    "\n",
    "\n"
   ]
  },
  {
   "cell_type": "markdown",
   "id": "ceramic-wallpaper",
   "metadata": {},
   "source": [
    "## Data: US State Per-Capita Income 1969-2017\n",
    "\n",
    "The data used in this chapter contain repeated measurements for geographic regions over time.\n",
    "We consider the United States from 1969 to 2017; specifically, we will analyze median incomes at the county level. This perspective will allow to examine trends both in terms of how individual counties, states, or regions get richer or poorer, as well as how the overall distribution of income moves, skews, or spreads out. \n"
   ]
  },
  {
   "cell_type": "code",
   "execution_count": null,
   "id": "weekly-fields",
   "metadata": {
    "ein.hycell": false,
    "ein.tags": "worksheet-0",
    "jupyter": {
     "outputs_hidden": false
    },
    "slideshow": {
     "slide_type": "-"
    }
   },
   "outputs": [],
   "source": [
    "pci_df = geopandas.read_file('../data/us_county_income/uscountypcincome.gpkg')\n",
    "pci_df.columns"
   ]
  },
  {
   "cell_type": "markdown",
   "id": "military-thing",
   "metadata": {
    "ein.tags": "worksheet-0",
    "slideshow": {
     "slide_type": "-"
    }
   },
   "source": [
    "Inspection of the column names reveals that the table is organized around one row per county, and with the years as columns, together with information about the particular record.\n",
    "This format is an example of a [*wide* longitudinal data set](https://en.wikipedia.org/wiki/Wide_and_narrow_data).\n",
    "In wide-format data, each column represents a different time period, meaning that each row represents a set of measurements made about the same \"entity\" over time (as well as any unique identifying information about that entity.)\n",
    "This contrasts with a *narrow* or *long* format, where each row describes an entity at a specific point in time. \n",
    "Long data results in significant duplication for records and is generally worse for data storage, particularly in the geographic case. However, long form data is sometimes a more useful format when manipulating and analyzing data, as {cite}`Wickham_2014` discusses. Nonetheless, when analyzing *trajectories*, that is, the paths that entities take over time, wide data is more useful, and we will use that here. \n",
    "\n",
    "In this data, we have 3076 counties across 49 years, as well as 28 extra columns that describe each county. \n",
    "<!-- \n",
    "ljw: we (1) don't discuss wide vs. long anywhere else in the book and (2) don't ever show a wide-to-long pivot using something like pandas.wide_to_long... We also don't need the LineCode filtering, since the final dataframe is already filtered by LineCode so that all LineCode==3.\n",
    "\n",
    "dab: \n",
    "- On (1), I'd say that's OK, as we have it now still feels useful and not too out of context. I think (2) would be good but I don't see it as a crucial USP of the book.\n",
    "- do we need the 28 extra columns if the analysis is univariate? If not, I'd vote to remote them to slim down the data footprint.\n",
    "-->\n"
   ]
  },
  {
   "cell_type": "code",
   "execution_count": null,
   "id": "detected-aspect",
   "metadata": {
    "ein.hycell": false,
    "ein.tags": "worksheet-0",
    "jupyter": {
     "outputs_hidden": false
    },
    "slideshow": {
     "slide_type": "-"
    }
   },
   "outputs": [],
   "source": [
    "pci_df.shape"
   ]
  },
  {
   "cell_type": "markdown",
   "id": "random-piano",
   "metadata": {},
   "source": [
    "As an example, we can see the first few years for Jackson County, Mississippi (state code `28`) below:"
   ]
  },
  {
   "cell_type": "code",
   "execution_count": null,
   "id": "physical-projection",
   "metadata": {},
   "outputs": [],
   "source": [
    "pci_df.query('NAME == \"Jackson\" & STATEFP == \"28\"')"
   ]
  },
  {
   "cell_type": "markdown",
   "id": "through-clearing",
   "metadata": {
    "ein.tags": "worksheet-0",
    "slideshow": {
     "slide_type": "-"
    }
   },
   "source": [
    "## Global Inequality\n",
    "\n",
    "We begin our examination of inequality by focusing on several global measures of income inequality. Here, \"global\" means that the measure is concerned with the overall nature of inequality within the income distribution. That is, these measures focus on the direct disparity between rich and poor, considering nothing about where the rich and poor live. Several classic measures of inequality are available for this purpose. \n",
    "\n",
    "In general terms, measures of inequality focus on the dispersion present in an income distribution. In the case of regional or spatial inequality, the distributions describe the average or per-capita incomes for spatial units, such as for counties, census tracts, or regions. For our US county data, we can visualize the distribution of per capita incomes for the first year in the sample as follows:"
   ]
  },
  {
   "cell_type": "code",
   "execution_count": null,
   "id": "derived-algebra",
   "metadata": {},
   "outputs": [],
   "source": [
    "seaborn.__version__"
   ]
  },
  {
   "cell_type": "code",
   "execution_count": null,
   "id": "constitutional-colonial",
   "metadata": {
    "caption": "Distribution of Per Capita Income at County Level in 1969.",
    "ein.hycell": false,
    "ein.tags": "worksheet-0",
    "jupyter": {
     "outputs_hidden": false
    },
    "lines_to_next_cell": 2,
    "slideshow": {
     "slide_type": "-"
    }
   },
   "outputs": [],
   "source": [
    "seaborn.set_theme(style='whitegrid')\n",
    "seaborn.histplot(x=pci_df['1969'], kde=True);"
   ]
  },
  {
   "cell_type": "markdown",
   "id": "framed-conclusion",
   "metadata": {},
   "source": [
    "Looking at this distribution, notice that the right side of the distribution is much longer than the left side. This long right tail is a prominent feature, and is common in the study of incomes and many other societal phenomena, as it reflects the fact that within a single income distribution, the super-rich are generally much more wealthy than the super-poor are deprived, compared to the average. \n",
    "\n",
    "A key point to keep in mind here is that the unit of measurement in this data is a spatial aggregate of individual incomes. Here, we are using the per-capita incomes for each county. By contrast, in the wider inequality literature, the observational unit is typically a household or individual. In the latter distributions, the degree of skewness is often more pronounced. This difference arises from the smoothing that is intrinsic to aggregation: the regional distributions are based on averages obtained from the individual distributions, and so the extremely high-income individuals are averaged with the rest of their county. The regional approach implies that, to avoid falling into the so-called \"ecological fallacy\", whereby individual conclusions are drawn from geographical aggregates, our conclusions will hold at the area level (the *county*) rather than the individual one (the *person*)."
   ]
  },
  {
   "cell_type": "markdown",
   "id": "thirty-background",
   "metadata": {},
   "source": [
    "The kernel density estimate (or histogram) is a powerful visualization device that captures the overall morphology of the *feature* distribution for this measure of income. At the same time, the plot is silent on the underlying *geographic distribution* of county incomes. We can look at this second view of the distribution using a choropleth map. To construct this, we can use the standard `geopandas` plotting tools. \n",
    "\n",
    "Before we can get to mapping, we note the data is expressed in longitude and latitude but this is *not* recorded on `pci_df`. We set the CRS explicitly and then change it to one more suitable for mapping, the Albers Equal Area projection for North America:  "
   ]
  },
  {
   "cell_type": "code",
   "execution_count": null,
   "id": "secret-montana",
   "metadata": {},
   "outputs": [],
   "source": [
    "pci_df = (pci_df.set_crs(epsg=4326) # US Census default projection\n",
    "                .to_crs(epsg=5070)) # Albers Equal Area North America"
   ]
  },
  {
   "cell_type": "code",
   "execution_count": null,
   "id": "standard-curve",
   "metadata": {
    "caption": "Map of Per Capita Income by County, 1969",
    "ein.hycell": false,
    "ein.tags": "worksheet-0",
    "jupyter": {
     "outputs_hidden": false
    },
    "slideshow": {
     "slide_type": "-"
    }
   },
   "outputs": [],
   "source": [
    "pci_df.plot(\n",
    "    column='1969', \n",
    "    scheme='Quantiles', \n",
    "    legend=True, \n",
    "    edgecolor='none',\n",
    "    legend_kwds={'loc': 'lower left'}, \n",
    "    figsize=(12, 12)\n",
    ")\n",
    "plt.show()"
   ]
  },
  {
   "cell_type": "markdown",
   "id": "paperback-search",
   "metadata": {
    "lines_to_next_cell": 0
   },
   "source": [
    "The choropleth and the kernel density provide different visual depictions of the distribution of county incomes. The kernel density estimate is a *feature*-based representation, and the map is a *geographic* representation. Both are useful for developing a more comprehensive understanding. To gain insights on the level of inequality in the distribution, we'll discuss a few indices common in the statistical and econometric literatures. \n",
    "\n",
    "### 20:20 Ratio\n",
    "\n",
    "One commonly used measure of inequality in a distribution is the so called 20:20 ratio, which is defined as the ratio of the incomes at the 80th percentile over that at the 20th percentile: \n",
    "<!-- #endregion -->"
   ]
  },
  {
   "cell_type": "code",
   "execution_count": null,
   "id": "aerial-ratio",
   "metadata": {
    "ein.hycell": false,
    "ein.tags": "worksheet-0",
    "jupyter": {
     "outputs_hidden": false
    },
    "lines_to_next_cell": 2,
    "slideshow": {
     "slide_type": "-"
    }
   },
   "outputs": [],
   "source": [
    "top20, bottom20 = pci_df['1969'].quantile([.8, .2])"
   ]
  },
  {
   "cell_type": "code",
   "execution_count": null,
   "id": "needed-handbook",
   "metadata": {},
   "outputs": [],
   "source": [
    "top20/bottom20"
   ]
  },
  {
   "cell_type": "markdown",
   "id": "classified-delay",
   "metadata": {
    "ein.tags": "worksheet-0",
    "slideshow": {
     "slide_type": "-"
    }
   },
   "source": [
    "In 1969 the richest 20% of the counties had an income that was 1.5 times the poorest 20% of the counties. The 20:20 ratio has the advantage of being robust to outliers at the top and the bottom of the distribution. To look at the dynamics of this global inequality measure, one way is to create a function that calculates it for a given year, and apply it to all years in our time series:"
   ]
  },
  {
   "cell_type": "code",
   "execution_count": null,
   "id": "agricultural-adapter",
   "metadata": {
    "ein.hycell": false,
    "ein.tags": "worksheet-0",
    "jupyter": {
     "outputs_hidden": false
    },
    "slideshow": {
     "slide_type": "-"
    }
   },
   "outputs": [],
   "source": [
    "def ineq_20_20(values):\n",
    "    top20, bottom20 = values.quantile([.8, .2])\n",
    "    return top20 / bottom20"
   ]
  },
  {
   "cell_type": "code",
   "execution_count": null,
   "id": "retained-funeral",
   "metadata": {
    "caption": "The ratio of the richest 20% versus the poorest 20% of counties (the 20:20 ratio) since 1969.",
    "ein.hycell": false,
    "ein.tags": "worksheet-0",
    "jupyter": {
     "outputs_hidden": false
    },
    "lines_to_next_cell": 0,
    "slideshow": {
     "slide_type": "-"
    }
   },
   "outputs": [],
   "source": [
    "years = numpy.arange(1969, 2018).astype(str)\n",
    "ratio_2020 = pci_df[years].apply(ineq_20_20, axis=0)\n",
    "ax = plt.plot(years, ratio_2020)\n",
    "figure = plt.gcf()\n",
    "plt.xticks(years[::2])\n",
    "plt.ylabel(\"20:20 ratio\")\n",
    "plt.xlabel(\"Year\")\n",
    "figure.autofmt_xdate(rotation=45)\n",
    "plt.show()"
   ]
  },
  {
   "cell_type": "markdown",
   "id": "brilliant-priority",
   "metadata": {
    "ein.tags": "worksheet-0",
    "slideshow": {
     "slide_type": "-"
    }
   },
   "source": [
    "The evolution of the ratio has a U-shaped pattern over time, bottoming out around 1994 after a long decline. Post 1994, however, the 20:20 ratio indicates there is increasing inequality up until 2013, where there is a turn towards lower income inequality between the counties."
   ]
  },
  {
   "cell_type": "markdown",
   "id": "muslim-gasoline",
   "metadata": {
    "ein.tags": "worksheet-0",
    "slideshow": {
     "slide_type": "-"
    }
   },
   "source": [
    "In addition to the 20/20 ratio, we will explore two more traditional measures of inequality: the Gini and Theil's indices. For these, we will use the `inequality` package from `pysal`:"
   ]
  },
  {
   "cell_type": "code",
   "execution_count": null,
   "id": "hybrid-blackberry",
   "metadata": {
    "ein.hycell": false,
    "ein.tags": "worksheet-0",
    "jupyter": {
     "outputs_hidden": false
    },
    "slideshow": {
     "slide_type": "-"
    }
   },
   "outputs": [],
   "source": [
    "from pysal.explore import inequality"
   ]
  },
  {
   "cell_type": "markdown",
   "id": "major-welsh",
   "metadata": {
    "ein.tags": "worksheet-0",
    "slideshow": {
     "slide_type": "-"
    }
   },
   "source": [
    "### Gini Index\n",
    "\n",
    "The Gini index is a longstanding measure of inequality based on the notion of cumulative wealth distribution. To construct a Lorenz curve, the cumulative share of wealth is plotted against the share of the population that owns that wealth. For example, in an extremely unequal society where few people own nearly all the wealth, the Lorenz curve increases very slowly at first, then skyrockets once the wealthiest people are included. \n",
    "\n",
    "In contrast, a \"perfectly equal\" society would look like a straight line connecting $(0,0)$ and $(1,1)$. This is called the *line of perfect equality*, and represents the case where $p$% of the population owns exactly $p$% of the wealth. For example, this might mean that 50% of the population earns exactly 50% of the income, or 90% of the population owns 90% of the wealth. The main idea is that the share of wealth or income is exactly proportional to the share of population that owns that wealth or earns that income, which occurs only when everyone has the same income or owns the same amount of wealth. \n",
    "\n",
    "With these notions in mind, we can define the Gini index as the ratio of the area between the line of perfect equality and the Lorenz curve for a given income or wealth distribution, standardized by the area under the line of perfect equality (which is always $\\frac{1}{2}$). Thus, the Gini index is a measure of the gap between a perfectly equal society and the observed society over every level of wealth/income. \n",
    "\n",
    "We can construct one of the Lorenz curves for 1969 by first computing the share of our population of counties that is below each observation. For that, we generate a cumulative series:"
   ]
  },
  {
   "cell_type": "code",
   "execution_count": null,
   "id": "flush-emperor",
   "metadata": {},
   "outputs": [],
   "source": [
    "n = len(pci_df)\n",
    "share_of_population = numpy.arange(1, n+1) / n"
   ]
  },
  {
   "cell_type": "markdown",
   "id": "eastern-rapid",
   "metadata": {},
   "source": [
    "Then, we consider the cumulative evolution of income. For this, we need to find out the proportion of total income that owned by each share of the population. Empirically, this can be computed in the following fashion. First, we sort county incomes:"
   ]
  },
  {
   "cell_type": "code",
   "execution_count": null,
   "id": "quality-coaching",
   "metadata": {},
   "outputs": [],
   "source": [
    "incomes = pci_df['1969'].sort_values()"
   ]
  },
  {
   "cell_type": "markdown",
   "id": "level-distinction",
   "metadata": {},
   "source": [
    "Second, we find the overall percentage of income accumulated at each data point. To do this, we compute what percentage of the total income that of each county represents:"
   ]
  },
  {
   "cell_type": "code",
   "execution_count": null,
   "id": "surgical-pixel",
   "metadata": {},
   "outputs": [],
   "source": [
    "shares = incomes / incomes.sum()"
   ]
  },
  {
   "cell_type": "markdown",
   "id": "digital-production",
   "metadata": {},
   "source": [
    "and construct the *cumulative sum* of these shares, which reflects the sum of all of the shares of income up to the current one:\n",
    "\n",
    "$$ \\texttt{CumSum(v, k)} = \\sum_{i=1}^k v_i$$\n",
    "\n",
    "This starts at $0$ and reaches $1$ once the last share is included:"
   ]
  },
  {
   "cell_type": "code",
   "execution_count": null,
   "id": "convertible-flour",
   "metadata": {},
   "outputs": [],
   "source": [
    "cumulative_share = shares.cumsum()"
   ]
  },
  {
   "cell_type": "markdown",
   "id": "computational-indonesian",
   "metadata": {},
   "source": [
    "With this, we can plot both the Lorenz curve and the line of perfect equality:"
   ]
  },
  {
   "cell_type": "code",
   "execution_count": null,
   "id": "dirty-theme",
   "metadata": {
    "caption": "The Lorenz Curve for county Per Capita Income.",
    "lines_to_next_cell": 0
   },
   "outputs": [],
   "source": [
    "f, ax = plt.subplots()\n",
    "ax.plot(share_of_population, cumulative_share, label='Lorenz Curve')\n",
    "ax.plot((0,1), (0,1), color='r', label='Perfect Equality')\n",
    "ax.set_xlabel('Share of population')\n",
    "ax.set_ylabel('Share of income')\n",
    "ax.legend()\n",
    "plt.show()"
   ]
  },
  {
   "cell_type": "markdown",
   "id": "coated-lighting",
   "metadata": {},
   "source": [
    "The blue line is the Lorenz curve for county incomes in 1969. The Gini index is the area between it and the 45-degree line of equality shown in red, all standardized by the area underneath the line of equality.\n",
    "\n",
    "A first approach to examine how inequality has evolved is to plot the Lorenz curves for each year. One way to do this in Python involves creating a function that will compute the Lorenz curve for an arbitrary set of incomes. The following function encapsulates the steps shown above into a single shot:"
   ]
  },
  {
   "cell_type": "code",
   "execution_count": null,
   "id": "perceived-search",
   "metadata": {},
   "outputs": [],
   "source": [
    "def lorenz(y):\n",
    "    y = numpy.asarray(y)\n",
    "    incomes = numpy.sort(y)\n",
    "    income_shares = (incomes / incomes.sum()).cumsum()\n",
    "    N = y.shape[0]\n",
    "    pop_shares = numpy.arange(1, N+1)/N\n",
    "    return pop_shares, income_shares"
   ]
  },
  {
   "cell_type": "markdown",
   "id": "religious-adelaide",
   "metadata": {
    "lines_to_next_cell": 0
   },
   "source": [
    "We can use the same strategy as above to calculate the Lorenz curves for all the years in our datasets:"
   ]
  },
  {
   "cell_type": "code",
   "execution_count": null,
   "id": "urban-acoustic",
   "metadata": {},
   "outputs": [],
   "source": [
    "lorenz_curves = pci_df[years].apply(lorenz, axis=0)"
   ]
  },
  {
   "cell_type": "markdown",
   "id": "important-default",
   "metadata": {},
   "source": [
    "Practically, this becomes a dataframe with columns for each year. Rows contain the population shares (or income shares) as lists."
   ]
  },
  {
   "cell_type": "code",
   "execution_count": null,
   "id": "color-general",
   "metadata": {},
   "outputs": [],
   "source": [
    "lorenz_curves.head()"
   ]
  },
  {
   "cell_type": "markdown",
   "id": "mineral-geology",
   "metadata": {},
   "source": [
    "By iterating over the columns of this dataframe, we can make a plot of the Lorenz curves for each year:"
   ]
  },
  {
   "cell_type": "code",
   "execution_count": null,
   "id": "handled-female",
   "metadata": {
    "caption": "Lorenz curves for county per capita incomes since 1969."
   },
   "outputs": [],
   "source": [
    "f, ax = plt.subplots()\n",
    "ax.plot((0,1),(0,1), color='r')\n",
    "for year in lorenz_curves.columns:\n",
    "    year_pop_shares, year_inc_shares = lorenz_curves[year].values\n",
    "    ax.plot(year_pop_shares, year_inc_shares, color='k', alpha=.05)"
   ]
  },
  {
   "cell_type": "markdown",
   "id": "passive-privilege",
   "metadata": {},
   "source": [
    "The compression of the Lorenz curves makes it difficult to ascertain the temporal pattern in inequality. Focusing explicitly on the Gini coefficients may shed more light on the evolution of inequality over time. \n",
    "\n",
    "Remember the Gini coefficient represents the area in between the Lorenz curve and that of perfect equality. The measure can be calculated directly through the `Gini` class in `inequality`. For 1969, this implies:"
   ]
  },
  {
   "cell_type": "code",
   "execution_count": null,
   "id": "domestic-advocacy",
   "metadata": {
    "ein.hycell": false,
    "ein.tags": "worksheet-0",
    "jupyter": {
     "outputs_hidden": false
    },
    "slideshow": {
     "slide_type": "-"
    }
   },
   "outputs": [],
   "source": [
    "g69 = inequality.gini.Gini(pci_df['1969'].values)"
   ]
  },
  {
   "cell_type": "markdown",
   "id": "intended-government",
   "metadata": {},
   "source": [
    "To extract the coefficient, we retrieve the `g` property of `g69`:"
   ]
  },
  {
   "cell_type": "code",
   "execution_count": null,
   "id": "heated-pension",
   "metadata": {
    "ein.hycell": false,
    "ein.tags": "worksheet-0",
    "jupyter": {
     "outputs_hidden": false
    },
    "slideshow": {
     "slide_type": "-"
    }
   },
   "outputs": [],
   "source": [
    "g69.g"
   ]
  },
  {
   "cell_type": "markdown",
   "id": "gross-latex",
   "metadata": {},
   "source": [
    "Here, the Gini coefficient in 1969 was 0.13. To compute this for every year, we can use a similar pattern as we have before. First, define a function to compute the quantity of interest; then, apply the function across the table with all years:"
   ]
  },
  {
   "cell_type": "code",
   "execution_count": null,
   "id": "modular-scotland",
   "metadata": {},
   "outputs": [],
   "source": [
    "def gini_by_col(column):\n",
    "    return inequality.gini.Gini(column.values).g"
   ]
  },
  {
   "cell_type": "markdown",
   "id": "monthly-format",
   "metadata": {},
   "source": [
    "PySAL's Gini requires an `numpy.ndarray` rather than a `pandas.Series` object, which we can pull out through the `values` attribute. This is passed to the `Gini` class, and we only return the value of the coefficient."
   ]
  },
  {
   "cell_type": "code",
   "execution_count": null,
   "id": "reserved-qatar",
   "metadata": {
    "ein.hycell": false,
    "ein.tags": "worksheet-0",
    "jupyter": {
     "outputs_hidden": false
    },
    "slideshow": {
     "slide_type": "-"
    }
   },
   "outputs": [],
   "source": [
    "inequalities = pci_df[years].apply(gini_by_col, axis=0).to_frame('gini')"
   ]
  },
  {
   "cell_type": "markdown",
   "id": "emotional-feature",
   "metadata": {},
   "source": [
    "This results in a series of Gini values, one for each year:"
   ]
  },
  {
   "cell_type": "code",
   "execution_count": null,
   "id": "close-bristol",
   "metadata": {},
   "outputs": [],
   "source": [
    "inequalities.head()"
   ]
  },
  {
   "cell_type": "markdown",
   "id": "variable-quarterly",
   "metadata": {},
   "source": [
    "Which we can turn into a graphical representation through standard `pandas` plotting. The resulting pattern is similar to that of the 20:20 ratio above:"
   ]
  },
  {
   "cell_type": "code",
   "execution_count": null,
   "id": "focal-highway",
   "metadata": {
    "caption": "Gini coefficients for per capita income since 1969"
   },
   "outputs": [],
   "source": [
    "inequalities.plot()"
   ]
  },
  {
   "cell_type": "markdown",
   "id": "senior-person",
   "metadata": {},
   "source": [
    "### Theil's index\n",
    "\n",
    "A third commonly used measure of inequality is Theil's $T$ given as:\n",
    "$$T = \\sum_{i=1}^m \\left( \\frac{y_i}{\\sum_{i=1}^m y_i} \\ln \\left[ m \\frac{y_i}{\\sum_{i=1}^m y_i}\\right] \\right)$$\n",
    "where $y_i$ is per-capita income in area $i$ among $m$ areas. Conceptually, this metric is related to the entropy of the income distribution, measuring how evenly-distributed incomes are across the population.\n",
    "\n",
    "The Theil index is also available in PySAL's `inequality`, so we can take a similar approach as above to calculate it for every year:"
   ]
  },
  {
   "cell_type": "code",
   "execution_count": null,
   "id": "gentle-programmer",
   "metadata": {
    "ein.hycell": false,
    "ein.tags": "worksheet-0",
    "jupyter": {
     "outputs_hidden": false
    },
    "slideshow": {
     "slide_type": "-"
    }
   },
   "outputs": [],
   "source": [
    "def theil(column):\n",
    "    return inequality.theil.Theil(column.values).T"
   ]
  },
  {
   "cell_type": "code",
   "execution_count": null,
   "id": "alien-pioneer",
   "metadata": {},
   "outputs": [],
   "source": [
    "inequalities['theil'] = pci_df[years].apply(theil, axis=0)"
   ]
  },
  {
   "cell_type": "markdown",
   "id": "expensive-german",
   "metadata": {},
   "source": [
    "And generate a visual comparison of the evolution of both Gini and Theil's indices:"
   ]
  },
  {
   "cell_type": "code",
   "execution_count": null,
   "id": "committed-context",
   "metadata": {
    "caption": "Gini and Theil indices for county per capita income distributions since 1969.",
    "ein.hycell": false,
    "ein.tags": "worksheet-0",
    "jupyter": {
     "outputs_hidden": false
    },
    "slideshow": {
     "slide_type": "-"
    }
   },
   "outputs": [],
   "source": [
    "inequalities.plot(subplots=True, figsize=(15,6))"
   ]
  },
  {
   "cell_type": "markdown",
   "id": "theoretical-shore",
   "metadata": {},
   "source": [
    "The time paths of the Gini and the Theil coefficients show striking\n",
    "similarities. At first glance, this might suggest that the indices are\n",
    "substitutes for one another. However, they are not perfectly correlated: "
   ]
  },
  {
   "cell_type": "code",
   "execution_count": null,
   "id": "organic-commission",
   "metadata": {},
   "outputs": [],
   "source": [
    "seaborn.regplot(x='theil', y='gini', data=inequalities)"
   ]
  },
  {
   "cell_type": "markdown",
   "id": "opposed-shield",
   "metadata": {},
   "source": [
    "Indeed, as we shall see below, each index has\n",
    "properties that lend themselves to particular spatial extensions that work in complementary ways. We need both (and more) for a complete picture. \n",
    "\n"
   ]
  },
  {
   "cell_type": "markdown",
   "id": "several-panel",
   "metadata": {},
   "source": [
    "## Personal versus Regional Income\n",
    "There is a subtle but important distinction between the study of personal and\n",
    "regional income inequality. To see this, we first need to express the\n",
    "relationships between the two types of inequality. Consider a country composed\n",
    "of $N$ individuals who are distributed over $m$ regions. Let $Y_l$ denote the\n",
    "income of individual $l$. Total personal income in region $i$ is given as $Y_i =\n",
    "\\sum_{l \\in i} Y_l$. Per-capita income in region $i$ is $y_i = \\frac{Y_i}{N_i}$,\n",
    "where $N_i$ is the number of individuals in region $i$.\n",
    "\n",
    "At the national level,  the coefficient of variation in incomes could be used as an index of interpersonal income inequality. This would be:\n",
    "\n",
    "$$CV_{nat} = \\sqrt{\\frac{\\sum_{l=1}^N (Y_l - \\bar{y})^2}{N}}$$\n",
    "\n",
    "where $\\bar{y}$ is the national average for per-capita income. The key component here is the sum\n",
    "of squares term, and unpacking this sheds light on personal versus regional\n",
    "inequality question:\n",
    "\n",
    "$$TSS = \\sum_{l=1}^N (Y_l - \\bar{y})^2$$\n",
    "\n",
    "An individual deviation, $\\delta_l = Y_l - \\bar{y}$, is the contribution to inequality associated with individual $l$. We can break this into two components:\n",
    "\n",
    "$$\\delta_l = (Y_l - y_i) +  (y_i - \\bar{y})$$\n",
    "\n",
    "The first term is the difference between the individual's income and per-capita income in the individual's region of residence, while the second term is the difference between the region's per capita income and average national per capita income.\n",
    "\n",
    "In regional studies, the intra-regional personal income distribution is typically\n",
    "not available. As a result, the assumption is often made that intra-regional\n",
    "personal inequality is zero. In other words, all individuals in the same region\n",
    "have identical incomes. With this assumption in hand, the first term vanishes:\n",
    "$Y_l -y_i = 0$, leading to:[^reg] \n",
    "\n",
    "[^reg]: It should also be noted that even at the national scale, the analysis of interpersonal income inequality also relies on aggregate data grouping individuals into income cohorts. See, for example, {cite}`Piketty_2003`.\n",
    "\n",
    "$$\n",
    "\\begin{aligned}\n",
    "TSS &= \\sum_{l=1}^N (Y_l - \\bar{y})^2 \\\\\n",
    "    &= \\sum_{l=1}^N \\delta_l^2 \\\\\n",
    "    &= \\sum_{l=1}^N ((Y_l - y_i) +  (y_i - \\bar{y}))^2 \\\\\n",
    "    &= \\sum_{l=1}^N (0 +  (y_i - \\bar{y}))^2 \\\\\n",
    "    &= \\sum_{i=1}^m\\sum_{l \\in i}  (y_i - \\bar{y})^2 \\\\\n",
    "    &= \\sum_{i=1}^m  [N_i(y_i - \\bar{y})]^2\n",
    "\\end{aligned}\n",
    "$$\n",
    "\n",
    "This means that each individual in a region has an equal contribution to the\n",
    "overall level of national interpersonal inequality, given by $(y_i - \\bar{y})$,\n",
    "while the region in question contributes $N_i(y_i - \\bar{y})$. While it may seem\n",
    "that the assumption of zero intra-regional interpersonal income inequality is\n",
    "overly restrictive, it serves to isolate the nature of inter-regional income\n",
    "inequality. That is, inequality between places, rather than inequality between\n",
    "people within those places. In essence, this strategy shifts the question up one\n",
    "level in the spatial hierarchy by aggregating micro-level individual data to\n",
    "areal units.\n",
    "\n"
   ]
  },
  {
   "cell_type": "markdown",
   "id": "premium-animation",
   "metadata": {
    "ein.tags": "worksheet-0",
    "lines_to_next_cell": 0,
    "slideshow": {
     "slide_type": "-"
    }
   },
   "source": [
    "## Spatial Inequality"
   ]
  },
  {
   "cell_type": "markdown",
   "id": "robust-manual",
   "metadata": {},
   "source": [
    "The analysis of regional income inequality differs from the analysis of\n",
    "national interpersonal income inequality in its focus on spatial units. Since\n",
    "regional incomes are explicitly embedded in geographical space, we can take advantage\n",
    "of their spatial configuration to learn more about the nature of the inequality.\n",
    "In the regional inequality literature this has been approached in a number of ways.\n",
    "Three are considered in this chapter: one that links the discussion to that of spatial\n",
    "autocorrelation in chapters [6](06_spatial_autocorrelation) and [7](07_local_autocorrelation);\n",
    "a second one based on decomposing global indices regionally; and a third one that embeds space\n",
    "in traditional global measures."
   ]
  },
  {
   "cell_type": "markdown",
   "id": "frozen-dallas",
   "metadata": {
    "ein.tags": "worksheet-0",
    "slideshow": {
     "slide_type": "-"
    }
   },
   "source": [
    "### Spatial Autocorrelation\n",
    "\n"
   ]
  },
  {
   "cell_type": "code",
   "execution_count": null,
   "id": "southwest-auditor",
   "metadata": {},
   "outputs": [],
   "source": [
    "from pysal.explore import esda\n",
    "from pysal.lib import weights"
   ]
  },
  {
   "cell_type": "markdown",
   "id": "protecting-seafood",
   "metadata": {},
   "source": [
    "This approach helps us shed light on the properties of the spatial pattern of regional income data. We return to global measures of spatial autocorrelation that we encountered earlier in the book. The essence of this approach is to examine to what extent the spatial distribution of incomes is concentrated over space. For this, we use a queen spatial weights matrix and calculate Moran's I for\n",
    "each year in the sample:"
   ]
  },
  {
   "cell_type": "code",
   "execution_count": null,
   "id": "appreciated-pendant",
   "metadata": {
    "ein.hycell": false,
    "ein.tags": "worksheet-0",
    "jupyter": {
     "outputs_hidden": false
    },
    "slideshow": {
     "slide_type": "-"
    }
   },
   "outputs": [],
   "source": [
    "wq = weights.Queen.from_dataframe(pci_df)"
   ]
  },
  {
   "cell_type": "markdown",
   "id": "incoming-coverage",
   "metadata": {},
   "source": [
    "Following the same pattern to \"broadcast\" a function, we create a function that returns the results we need from each statistic. Here, we will also keep the pseudo $p$-value for the Moran statistic which, as we saw in [Chapter 6](06_spatial_autocorrelation), helps us identify whether the index is statistically significant under the null hypothesis that incomes are randomly distributed geographically."
   ]
  },
  {
   "cell_type": "code",
   "execution_count": null,
   "id": "seven-structure",
   "metadata": {},
   "outputs": [],
   "source": [
    "def moran_by_col(y, w=wq):\n",
    "    mo = esda.Moran(y, w=w)\n",
    "    mo_s = pandas.Series(\n",
    "        {\"I\": mo.I, \"I-P value\": mo.p_sim},\n",
    "    )\n",
    "    return mo_s"
   ]
  },
  {
   "cell_type": "markdown",
   "id": "usual-criticism",
   "metadata": {},
   "source": [
    "This time, our function returns a `Series` object so that we pass it through `apply`, we get a well formatted table:"
   ]
  },
  {
   "cell_type": "code",
   "execution_count": null,
   "id": "outside-ensemble",
   "metadata": {
    "ein.hycell": false,
    "ein.tags": "worksheet-0",
    "jupyter": {
     "outputs_hidden": false
    },
    "slideshow": {
     "slide_type": "-"
    }
   },
   "outputs": [],
   "source": [
    "moran_stats = pci_df[years].apply(moran_by_col, axis=0).T"
   ]
  },
  {
   "cell_type": "code",
   "execution_count": null,
   "id": "matched-charles",
   "metadata": {},
   "outputs": [],
   "source": [
    "moran_stats.head()"
   ]
  },
  {
   "cell_type": "markdown",
   "id": "advanced-allowance",
   "metadata": {},
   "source": [
    "For further comparison, the results are attached to the `inequalities` table:"
   ]
  },
  {
   "cell_type": "code",
   "execution_count": null,
   "id": "proof-hunter",
   "metadata": {},
   "outputs": [],
   "source": [
    "inequalities = inequalities.join(moran_stats)"
   ]
  },
  {
   "cell_type": "markdown",
   "id": "adjustable-wiring",
   "metadata": {},
   "source": [
    "To show the overall inter-relationships between these statistics, we make another plot below:"
   ]
  },
  {
   "cell_type": "code",
   "execution_count": null,
   "id": "computational-garage",
   "metadata": {
    "caption": "Relationship between the Gini & Theil inequality indices and Moran's I, a measure of spatial autocorrelation, for per capita incomes.",
    "ein.hycell": false,
    "ein.tags": "worksheet-0",
    "jupyter": {
     "outputs_hidden": false
    },
    "lines_to_next_cell": 0,
    "slideshow": {
     "slide_type": "-"
    }
   },
   "outputs": [],
   "source": [
    "inequalities.plot(subplots=True, figsize=(15,12))\n",
    "plt.show()"
   ]
  },
  {
   "cell_type": "markdown",
   "id": "interstate-absolute",
   "metadata": {
    "lines_to_next_cell": 0
   },
   "source": [
    "Several patterns emerge from the time series of Moran's I. Before delving into the details, it is worth noting that, while Gini and Theil follow a similar path, Moran's I displays a distinct trajectory. There is a long-term decline in the value of Moran's I. This suggests a gradual decline in the geographic structure of inequality with two implications: (a) per capita incomes are now less similar between nearby counties and (b), this has been consistently declining, regardless of whether inequality is high or low. \n",
    "Second, despite this decline, there is never a year in which the spatial autocorrelation is not statistically significant. In other words, there is a strong geographic structure in the distribution of regional incomes that needs to be accounted for when focusing on inequality questions.\n",
    "\n",
    "### Regional Decomposition of Inequality\n",
    "\n",
    "One common objection to the analysis of inequality in aggregate relates to lack of detail about the scale at which inequality is most important. Inequality can be driven by differences between groups and not by discrepancies in income between similar individuals. That is, there is always the possibility that observed inequality can be \"explained\" by a confounding variate, such as age, sex, or education. For example, income differences between older and younger people can \"explain\" a large part of the societal inequality in wealth: older people have much longer to acquire experience, and thus are generally paid more for that experience. Younger people do not have as much experience, so young people (on average) have lower incomes than older people. \n",
    "\n",
    "To combat this issue, it is often useful to *decompose* inequality indices into constituent groups. This allows us to understand how much of inequality is driven by aggregate group differences and how much is driven by observation-level inequality. This also allows us to characterize how unequal each group is separately. In geographic applications, these groups are usually spatially defined, in that *regions* are contiguous geographic groups of observations. This section discusses regional inequality decompositions as a way to introduce geography into the study of inequality. \n",
    "\n",
    "Let's illustrate these ideas with our income dataset. The table records the United States Census Bureau region a county belongs to in the `Region` variable. These divide the country into eight regions, each assigned a number that relates to its name as specified below:"
   ]
  },
  {
   "cell_type": "code",
   "execution_count": null,
   "id": "outstanding-frame",
   "metadata": {
    "ein.hycell": false,
    "ein.tags": "worksheet-0",
    "jupyter": {
     "outputs_hidden": false
    },
    "slideshow": {
     "slide_type": "-"
    }
   },
   "outputs": [],
   "source": [
    "region_names = {\n",
    "    1:\"New England\",\n",
    "    2: \"Mideast\",\n",
    "    3: \"Great Lakes\",\n",
    "    4: \"Plains\",\n",
    "    5: \"Southeast\",\n",
    "    6: \"Southwest\",\n",
    "    7: \"Rocky Mountain\",\n",
    "    8: \"Far West\"\n",
    "}"
   ]
  },
  {
   "cell_type": "markdown",
   "id": "critical-expression",
   "metadata": {},
   "source": [
    "We can visualize the regions with the names on the legend by first mapping the name to each region number, and then rendering a qualitative choropleth:"
   ]
  },
  {
   "cell_type": "code",
   "execution_count": null,
   "id": "wanted-allah",
   "metadata": {
    "caption": "Map of census regions in the United States."
   },
   "outputs": [],
   "source": [
    "pci_df.assign(Region_Name=pci_df.Region.map(region_names))\\\n",
    "      .plot(\n",
    "    \"Region_Name\",\n",
    "    linewidth=0,\n",
    "    legend=True,\n",
    "    categorical=True,\n",
    "    legend_kwds=dict(bbox_to_anchor=(1.2,.5))\n",
    ");"
   ]
  },
  {
   "cell_type": "markdown",
   "id": "environmental-notice",
   "metadata": {},
   "source": [
    "Let's peak into income changes for each region. To do that, we can apply a split-apply-combine pattern that groups counties by region, calculates its mean, and combines it into a table:"
   ]
  },
  {
   "cell_type": "code",
   "execution_count": null,
   "id": "confused-reminder",
   "metadata": {},
   "outputs": [],
   "source": [
    "rmeans = pci_df.assign(Region_Name=pci_df.Region.map(region_names))\\\n",
    "               .groupby(by='Region_Name')\\\n",
    "               .mean()\\\n",
    "               [years]"
   ]
  },
  {
   "cell_type": "markdown",
   "id": "assigned-blade",
   "metadata": {},
   "source": [
    "The resulting table has a row for each region and a column for each year. We can visualize these means to get a sense of their temporal trajectory:"
   ]
  },
  {
   "cell_type": "code",
   "execution_count": null,
   "id": "spatial-jaguar",
   "metadata": {
    "caption": "Average county per capita incomes among census regions since 1969"
   },
   "outputs": [],
   "source": [
    "rmeans.T.plot.line();"
   ]
  },
  {
   "cell_type": "markdown",
   "id": "unlikely-soccer",
   "metadata": {},
   "source": [
    "One way to introduce geography into the analysis of inequality is to use geographical delineations to define groups for decompositions. For example, Theil's $T$, which we encountered previously, can be decomposed using regions into so called *between* and *within* regional inequality components.\n",
    "To proceed in this direction, we first re-conceptualize our observations of per capita incomes for $m$ regional economies as $y = \\left( y_1, y_2, \\ldots, y_m \\right)$. These are grouped into $\\omega$ mutually exclusive regions. Formally, this means that when $m_g$ represents the number of areas assigned to region $g$, the total number of areas must be equal to the count of all the areas in each region: $\\sum_{g=1}^{\\omega} m_g=m$.[^mut-ex] With this notation, Theil's index from above can be rewritten to emphasize its between and within components:\n",
    "\n",
    "[^mut-ex]: This would be violated, for example, if one area were in two regions. This area would get \"double counted\" in this total. \n",
    "\n",
    "$$\n",
    "\\begin{align}\n",
    "T &= \\sum_{i=1}^m \\left( \\frac{y_i}{\\sum_{i=1}^m y_i} \\ln \\left[ m \\frac{y_i}{\\sum_{i=1}^m y_i}\\right] \\right) \\\\\n",
    "  &= \\left[ \\sum_{g=1}^{\\omega} s_{g} \\ln \\left(\\frac{m}{m_g} s_g \\right)  \\right] + \\left[ \\sum_{g=1}^{\\omega} s_g \\sum_{i \\in g} s_{i,g} \\ln \\left(m_g s_{i,g}\\right) \\right] \\\\\n",
    "  &= B + W \\\\\n",
    "\\end{align}\n",
    "$$\n",
    "\n",
    "where $s_g = \\frac{\\sum_{i \\in g} y_i}{\\sum_i y_i}$, and   $s_{i,g} = y_i / \\sum_{i \\in g} y_i$. \n",
    "\n",
    "The first term is the between regions inequality component, and the second is\n",
    "the within regions inequality component. The within regions term is a weighted\n",
    "average of inequality between economies belonging to the same region. Similar\n",
    "to what is done above for the case of interpersonal inequality, the estimate of\n",
    "the between region (group) component of the decomposition is based on setting\n",
    "the incomes of all economies (individuals) belonging to a region (group) equal\n",
    "to that of the regional (group) average of these per capita incomes. Now,\n",
    "however, intra-regional inequality between economies within the same region is\n",
    "explicitly considered in the second component.[^weight]\n",
    "\n",
    "[^weight]: The regional decomposition does not involve weighting the regions by their respective population. See  {cite}`Gluschenko_2018` for further details. \n",
    "\n",
    "\n"
   ]
  },
  {
   "cell_type": "markdown",
   "id": "prerequisite-skiing",
   "metadata": {},
   "source": [
    "Once we have covered the decomposition conceptually, the technical implementation is straightforward thanks to the `inequality` module of PySAL, and the `TheilD` class:"
   ]
  },
  {
   "cell_type": "code",
   "execution_count": null,
   "id": "joint-philip",
   "metadata": {},
   "outputs": [],
   "source": [
    "theil_dr = inequality.theil.TheilD(pci_df[years].values, pci_df.Region)"
   ]
  },
  {
   "cell_type": "markdown",
   "id": "apart-edmonton",
   "metadata": {},
   "source": [
    "The `theil_dr` object has the between and within components stored in the `bg` and `wg` attributes. The `bg` stands for the \"between\" component, and \"wg\" for the within component. For example the \"between\" component for each year is computed is:"
   ]
  },
  {
   "cell_type": "code",
   "execution_count": null,
   "id": "overhead-badge",
   "metadata": {
    "ein.hycell": false,
    "ein.tags": "worksheet-0",
    "jupyter": {
     "outputs_hidden": false
    },
    "slideshow": {
     "slide_type": "-"
    }
   },
   "outputs": [],
   "source": [
    "theil_dr.bg"
   ]
  },
  {
   "cell_type": "markdown",
   "id": "excellent-amino",
   "metadata": {},
   "source": [
    "If we store these components in our results table as we have been doing:"
   ]
  },
  {
   "cell_type": "code",
   "execution_count": null,
   "id": "mexican-seating",
   "metadata": {
    "ein.hycell": false,
    "ein.tags": "worksheet-0",
    "jupyter": {
     "outputs_hidden": false
    },
    "slideshow": {
     "slide_type": "-"
    }
   },
   "outputs": [],
   "source": [
    "inequalities['theil_between'] = theil_dr.bg\n",
    "inequalities['theil_within'] = theil_dr.wg\n",
    "inequalities.drop('I-P value', axis=1, inplace=True)"
   ]
  },
  {
   "cell_type": "markdown",
   "id": "honey-flesh",
   "metadata": {},
   "source": [
    "We can visualize them alongside our earlier results:"
   ]
  },
  {
   "cell_type": "code",
   "execution_count": null,
   "id": "handled-insulin",
   "metadata": {
    "caption": "Inequality indices (Gini, Theil), shown alongside Moran's I, with the Theil Decomposition into between-region and within-region components at bottom.",
    "ein.hycell": false,
    "ein.tags": "worksheet-0",
    "jupyter": {
     "outputs_hidden": false
    },
    "slideshow": {
     "slide_type": "-"
    }
   },
   "outputs": [],
   "source": [
    "inequalities.plot(subplots=True, figsize=(15,15))\n",
    "plt.show()"
   ]
  },
  {
   "cell_type": "markdown",
   "id": "ultimate-isolation",
   "metadata": {},
   "source": [
    "Inference on these decompositions can be done using the `inequality.theil.TheilDSim` class, but we omit that here for brevity and report that, like the Moran's $I$, all of the Theil decompositions are statistically significant. Further, since the within and between components are interpreted as shares of the overall Theil index, we can compute the share of the Theil index due to the between-region inequality, and note that it also generally shares the same pattern, but does not see minima in the same places:"
   ]
  },
  {
   "cell_type": "code",
   "execution_count": null,
   "id": "expired-purple",
   "metadata": {
    "caption": "The share of inequality (measured by the Theil index) that is driven by between-region inequality has generally declined since 1969, although this has rebounded recently."
   },
   "outputs": [],
   "source": [
    "inequalities['theil_between_share'] = inequalities['theil_between'] / inequalities['theil']\n",
    "inequalities['theil_between_share'].plot()\n",
    "plt.show()"
   ]
  },
  {
   "cell_type": "markdown",
   "id": "coordinate-destruction",
   "metadata": {},
   "source": [
    " The between-region share of inequality is at its lowest in the mid-2000s, not in the mid-1990s. This suggests that regional differences were very important in the 1970s and 1980s, but this importance has been waning, relative to the inequality *within* US Census Regions. "
   ]
  },
  {
   "cell_type": "markdown",
   "id": "approved-savage",
   "metadata": {
    "ein.tags": "worksheet-0",
    "slideshow": {
     "slide_type": "-"
    }
   },
   "source": [
    "<!-- #region {\"ein.tags\": \"worksheet-0\", \"slideshow\": {\"slide_type\": \"-\"}} -->\n",
    "\n",
    "\n",
    "### Spatializing Classic Measures"
   ]
  },
  {
   "cell_type": "markdown",
   "id": "corresponding-procurement",
   "metadata": {},
   "source": [
    "While regional decompositions are useful, they do not tell the whole story. Indeed, a \"region\" is just a special kind of group; its \"geography\" is only made manifest through group membership (*is the county \"in\" the region or not?*). This kind of \"place-based\" thinking, while geographic, is not necessarily *spatial*. It does not incorporate the notions of distance or proximity into the study of inequality. The geographical locations of the regions could be re-arranged without impact, so long as the group membership structure is maintained. While, arguably, shuffling regions around means they are no longer \"regions,\" the statistical methods would be no different. \n",
    "\n",
    "The final approach we review here is an explicit integration of space within traditional, non-spatial measure. In particular, we consider a *spatialized* version of the Gini coefficient, introduced by {cite}`Rey_2012`. The spatial Gini is designed to consider\n",
    "the role of spatial adjacency in a decomposition of the traditional Gini. The original index can be formulated focusing on the set of pairwise absolute differences in incomes:\n",
    "\n",
    "$$G = \\frac{\\sum_i \\sum_j \\left | y_i - y_j \\right|}{2 n^2 \\bar{x}} $$\n",
    "\n",
    "Focusing on the set of pairwise absolute differences in income, we can de-compose this into the set of differences between \"nearby\" observations and the set of differences among \"distant\" observations. This is the main conceptual point of the \"Spatial Gini\" coefficient. This decomposition works similarly to the regional decomposition of the Theil index:\n",
    "\n",
    "$$\n",
    "\\sum_i \\sum_j \\left |y_i - y_j \\right | =\\sum_i \\sum_j \\underset{\\text{near differences}}{\\left( w_{ij} \\left |y_i - y_j \\right | \\right )} + \\underset{\\text{far differences}}{\\left( (1-w_{ij})  \\left |y_i - y_j \\right | \\right )}\n",
    "$$\n",
    "\n",
    "In this decomposition, $w_{ij}$ is a binary variable that is $1$ when $i$ and $j$ are neighbors, and is zero otherwise. Recalling the spatial weights matrices from Chapter 4, this can be used directly from a spatial weights matrix.^[However, non-binary spatial weights matrices require a correction factor, and are not discussed here.] Thus, with this decomposition, the Spatial Gini can be stated as\n",
    "\n",
    "$$G = \\frac{\\sum_i \\sum_j w_{i,j}\\left | x_i - x_j \\right|}{2 n^2 \\bar{x}} +   \\frac{\\sum_i \\sum_j \\left (1-w_{i,j} )| x_i - x_j \\right|}{2 n^2 \\bar{x}}$$\n",
    "\n",
    "with the first term being the component among neighbors and the second term being the component among non-neighbors. The \"spatial Gini\", then, is the first component that describes the differences between nearby observations. \n",
    "\n",
    "The spatial Gini allows for a consideration of spatial dependence in inequality. If spatial dependence is very strong and positive, incomes are very similar among nearby observations, so the inequality of \"near\" differences will be small. Most of the inequality in the society will be driven by disparities in income between distant places. In contrast, when dependence is very weak (or even negative), then the two components may equalize. Inference on the spatial Gini can be based on random spatial permutations of the income values, as we have seen elsewhere in this book. This tests whether the distribution of the components are different from that obtained when incomes are randomly distributed across the map. \n",
    "\n",
    "The spatial Gini also provides a useful complement to the regional decomposition used in the Theil statistic. The latter does not consider pairwise relationships between observations, while the spatial Gini does. By considering the pairwise relationships between observations, the Gini coefficient is more sensitive, and can also be more strongly affected by small groups of significantly wealthy observations.  \n",
    "\n",
    "We can estimate spatial Gini coefficients using the `Gini_Spatial` class:"
   ]
  },
  {
   "cell_type": "code",
   "execution_count": null,
   "id": "therapeutic-output",
   "metadata": {},
   "outputs": [],
   "source": [
    "from inequality.gini import Gini_Spatial"
   ]
  },
  {
   "cell_type": "markdown",
   "id": "stainless-lewis",
   "metadata": {},
   "source": [
    "First, since the spatial Gini requires binary spatial weights, we will ensure this is so before proceeding:"
   ]
  },
  {
   "cell_type": "code",
   "execution_count": null,
   "id": "hungry-mainstream",
   "metadata": {},
   "outputs": [],
   "source": [
    "wq.transform = 'B'"
   ]
  },
  {
   "cell_type": "markdown",
   "id": "timely-anniversary",
   "metadata": {},
   "source": [
    "Then, the spatial Gini can be computed from an income vector and the spatial weights describing adjacency among the observations. "
   ]
  },
  {
   "cell_type": "code",
   "execution_count": null,
   "id": "infectious-paint",
   "metadata": {},
   "outputs": [],
   "source": [
    "gs69 = Gini_Spatial(pci_df['1969'], wq)"
   ]
  },
  {
   "cell_type": "markdown",
   "id": "unknown-learning",
   "metadata": {},
   "source": [
    "The aspatial Gini is stored in the `g` attribute, just like for the aspatial class:"
   ]
  },
  {
   "cell_type": "code",
   "execution_count": null,
   "id": "severe-frost",
   "metadata": {},
   "outputs": [],
   "source": [
    "gs69.g"
   ]
  },
  {
   "cell_type": "markdown",
   "id": "stock-problem",
   "metadata": {},
   "source": [
    "The share of the overall Gini coefficient that is due to the \"far\" differences is stored in the `wcg` share:"
   ]
  },
  {
   "cell_type": "code",
   "execution_count": null,
   "id": "parallel-producer",
   "metadata": {},
   "outputs": [],
   "source": [
    "gs69.wcg_share"
   ]
  },
  {
   "cell_type": "markdown",
   "id": "executive-delicious",
   "metadata": {},
   "source": [
    "The $p$-value for this tests whether the component measuring inequality among neighbors is larger (or smaller) than that would have occurred if incomes were shuffled randomly around the map:"
   ]
  },
  {
   "cell_type": "code",
   "execution_count": null,
   "id": "banned-application",
   "metadata": {},
   "outputs": [],
   "source": [
    "gs69.p_sim"
   ]
  },
  {
   "cell_type": "markdown",
   "id": "amended-medicare",
   "metadata": {},
   "source": [
    "The value is statistically significant for 1969, indicating that inequality between neighboring pairs of counties is different from the inequality between county pairs that are not geographically proximate.\n",
    "\n",
    "We can apply the same statistic over each year in the sample using the function-by-column approach as before. In this case, we want to return the statistic itself, as well as the decomposition between variation in the neighbors and that for non-neighbors, and the pseudo P-values:"
   ]
  },
  {
   "cell_type": "code",
   "execution_count": null,
   "id": "moderate-marshall",
   "metadata": {},
   "outputs": [],
   "source": [
    "def gini_spatial_by_col(incomes, weights):\n",
    "    gs = Gini_Spatial(incomes, weights)\n",
    "    denom = 2 * incomes.mean() * weights.n**2\n",
    "    near_diffs = gs.wg / denom\n",
    "    far_diffs = gs.wcg / denom\n",
    "    out = pandas.Series(\n",
    "        {\n",
    "            \"gini\": gs.g,\n",
    "            \"near_diffs\": near_diffs,\n",
    "            \"far_diffs\": far_diffs,\n",
    "            \"p_sim\": gs.p_sim\n",
    "        }\n",
    "    )\n",
    "    return out"
   ]
  },
  {
   "cell_type": "markdown",
   "id": "paperback-plasma",
   "metadata": {},
   "source": [
    "Inference on this estimator is computationally demanding, since the pairwise differences have to be re-computed every permutation, so the following cell takes some time to complete execution: "
   ]
  },
  {
   "cell_type": "code",
   "execution_count": null,
   "id": "square-custom",
   "metadata": {},
   "outputs": [],
   "source": [
    "%%time\n",
    "spatial_gini_results = pci_df[years].apply(gini_spatial_by_col, weights=wq).T"
   ]
  },
  {
   "cell_type": "code",
   "execution_count": null,
   "id": "preceding-outline",
   "metadata": {},
   "outputs": [],
   "source": [
    "spatial_gini_results.head()"
   ]
  },
  {
   "cell_type": "markdown",
   "id": "pursuant-blend",
   "metadata": {},
   "source": [
    "The $p$-values are always small, suggesting that the contribution of the local ties is always smaller than that that would be expected if incomes were distributed randomly in the map.^[While it is possible that the \"near differences\" component could be *larger* than expected, that would imply negative spatial dependence, which is generally rare in empirical work.] We can compute the percent of times the $p$-value is smaller than a threshold using the mean:"
   ]
  },
  {
   "cell_type": "code",
   "execution_count": null,
   "id": "revolutionary-search",
   "metadata": {},
   "outputs": [],
   "source": [
    "(spatial_gini_results.p_sim < 0.05).mean()"
   ]
  },
  {
   "cell_type": "markdown",
   "id": "aging-marks",
   "metadata": {},
   "source": [
    "While it may appear that the component due to \"near differences\" is quite small, this has two reasons. First, the number of \"nearby\" pairs are less than 1% of all pairs of observations:"
   ]
  },
  {
   "cell_type": "code",
   "execution_count": null,
   "id": "unlimited-arbor",
   "metadata": {},
   "outputs": [],
   "source": [
    "wq.pct_nonzero"
   ]
  },
  {
   "cell_type": "markdown",
   "id": "aboriginal-invite",
   "metadata": {},
   "source": [
    "Second, when spatial dependence is high, nearby observations will be similar. So, each \"near difference\" will also be small. Adding together a small number of small observations will generally be small, relative to the large differences between distant observations. Thus, small values of the \"near\" distances are indicative of spatial dependence. Indeed, we can see that as the spatial dependence weakens, the `near_diffs` get larger:"
   ]
  },
  {
   "cell_type": "code",
   "execution_count": null,
   "id": "toxic-testament",
   "metadata": {
    "caption": "Relationship between the 'near differences' term of the Spatial Gini coefficient and Moran's I. The top, as a measure of spatial dissimilarity, should move in an opposite direction to the bottom, which measures spatial similarity (albeit in a different fashion)."
   },
   "outputs": [],
   "source": [
    "inequalities['near_diffs'] = spatial_gini_results.near_diffs\n",
    "\n",
    "inequalities[['near_diffs', 'I']].plot.line(subplots=True, figsize=(15,6))"
   ]
  },
  {
   "cell_type": "markdown",
   "id": "generic-thursday",
   "metadata": {},
   "source": [
    "## Conclusion"
   ]
  },
  {
   "cell_type": "markdown",
   "id": "israeli-conditions",
   "metadata": {},
   "source": [
    "Inequality is an important social phenomenon, and its geography is an important concern for social scientists. Geographical disparities in well-being have been pointed to as a major driver behind the rise of right-wing populist movements in the US and Europe {cite}`Rodriguez_Pose_2018`. Thus, understanding the nature of these disparities and their evolution is a challenge for both science and policy.\n",
    "\n",
    "This chapter discusses methods to assess inequality, as well as examine its spatial and regional structure. We have seen the Gini coefficient and Theil index as examples of global measures to summarize the overall level of inequality. As is often the case in many areas of spatial analysis, the straightforward adoption of methods from economics and sociology to spatial data can  often be fruitful but, at the same time, can miss key elements of the spatial story. In the context of spatial income disparities, we have highlighted the  differences between personal and regional inequality. From this vantage, we have reviewed three approaches to incorporate geography and space in the study of inequality. Together, this gives us a good sense of how inequality manifests geographically, and how it is (possibly) distinct from other kinds of spatial measures, such as those for spatial autocorrelation discussed in chapters [6](06_spatial_autocorrelation) and [7](07_local_autocorrelation). \n",
    "\n",
    "Before leaving the topic of spatial inequality, we note that there is much more that can be said about inequality and related concepts. Inequality is generally concerned with the static snapshot of the regional income distribution and the shares of that distribution that each region holds. Those shares are reflected in the variance or spread of the distribution. However, this is only one moment of the distribution, and a comprehensive understanding of disparities requires analysis of the distribution's location (mean) and shape (modes, kurtosis, skewness) as well as dispersion. Moreover, movements of individual regions within the distribution over time, or what is referred to as *spatial income mobility* are critical to our understanding of the dynamics of spatial disparities. Full consideration of these concepts is beyond the scope of this chapter. Interested readers are directed to {cite}`Rey2014` as an entry point to these more advanced topics.\n",
    "\n"
   ]
  },
  {
   "cell_type": "markdown",
   "id": "removed-selling",
   "metadata": {},
   "source": [
    "## Questions"
   ]
  },
  {
   "cell_type": "markdown",
   "id": "oriented-plaza",
   "metadata": {},
   "source": [
    "\n",
    "\n",
    "\n",
    "1. Why is the study of regional income inequality important? In what ways is the study of regional income inequality different from the study of personal income inequality?\n",
    "\n",
    "2. Given that the Theil and Gini statistics appear to have similar time paths, why would a researcher choose to use both measures when analyzing the dynamics of regional disparities? Why not just one one or the other?\n",
    "\n",
    "3. What aspects of a regional income distribution are not captured by a Theil or Gini coefficient? Why are these omissions important, and what approaches might be used to address these limitations?\n",
    "\n",
    "4. How might the measure of inter-regional income inequality be affected by the choice of the regionalization scheme (i.e., how the different spatial units are grouped to form regions)?\n",
    "\n",
    "5. What is the relationship between spatial income inequality and the spatial dependence of regional incomes?\n"
   ]
  }
 ],
 "metadata": {
  "jupytext": {
   "cell_metadata_json": true,
   "formats": "ipynb,md"
  },
  "kernelspec": {
   "display_name": "Python 3",
   "language": "python",
   "name": "python3"
  }
 },
 "nbformat": 4,
 "nbformat_minor": 5
}
