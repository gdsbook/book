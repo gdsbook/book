{
 "cells": [
  {
   "cell_type": "markdown",
   "metadata": {},
   "source": [
    "# Spatial feature engineering"
   ]
  },
  {
   "cell_type": "markdown",
   "metadata": {},
   "source": [
    "Ways to \"stick\" space into models that are not necessarily spatial."
   ]
  },
  {
   "cell_type": "markdown",
   "metadata": {},
   "source": [
    "**spatial feature engineering**: synthesizing information using spatial relationships either within the data or across data. \n",
    "\n",
    "This is one way of \"spatializing\" data that is included in models. This is not about fitting *spatial models* that use\n",
    "> the kohonen quote about spatially-correlated learning in SOMs\n",
    "\n",
    "it is about figuring out representations of geographical relationships and using them in typical non-spatial models. \n",
    "\n",
    "\n",
    "\n",
    "Geographying\n",
    "\n",
    "Spatializing\n",
    "\n",
    "*(note: fit the distinction between using spatialized data vs. using spatial models into the regression chapter, ch. 11)*. "
   ]
  },
  {
   "cell_type": "markdown",
   "metadata": {},
   "source": [
    "## Feature Engineering Using Map Matching\n",
    "*Using spatial relationships between two datasets to transfer information from one to another for a model.*\n",
    "\"Space is the ultimate linkage key.\" - DAB\n",
    "### start by doing counting features on distanceband weights\n",
    "### distance banding counts & distance-to a secondary feature\n",
    "### Point Interpolation using sklearn (streetscore averaging from nearest sites)\n",
    "### spatial join, but really don't focus too much on the structure/GIS theory of it\n",
    "### tobler? area to area interpolation\n",
    "### raster engineering to vector features"
   ]
  },
  {
   "cell_type": "markdown",
   "metadata": {},
   "source": [
    "## Feature Engineering using Map Synthesis\n",
    "*Using spatial relationships within a single dataset to synthesize new features for a model.*\n",
    "### generalize distanceband/buffer counting into a re-explanation of WX models under different weights\n",
    "### KNN-engineering, adding features by distances\n",
    "### distance-banding\n",
    "### eigenvectors feature engineering\n",
    "### preclustering points into groups for group-based regressions\n",
    "### use spatially-constrained clustering to build categorical variables for regression"
   ]
  },
  {
   "cell_type": "markdown",
   "metadata": {},
   "source": [
    "---\n",
    "\n",
    "<a rel=\"license\" href=\"http://creativecommons.org/licenses/by-nc-nd/4.0/\"><img alt=\"Creative Commons License\" style=\"border-width:0\" src=\"https://i.creativecommons.org/l/by-nc-nd/4.0/88x31.png\" /></a><br />This work is licensed under a <a rel=\"license\" href=\"http://creativecommons.org/licenses/by-nc-nd/4.0/\">Creative Commons Attribution-NonCommercial-NoDerivatives 4.0 International License</a>."
   ]
  },
  {
   "cell_type": "code",
   "execution_count": null,
   "metadata": {},
   "outputs": [],
   "source": []
  }
 ],
 "metadata": {
  "jupytext": {
   "formats": "ipynb,md"
  },
  "kernelspec": {
   "display_name": "Python 3",
   "language": "python",
   "name": "python3"
  },
  "language_info": {
   "codemirror_mode": {
    "name": "ipython",
    "version": 3
   },
   "file_extension": ".py",
   "mimetype": "text/x-python",
   "name": "python",
   "nbconvert_exporter": "python",
   "pygments_lexer": "ipython3",
   "version": "3.6.7"
  }
 },
 "nbformat": 4,
 "nbformat_minor": 4
}
