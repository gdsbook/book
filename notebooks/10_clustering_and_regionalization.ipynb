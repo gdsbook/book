{
 "cells": [
  {
   "cell_type": "code",
   "execution_count": null,
   "id": "placed-connecticut",
   "metadata": {
    "tags": [
     "remove-cell"
    ]
   },
   "outputs": [],
   "source": [
    "import warnings\n",
    "warnings.filterwarnings(\"ignore\")"
   ]
  },
  {
   "cell_type": "markdown",
   "id": "emotional-campus",
   "metadata": {},
   "source": [
    "# Clustering & Regionalization\n",
    "<!--\n",
    "**NOTE**: parts of this notebook have been\n",
    "borrowed from [GDS'17 - Lab\n",
    "6](http://darribas.org/gds17/content/labs/lab_06.html)\n",
    "-->"
   ]
  },
  {
   "cell_type": "code",
   "execution_count": null,
   "id": "talented-impact",
   "metadata": {},
   "outputs": [],
   "source": [
    "from esda.moran import Moran\n",
    "import libpysal.weights.set_operations as Wsets\n",
    "from libpysal.weights import Queen, KNN\n",
    "import seaborn \n",
    "import pandas\n",
    "import geopandas \n",
    "import numpy\n",
    "from sklearn.cluster import KMeans, AgglomerativeClustering\n",
    "import matplotlib.pyplot as plt"
   ]
  },
  {
   "cell_type": "markdown",
   "id": "aboriginal-silver",
   "metadata": {},
   "source": [
    "## Introduction\n",
    "\n",
    "The world's hardest questions are complex and multi-faceted.\n",
    "Effective methods to learn from data should recognize this. Many questions\n",
    "and challenges are inherently multidimensional; they are affected, shaped, and\n",
    "defined by many different components all acting simultaneously. In statistical\n",
    "terms, these processes are called *multivariate processes*, as opposed to \n",
    "*univariate processes*, where only a single variable acts at once.\n",
    "Clustering is a fundamental method of geographical analysis that draws insights\n",
    "from large, complex multivariate processes. It works by finding similarities among the\n",
    "many dimensions in a multivariate process, condensing them down into a simpler representation\n",
    "Thus, through clustering, a complex and difficult to understand process is recast into a simpler one\n",
    "that even non-technical audiences can look at and understand. \n",
    "\n",
    "Often, clustering involves sorting observations into groups. For these groups to be more\n",
    "meaningful than any single initial dimension, members of a group should be more\n",
    "similar to one another than they are to members of a different group.\n",
    "Each group is referred to as a *cluster* while the process of assigning\n",
    "objects to groups is known as *clustering*. If done well, these clusters can be\n",
    "characterized by their *profile*, a simple summary of what members of a group\n",
    "are like in terms of the original multivariate process.\n",
    "\n",
    "Since a good cluster is more\n",
    "similar internally than it is to any other cluster, these cluster-level profiles\n",
    "provide a convenient shorthand to describe the original complex multivariate process.\n",
    "Observations in one group may have consistently high \n",
    "scores on some traits but low scores on others. \n",
    "The analyst only needs to look at the profile of a cluster in order to get a\n",
    "good sense of what all the observations in that cluster are like, instead of\n",
    "having to consider all of the complexities of the original multivariate process at once. \n",
    "Throughout data science, and particularly in geographic data science, \n",
    "clustering is widely used to provide insights on the\n",
    "geographic structure of complex multivariate spatial data. \n",
    "\n",
    "In the context of explicitly spatial questions, a related concept, the *region*,\n",
    "is also instrumental. A *region* is similar to a *cluster*, in the sense that\n",
    "all members of a region have been grouped together, and the region should provide \n",
    "a shorthand for the original data. \n",
    "Further, for a region to be analytically useful, its members also should\n",
    "display stronger similarity to each other than they do to the members of other regions. \n",
    "However, regions are more complex than clusters because they combine this\n",
    "similarity in profile with additional information about the geography of their members.\n",
    "In short, regions are like clusters (since they have a coherent profile), but they\n",
    "also have a coherent geography&mdash;members of a region should also be\n",
    "located near one another.\n",
    "\n",
    "The process of creating regions is called regionalization.\n",
    "A regionalization is a special kind of clustering where the objective is \n",
    "to group observations which are similar in their statistical attributes,\n",
    "but also in their spatial location. In this sense, regionalization embeds the same\n",
    "logic as standard clustering techniques, but also applies a series of\n",
    "spatial and/or geographical constraints. Often, these\n",
    "constraints relate to connectivity: two candidates can only be grouped together in the\n",
    "same region if there exists a path from one member to another member\n",
    "that never leaves the region. These paths often model the spatial relationships\n",
    "in the data, such as contiguity or proximity. However, connectivity does not\n",
    "always need to hold for all regions, and in certain contexts it makes\n",
    "sense to relax connectivity or to impose different types of spatial constraints. \n",
    "\n",
    "In this chapter we consider clustering techniques and regionalization methods which will\n",
    "allow us to do exactly that. In the process, we will explore the characteristics\n",
    "of neighborhoods in San Diego.\n",
    "We will extract common patterns from the\n",
    "cloud of multidimensional data that the Census Bureau produces about small areas\n",
    "through the American Community Survey. We begin with an exploration of the\n",
    "multivariate data about San Diego by suggesting some ways to examine the \n",
    "statistical and spatial distribution of the data before carrying out any\n",
    " clustering. Focusing on the individual variables, as well as their pairwise\n",
    "associations, can help guide the subsequent application of clusterings or regionalizations. \n",
    "\n",
    "We then consider geodemographic approaches to clustering&mdash;the application\n",
    "of multivariate clustering to spatially referenced demographic data.\n",
    "Two popular clustering algorithms are employed: k-means and Ward's hierarchical method.\n",
    "Mapping the spatial distribution of the resulting clusters \n",
    "reveals interesting insights on the socioeconomic structure of the San Diego\n",
    "metropolitan area. We also see that in many cases, clusters are spatially \n",
    "fragmented. That is, a cluster may actually consist of different areas that are not\n",
    "spatially connected. Indeed, some clusters will have their members strewn all over the map. \n",
    "This will illustrate why connectivity might be important when building insight\n",
    "about spatial data, since these clusters will not at all provide intelligible regions. \n",
    "So, we then will move on to regionalization, exploring different approaches that\n",
    "incorporate geographical constraints into the exploration of the social structure of San Diego.\n",
    "\n",
    "## Data\n",
    "\n",
    "The dataset we will use in this chapter comes from the American Community Survey\n",
    "(ACS). In particular, we examine data at the Census Tract level in San Diego,\n",
    "California in 2017. Let us begin by reading in the data as a GeoDataFrame and\n",
    "exploring the attribute names."
   ]
  },
  {
   "cell_type": "code",
   "execution_count": null,
   "id": "governing-plaintiff",
   "metadata": {},
   "outputs": [],
   "source": [
    "# Read file\n",
    "db = geopandas.read_file('../data/sandiego/sandiego_tracts.gpkg')\n",
    "# Print column names\n",
    "db.columns"
   ]
  },
  {
   "cell_type": "markdown",
   "id": "subjective-israel",
   "metadata": {},
   "source": [
    "To make things easier later on, let us collect the variables we will use to\n",
    "characterize Census tracts. These variables capture different aspects of the socio-\n",
    "economic reality of each area and, taken together, they provide a comprehensive\n",
    "characterization of San Diego as a whole:"
   ]
  },
  {
   "cell_type": "code",
   "execution_count": null,
   "id": "prerequisite-statistics",
   "metadata": {},
   "outputs": [],
   "source": [
    "cluster_variables =  [\n",
    "    'median_house_value', # Median house value\n",
    "    'pct_white',          # Percent of tract population that is white\n",
    "    'pct_rented',         # Percent of households that are rented\n",
    "    'pct_hh_female',      # Percent of female-led households \n",
    "    'pct_bachelor',       # Percent of tract population with a Bachelors degree\n",
    "    'median_no_rooms',    # Median number of rooms in the tract's households\n",
    "    'income_gini',        # Gini index measuring tract wealth inequality\n",
    "    'median_age',         # Median age of tract population\n",
    "    'tt_work'             # Travel time to work \n",
    "]"
   ]
  },
  {
   "cell_type": "markdown",
   "id": "introductory-monster",
   "metadata": {},
   "source": [
    "### Exploring the data\n",
    "\n",
    "Now let's start building up our understanding of this\n",
    "dataset through both visual and summary statistical measures.\n",
    "\n",
    "We will start by\n",
    "looking at the spatial distribution of each variable alone.\n",
    "This will help us draw a picture of the multi-faceted view of the tracts we\n",
    "want to capture with our clustering. Let's use choropleth maps for the\n",
    "nine attributes and compare these choropleth maps side-by-side:"
   ]
  },
  {
   "cell_type": "code",
   "execution_count": null,
   "id": "medieval-communication",
   "metadata": {
    "caption": "The complex, multi-dimensional human geography of San Diego."
   },
   "outputs": [],
   "source": [
    "f, axs = plt.subplots(nrows=3, ncols=3, figsize=(12, 12))\n",
    "# Make the axes accessible with single indexing\n",
    "axs = axs.flatten()\n",
    "# Start a loop over all the variables of interest\n",
    "for i, col in enumerate(cluster_variables):\n",
    "    # select the axis where the map will go\n",
    "    ax = axs[i]\n",
    "    # Plot the map\n",
    "    db.plot(column=col, ax=ax, scheme='Quantiles', \n",
    "            linewidth=0, cmap='RdPu')\n",
    "    # Remove axis clutter\n",
    "    ax.set_axis_off()\n",
    "    # Set the axis title to the name of variable being plotted\n",
    "    ax.set_title(col)\n",
    "# Display the figure\n",
    "plt.show()"
   ]
  },
  {
   "cell_type": "markdown",
   "id": "stylish-scout",
   "metadata": {},
   "source": [
    "Many visual patterns jump out from the maps, revealing both commonalities as\n",
    "well as differences across the spatial distributions of the individual variables.\n",
    "Several variables tend to increase in value from the east to the west\n",
    "(`pct_rented`, `median_house_value`, `median_no_rooms`, and `tt_work`) while others\n",
    "have a spatial trend in the opposite direction (`pct_white`, `pct_hh_female`,\n",
    "`pct_bachelor`, `median_age`). This is actually desirable; when variables have\n",
    "different spatial distributions, each variable to contributes distinct \n",
    "information to the profiles of each cluster. However, if all variables display very similar \n",
    "spatial patterns, the amount of useful information across the maps is \n",
    "actually smaller than it appears, so cluster profiles may be much less useful as well.\n",
    "It is also important to consider whether the variables display any\n",
    "spatial autocorrelation, as this will affect the spatial structure of the\n",
    "resulting clusters. \n",
    "\n",
    "Recall from chapter XXX that Moran's I is a commonly used\n",
    "measure for global spatial autocorrelation. \n",
    "Let us get a quick sense to what\n",
    "extent this is present in our dataset.\n",
    "First, we need to build a spatial weights matrix that encodes the spatial\n",
    "relationships in our San Diego data. We will start with queen contiguity:"
   ]
  },
  {
   "cell_type": "code",
   "execution_count": null,
   "id": "colonial-blowing",
   "metadata": {},
   "outputs": [],
   "source": [
    "w = Queen.from_dataframe(db)"
   ]
  },
  {
   "cell_type": "markdown",
   "id": "several-stock",
   "metadata": {},
   "source": [
    "As we have seen before, `w` does not contain any islands:"
   ]
  },
  {
   "cell_type": "code",
   "execution_count": null,
   "id": "needed-occasions",
   "metadata": {},
   "outputs": [],
   "source": [
    "w.islands"
   ]
  },
  {
   "cell_type": "markdown",
   "id": "convertible-monroe",
   "metadata": {},
   "source": [
    "Now let's calculate Moran's I for the variables being used. This will measure\n",
    "the extent to which each variable contains spatial structure:"
   ]
  },
  {
   "cell_type": "code",
   "execution_count": null,
   "id": "unknown-testament",
   "metadata": {},
   "outputs": [],
   "source": [
    "# Set seed for reproducibility\n",
    "numpy.random.seed(123456)\n",
    "# Calculate Moran's I for each variable\n",
    "mi_results = [Moran(db[variable], w) for variable in cluster_variables]\n",
    "# Display on table\n",
    "table = pandas.DataFrame([(variable, res.I, res.p_sim) \\\n",
    "                          for variable,res \\\n",
    "                          in zip(cluster_variables, mi_results)\n",
    "                         ], columns=['Variable', \"Moran's I\", 'P-value']\n",
    "                        )\\\n",
    "              .set_index('Variable')\n",
    "table"
   ]
  },
  {
   "cell_type": "markdown",
   "id": "conceptual-agreement",
   "metadata": {},
   "source": [
    "Each of the variables displays significant positive spatial autocorrelation,\n",
    "suggesting that Tobler's law is alive and well in the socioeconomic geography of San\n",
    "Diego County. This means we also should expect the clusters we find will have\n",
    "a non random spatial distribution. In particular, we would expect clusters to have\n",
    "a modest amount of spatial coherence in addition to the coherence in their profiles,\n",
    "since there is strong positive autocorrelation in all of the input variables.\n",
    "\n",
    "Spatial autocorrelation only describes relationships between a single observation at a time.\n",
    "So, the fact that all of the clustering variables are positively autocorrelated does not tell us \n",
    "about the way the attributes co-vary over space. For that, we need to consider the\n",
    "spatial correlation between variables. Here, we will measure this using the\n",
    "bivariate correlation in the maps of covariates themselves.\n",
    "\n",
    "Given the 9 maps, there are 36 pairs of maps that must be compared. This is too \n",
    "many maps to process visually, so we can turn to an alternative tool to\n",
    "explicitly focus on the bivariate relations between each pair of attributes."
   ]
  },
  {
   "cell_type": "code",
   "execution_count": null,
   "id": "upper-highway",
   "metadata": {
    "caption": "A scatter matrix demonstrating the various pair-wise dependencies between each of the variables considered in this section. Each 'facet', or little scatterplot, shows the relationship between the vairable in that column (as its horizontal axis) and that row (as its vertical axis). Since the diagonal represents the situation where the row and column have the same variable, it instead shows the univariate distribution of that variable."
   },
   "outputs": [],
   "source": [
    "_ = seaborn.pairplot(db[cluster_variables], kind='reg', diag_kind='kde')"
   ]
  },
  {
   "cell_type": "markdown",
   "id": "aggregate-active",
   "metadata": {},
   "source": [
    "Two different types of plots are contained in the scatterplot matrix. On the\n",
    "diagonal are the density functions for the nine attributes. These allow for an\n",
    "inspection of the overall morphology of the attribute's value distribution.\n",
    "Examining these we see that our selection of variables includes those that are\n",
    "negatively skewed (`pct_white` and `pct_hh_female`) as well as positively skewed\n",
    "(`median_house_value`, `pct_bachelor`, and `tt_work`).\n",
    "\n",
    "The second type of visualization lies in the off-diagonal cells of the matrix; \n",
    "these are bi-variate scatterplots. Each cell shows the association between one\n",
    "pair of variables. Several of these cells indicate positive linear\n",
    "associations (`median_age` Vs. `median_house_value`, `median_house_value` Vs. `median_no_rooms`)\n",
    "while other cells display negative correlation (`median_house_value` Vs. `pct_rented`,\n",
    "`median_no_rooms` Vs. `pct_rented`, and `median_age` Vs. `pct_rented`). The one variable\n",
    "that tends to have consistently weak association with the other variables is\n",
    "`tt_work`, and in part this appears to reflect its rather concentrated \n",
    "distribution as seen on the lower right diagonal corner cell.\n",
    "\n",
    "## Geodemographic Clusters in San Diego Census Tracts\n",
    "\n",
    "We now will move\n",
    "beyond the implicitly bi-variate focus to consider the full multidimensional\n",
    "nature of this data set. Geodemographic analysis is a form of multivariate\n",
    "clustering where the observations represent geographical areas. The output\n",
    "of these clusterings is nearly always mapped. Altogether, these methods use\n",
    "multivariate clustering algorithms to construct a known number of\n",
    "clusters ($k$), where the number of clusters is typically much smaller than the \n",
    "number of observations to be clustered. Each cluster is given a unique label,\n",
    "and these labels are mapped. Using the clusters' profile and label, the map of \n",
    "labels can be interpreted to get a sense of the spatial distribution of \n",
    "socio-demographic traits. The power of (geodemographic) clustering comes\n",
    "from taking statistical variation across several dimensions and compressing it\n",
    "into a single categorical one that we can visualize through a map. To\n",
    "demonstrate the variety of approaches in clustering, we will show two\n",
    "distinct but very popular clustering algorithms: k-means and Ward's hierarchical method.\n",
    "\n",
    "### K-means\n",
    "\n",
    "K-means is probably the most widely used approach to\n",
    "cluster a dataset. The algorithm groups observations into a\n",
    "pre-specified number of clusters so that that each observation is\n",
    "closer to the mean of its own cluster than it is to the mean of any other cluster.\n",
    "The k-means problem is solved by iterating between an assignment step and an update step. \n",
    "First, all observations are randomly assigned one of the $k$ labels. Next, the \n",
    "multivariate mean over all covariates is calculated for each of the clusters.\n",
    "Then, each observation is reassigned to the cluster with the closest mean. \n",
    "If the observation is already assigned to the cluster whose mean it is closest to,\n",
    "the observation remains in that cluster. This assignment-update process continues\n",
    "until no further reassignments are necessary.\n",
    "\n",
    "The nature of this algorithm requires us to select the number of clusters we \n",
    "want to create. The right number of clusters is unknown in practice. For\n",
    "illustration, we will use $k=5$ in the `KMeans` implementation from\n",
    "`scikit-learn`. To proceed, we first create a `KMeans` clusterer:"
   ]
  },
  {
   "cell_type": "code",
   "execution_count": null,
   "id": "universal-dance",
   "metadata": {},
   "outputs": [],
   "source": [
    "# Initialise KMeans instance\n",
    "kmeans = KMeans(n_clusters=5)"
   ]
  },
  {
   "cell_type": "markdown",
   "id": "hourly-string",
   "metadata": {},
   "source": [
    "Next, we call the `fit` method to actually apply the k-means algorithm to our data:"
   ]
  },
  {
   "cell_type": "code",
   "execution_count": null,
   "id": "hispanic-hours",
   "metadata": {},
   "outputs": [],
   "source": [
    "# Set the seed for reproducibility\n",
    "numpy.random.seed(1234)\n",
    "# Run K-Means algorithm\n",
    "k5cls = kmeans.fit(db[cluster_variables])"
   ]
  },
  {
   "cell_type": "markdown",
   "id": "silent-auditor",
   "metadata": {},
   "source": [
    "Now that the clusters have been assigned, we can examine the label vector, which \n",
    "records the cluster to which each observation is assigned:"
   ]
  },
  {
   "cell_type": "code",
   "execution_count": null,
   "id": "reflected-beauty",
   "metadata": {},
   "outputs": [],
   "source": [
    "k5cls.labels_"
   ]
  },
  {
   "cell_type": "markdown",
   "id": "rapid-calculator",
   "metadata": {},
   "source": [
    "In this case, the second and third observations are assigned to cluster 4, while\n",
    "the fourth and fifth observations have been placed in cluster 0. It is important\n",
    "to note that the integer labels should be viewed as denoting membership only &mdash;\n",
    "the numerical differences between the values for the labels are meaningless.\n",
    "The profiles of the various clusters must be further explored by looking\n",
    "at the values of each dimension. \n",
    "\n",
    "But, before we do that, let's make a map.\n",
    "\n",
    "### Spatial Distribution of Clusters\n",
    "\n",
    "Having obtained the cluster labels, we can display the spatial\n",
    "distribution of the clusters by using the labels as the categories in a\n",
    "choropleth map. This allows us to quickly grasp any sort of spatial pattern the \n",
    "clusters might have. Since clusters represent areas with similar\n",
    "characteristics, mapping their labels allows to see to what extent similar areas tend\n",
    "to have similar locations.\n",
    "Thus, this gives us one map that incorporates the information of from all nine covariates."
   ]
  },
  {
   "cell_type": "code",
   "execution_count": null,
   "id": "permanent-version",
   "metadata": {
    "caption": "Clusters in the sociodemographic data, found using K-means with k=5. Note that the large eastern part of San Diego actually contains few observations, since those tracts are larger."
   },
   "outputs": [],
   "source": [
    "# Assign labels into a column\n",
    "db['k5cls'] = k5cls.labels_\n",
    "# Setup figure and ax\n",
    "f, ax = plt.subplots(1, figsize=(9, 9))\n",
    "# Plot unique values choropleth including a legend and with no boundary lines\n",
    "db.plot(column='k5cls', categorical=True, legend=True, linewidth=0, ax=ax)\n",
    "# Remove axis\n",
    "ax.set_axis_off()\n",
    "# Keep axes proportionate\n",
    "plt.axis('equal')\n",
    "# Add title\n",
    "plt.title(r'Geodemographic Clusters (k-means, $k=5$)')\n",
    "# Display the map\n",
    "plt.show()"
   ]
  },
  {
   "cell_type": "markdown",
   "id": "rental-vault",
   "metadata": {},
   "source": [
    "The map provides a useful view of the clustering results; it allows for\n",
    "a visual inspection of the extent to which Tobler's first law of geography is\n",
    "reflected in the multivariate clusters. Recall that the law implies that nearby\n",
    "tracts should be more similar to one another than tracts that are geographically\n",
    "more distant from each other. We can see evidence of this in\n",
    "our cluster map, since clumps of tracts with the same color emerge. However, this\n",
    "visual inspection is obscured by the complexity of the underlying spatial\n",
    "units. Our eyes are drawn to the larger polygons in the eastern part of the\n",
    "county, giving the impression that cluster 1 is the dominant cluster. While this\n",
    "seems to be true in terms of land area (and we will verify this below), there is\n",
    "more to the cluster pattern than this. Because the tract polygons are all \n",
    "different sizes and shapes, we cannot solely rely on our eyes to interpret \n",
    "the spatial distribution of clusters.\n",
    "\n",
    "### Statistical Analysis of the Cluster Map\n",
    "\n",
    "To complement the geovisualization of the clusters, we can explore the\n",
    "statistical properties of the cluster map. This process allows us to delve\n",
    "into what observations are part of each cluster and what their\n",
    "characteristics are.\n",
    "This gives us the profile of each cluster so we can interpret the meaning of the\n",
    "labels we've obtained. We can start, for example, by\n",
    "considering cardinality, or the count of observations in each cluster:"
   ]
  },
  {
   "cell_type": "code",
   "execution_count": null,
   "id": "confirmed-tribute",
   "metadata": {},
   "outputs": [],
   "source": [
    "# Group data table by cluster label and count observations\n",
    "k5sizes = db.groupby('k5cls').size()\n",
    "k5sizes"
   ]
  },
  {
   "cell_type": "markdown",
   "id": "breeding-finder",
   "metadata": {},
   "source": [
    "And we can get a visual representation of cardinality as well:"
   ]
  },
  {
   "cell_type": "code",
   "execution_count": null,
   "id": "virgin-evidence",
   "metadata": {
    "caption": "The number of observations in each cluster type."
   },
   "outputs": [],
   "source": [
    "_ = k5sizes.plot.bar()"
   ]
  },
  {
   "cell_type": "markdown",
   "id": "internal-finger",
   "metadata": {},
   "source": [
    "There are substantial differences in the sizes of the five clusters, with two very\n",
    "large clusters (0, 3), one medium sized cluster (2), and two small clusters (1,\n",
    "4). Cluster 3 is the largest when measured by the number of assigned tracts.\n",
    "This confirms our intuition from the map above, where we got the visual impression\n",
    "that tracts in cluster 3 seemed to have the largest area. Let's see if this is \n",
    "the case. To do so we can use the `dissolve` operation in `geopandas`, which \n",
    "combines all tracts belonging to each cluster into a single\n",
    "polygon object. After we have dissolved all the members of the clusters,\n",
    "we report the total land area of the cluster:"
   ]
  },
  {
   "cell_type": "code",
   "execution_count": null,
   "id": "convenient-trace",
   "metadata": {},
   "outputs": [],
   "source": [
    "# Dissolve areas by Cluster, aggregate by summing, and keep column for area\n",
    "areas = db.dissolve(by='k5cls', aggfunc='sum')['area_sqm']\n",
    "areas"
   ]
  },
  {
   "cell_type": "markdown",
   "id": "focal-general",
   "metadata": {},
   "source": [
    "And, to show this visually:"
   ]
  },
  {
   "cell_type": "code",
   "execution_count": null,
   "id": "pediatric-exhibition",
   "metadata": {
    "caption": "The area of each of the clusters."
   },
   "outputs": [],
   "source": [
    "areas.plot.bar()"
   ]
  },
  {
   "cell_type": "markdown",
   "id": "curious-chester",
   "metadata": {},
   "source": [
    "Our visual impression is confirmed: cluster 3 contains tracts that\n",
    "together comprise 6,636 square kilometers (approximately 2562 square miles),\n",
    "which accounts for over half of the total land area in the county:"
   ]
  },
  {
   "cell_type": "code",
   "execution_count": null,
   "id": "synthetic-humor",
   "metadata": {},
   "outputs": [],
   "source": [
    "areas[3]/areas.sum()"
   ]
  },
  {
   "cell_type": "markdown",
   "id": "fewer-function",
   "metadata": {},
   "source": [
    "Let's move on to build the profiles for each cluster. Again, the profiles is what\n",
    "provides the conceptual shorthand, moving from the arbitrary label to a meaningful\n",
    "collection of observations with similar attributes. To build a basic profile, we can\n",
    "compute the means of each of the attributes in every cluster:"
   ]
  },
  {
   "cell_type": "code",
   "execution_count": null,
   "id": "varying-telescope",
   "metadata": {},
   "outputs": [],
   "source": [
    "# Group table by cluster label, keep the variables used \n",
    "# for clustering, and obtain their mean\n",
    "k5means = db.groupby('k5cls')[cluster_variables].mean()\n",
    "k5means.T.round(3)"
   ]
  },
  {
   "cell_type": "markdown",
   "id": "brazilian-swaziland",
   "metadata": {},
   "source": [
    "We see that cluster 4, for example, is composed of tracts that have\n",
    "the highest average `median_house_value`, and also the highest level of inequality\n",
    "(`income_gini`); and cluster 4 contains an older population (`median_age`)\n",
    "who tend to live in housing units with more rooms (`median_no_rooms`).\n",
    "Average values, however, can hide a great deal of detail and, in some cases,\n",
    "give wrong impressions about the type of data distribution they represent. To\n",
    "obtain more detailed profiles, we can use the `describe` command in `pandas`, \n",
    "after grouping our observations by their clusters:"
   ]
  },
  {
   "cell_type": "code",
   "execution_count": null,
   "id": "monthly-connecticut",
   "metadata": {},
   "outputs": [],
   "source": [
    "# Group table by cluster label, keep the variables used \n",
    "# for clustering, and obtain their descriptive summary\n",
    "k5desc = db.groupby('k5cls')[cluster_variables].describe()\n",
    "# Loop over each cluster and print a table with descriptives\n",
    "for cluster in k5desc.T:\n",
    "    print('\\n\\t---------\\n\\tCluster %i'%cluster)\n",
    "    print(k5desc.T[cluster].unstack())"
   ]
  },
  {
   "cell_type": "markdown",
   "id": "excited-vacation",
   "metadata": {},
   "source": [
    "However, this approach quickly gets out of hand: more detailed profiles can simply\n",
    "return to an unwieldy mess of numbers. A better approach to constructing\n",
    "cluster profiles is be to draw the distributions of cluster members' data.\n",
    "To do this we need to \"tidy up\" the dataset. A tidy dataset ([Wickham,\n",
    "2014](https://www.jstatsoft.org/article/view/v059i10)) is one where every row is\n",
    "an observation, and every column is a variable. Thus, a few steps are required \n",
    "to tidy up our labeled data:"
   ]
  },
  {
   "cell_type": "code",
   "execution_count": null,
   "id": "nasty-perfume",
   "metadata": {},
   "outputs": [],
   "source": [
    "# Index db on cluster ID\n",
    "tidy_db = db.set_index('k5cls')\n",
    "# Keep only variables used for clustering\n",
    "tidy_db = tidy_db[cluster_variables]\n",
    "# Stack column names into a column, obtaining \n",
    "# a \"long\" version of the dataset\n",
    "tidy_db = tidy_db.stack()\n",
    "# Take indices into proper columns\n",
    "tidy_db = tidy_db.reset_index()\n",
    "# Rename column names\n",
    "tidy_db = tidy_db.rename(columns={\n",
    "                        'level_1': 'Attribute', \n",
    "                        0: 'Values'})\n",
    "# Check out result\n",
    "tidy_db.head()"
   ]
  },
  {
   "cell_type": "markdown",
   "id": "valuable-engineering",
   "metadata": {},
   "source": [
    "Now we are ready to plot. Below, we'll show the distribution of each cluster's values\n",
    "for each variable. This gives us the full distributional profile of each cluster:"
   ]
  },
  {
   "cell_type": "code",
   "execution_count": null,
   "id": "least-island",
   "metadata": {
    "caption": "Distributions of each variable for the different cluters."
   },
   "outputs": [],
   "source": [
    "# Setup the facets\n",
    "facets = seaborn.FacetGrid(data=tidy_db, col='Attribute', hue='k5cls', \\\n",
    "                  sharey=False, sharex=False, aspect=2, col_wrap=3)\n",
    "# Build the plot from `sns.kdeplot`\n",
    "_ = facets.map(seaborn.kdeplot, 'Values', shade=True).add_legend()"
   ]
  },
  {
   "cell_type": "markdown",
   "id": "every-federation",
   "metadata": {},
   "source": [
    "This allows us to see that, while some attributes such as the percentage of\n",
    "female households (`pct_hh_female`) display largely the same distribution for\n",
    "each cluster, others paint a much more divided picture (e.g. `median_house_value`).\n",
    "Taken altogether, these graphs allow us to start delving into the multidimensional \n",
    "complexity of each cluster and the types of areas behind them.\n",
    "\n",
    "## Hierarchical Clustering\n",
    "\n",
    "As mentioned above, k-means is only one clustering algorithm. There are\n",
    "plenty more. In this section, we will take a similar look at the San Diego\n",
    "dataset using another staple of the clustering toolkit: agglomerative\n",
    "hierarchical clustering (AHC). Agglomerative clustering works by building a hierarchy of\n",
    "clustering solutions that starts with all singletons (each observation is a single\n",
    "cluster in itself) and ends with all observations assigned to the same cluster.\n",
    "These extremes are not very useful in themselves. But, in between, the hierarchy\n",
    "contains many distinct clustering solutions with varying levels of detail. \n",
    "The intuition behind the algorithm is also rather straightforward: \n",
    "\n",
    "1) begin with everyone as part of its own cluster; \n",
    "2) find the two closest observations based on a distance metric (e.g. euclidean); \n",
    "3) join them into a new cluster; \n",
    "4) repeat steps 2) and 3) until reaching the degree of aggregation desired. \n",
    "\n",
    "The algorithm is thus called \"agglomerative\"\n",
    "because it starts with individual clusters and \"agglomerates\" them into fewer\n",
    "and fewer clusters containing more and more observations each. Also, like with \n",
    "k-means, AHC does require the user to specify a number of clusters in advance.\n",
    "This is because, following from the mechanism the method has to build clusters, \n",
    "AHC can provide a solution with as many clusters as observations ($k=n$),\n",
    "or with a only one ($k=1$).\n",
    "\n",
    "Enough of theory, let's get coding! In Python, AHC can be run\n",
    "with `scikit-learn` in very much the same way we did for k-means in the previous\n",
    "section. In this case, we use the `AgglomerativeClustering` class and again \n",
    "use the `fit` method to actually apply the clustering algorithm to our data:"
   ]
  },
  {
   "cell_type": "code",
   "execution_count": null,
   "id": "broad-neighbor",
   "metadata": {},
   "outputs": [],
   "source": [
    "# Set seed for reproducibility\n",
    "numpy.random.seed(0)\n",
    "# Iniciate the algorithm\n",
    "model = AgglomerativeClustering(linkage='ward', n_clusters=5)\n",
    "# Run clustering\n",
    "model.fit(db[cluster_variables])\n",
    "# Assign labels to main data table\n",
    "db['ward5'] =model.labels_"
   ]
  },
  {
   "cell_type": "markdown",
   "id": "expired-edition",
   "metadata": {},
   "source": [
    "As above, we can check the number of observations that fall within each cluster:"
   ]
  },
  {
   "cell_type": "code",
   "execution_count": null,
   "id": "loose-christmas",
   "metadata": {},
   "outputs": [],
   "source": [
    "ward5sizes = db.groupby('ward5').size()\n",
    "ward5sizes"
   ]
  },
  {
   "cell_type": "markdown",
   "id": "incomplete-murder",
   "metadata": {},
   "source": [
    "Further, we can check the simple average profiles of our clusters:"
   ]
  },
  {
   "cell_type": "code",
   "execution_count": null,
   "id": "comparative-proposition",
   "metadata": {},
   "outputs": [],
   "source": [
    "ward5means = db.groupby('ward5')[cluster_variables].mean()\n",
    "ward5means.T.round(3)"
   ]
  },
  {
   "cell_type": "markdown",
   "id": "downtown-produce",
   "metadata": {},
   "source": [
    "And again, we can create a plot of the profiles' distributions (after properly \n",
    "tidying up):"
   ]
  },
  {
   "cell_type": "code",
   "execution_count": null,
   "id": "empirical-geometry",
   "metadata": {},
   "outputs": [],
   "source": [
    "# Index db on cluster ID\n",
    "tidy_db = db.set_index('ward5')\n",
    "# Keep only variables used for clustering\n",
    "tidy_db = tidy_db[cluster_variables]\n",
    "# Stack column names into a column, obtaining \n",
    "# a \"long\" version of the dataset\n",
    "tidy_db = tidy_db.stack()\n",
    "# Take indices into proper columns\n",
    "tidy_db = tidy_db.reset_index()\n",
    "# Rename column names\n",
    "tidy_db = tidy_db.rename(columns={\n",
    "                        'level_1': 'Attribute', \n",
    "                        0: 'Values'})\n",
    "# Check out result\n",
    "tidy_db.head()"
   ]
  },
  {
   "cell_type": "code",
   "execution_count": null,
   "id": "consolidated-equivalent",
   "metadata": {
    "caption": "Distributions of each variable in clusters obtained from Ward's hierarchical clutering."
   },
   "outputs": [],
   "source": [
    "# Setup the facets\n",
    "facets = seaborn.FacetGrid(data=tidy_db, col='Attribute', hue='ward5', \\\n",
    "                  sharey=False, sharex=False, aspect=2, col_wrap=3)\n",
    "# Build the plot as a `sns.kdeplot`\n",
    "_ = facets.map(seaborn.kdeplot, 'Values', shade=True).add_legend()"
   ]
  },
  {
   "cell_type": "markdown",
   "id": "featured-anchor",
   "metadata": {},
   "source": [
    "For the sake of brevity, we will not spend much time on the plots above.\n",
    "However, the interpretation is analogous to that of the k-means example.\n",
    "\n",
    "On the spatial side, we can explore the geographical dimension of the\n",
    "clustering solution by making a map the clusters:"
   ]
  },
  {
   "cell_type": "code",
   "execution_count": null,
   "id": "advance-dragon",
   "metadata": {
    "caption": "Map of socio-demographic clusters among San Diego tracts using Ward hierarchical clustering."
   },
   "outputs": [],
   "source": [
    "db['ward5'] =model.labels_\n",
    "# Setup figure and ax\n",
    "f, ax = plt.subplots(1, figsize=(9, 9))\n",
    "# Plot unique values choropleth including a legend and with no boundary lines\n",
    "db.plot(column='ward5', categorical=True, legend=True, linewidth=0, ax=ax)\n",
    "# Remove axis\n",
    "ax.set_axis_off()\n",
    "# Keep axes proportionate\n",
    "plt.axis('equal')\n",
    "# Add title\n",
    "plt.title('Geodemographic Clusters (AHC, $k=5$)')\n",
    "# Display the map\n",
    "plt.show()"
   ]
  },
  {
   "cell_type": "markdown",
   "id": "public-withdrawal",
   "metadata": {},
   "source": [
    "And, to make comparisons simpler, we can display both the k-means and the AHC\n",
    "results side by side:"
   ]
  },
  {
   "cell_type": "code",
   "execution_count": null,
   "id": "imported-pocket",
   "metadata": {
    "caption": "Two clutering solutions, one for the K-means solution, and the other for Ward's hierarchical clutering. Note that colorings cannot be directly compared between the two maps."
   },
   "outputs": [],
   "source": [
    "db['ward5'] =model.labels_\n",
    "# Setup figure and ax\n",
    "f, axs = plt.subplots(1, 2, figsize=(12, 6))\n",
    "\n",
    "ax = axs[0]\n",
    "# Plot unique values choropleth including a legend and with no boundary lines\n",
    "db.plot(column='ward5', categorical=True, cmap='Set2', \n",
    "        legend=True, linewidth=0, ax=ax)\n",
    "# Remove axis\n",
    "ax.set_axis_off()\n",
    "# Keep axes proportionate\n",
    "ax.axis('equal')\n",
    "# Add title\n",
    "ax.set_title('K-Means solution ($k=5$)')\n",
    "\n",
    "ax = axs[1]\n",
    "# Plot unique values choropleth including a legend and with no boundary lines\n",
    "db.plot(column='k5cls', categorical=True, cmap='Set3',\n",
    "        legend=True, linewidth=0, ax=ax)\n",
    "# Remove axis\n",
    "ax.set_axis_off()\n",
    "# Keep axes proportionate\n",
    "ax.axis('equal')\n",
    "# Add title\n",
    "ax.set_title('AHC solution ($k=5$)')\n",
    "\n",
    "# Display the map\n",
    "plt.show()"
   ]
  },
  {
   "cell_type": "markdown",
   "id": "valid-rider",
   "metadata": {},
   "source": [
    "While we must remember our earlier caveat about how irregular polygons can \n",
    "baffle our visual intuition, a closer visual inspection of the cluster geography\n",
    "suggests a clear pattern: although they are not identical, both clusterings capture\n",
    "very similar overall spatial structure. Furthermore, both solutions slightly violate \n",
    "Tobler's law, since all of the clusters have disconnected components. The five\n",
    "multivariate clusters in each case are actually composed of many disparate \n",
    "geographical areas, strewn around the map according only to the structure of the\n",
    "data and not its geography. That is, in order to travel to\n",
    "every tract belonging to a cluster, we would have to journey through\n",
    "other clusters as well.\n",
    "\n",
    "## Spatially Constrained Hierarchical Clustering\n",
    "\n",
    "Fragmented clusters are not intrinsically invalid, particularly if we are\n",
    "interested in exploring the overall structure and geography of multivariate\n",
    "data. However, in some cases, the application we are interested in might\n",
    "require that all the observations in a class be spatially connected. For\n",
    "example, when detecting communities or neighborhoods (as is sometimes needed when\n",
    "drawing electoral or census boundaries), they are nearly always distinct \n",
    "self-connected areas, unlike our clusters shown above. To ensure that clusters are\n",
    "not spatially fragmented, we turn to regionalization.\n",
    "\n",
    "Regionalization methods are clustering techniques that impose a spatial constraints\n",
    "on clusters. In other words, the result of a regionalization algorithm contains clusters with\n",
    "areas that are geographically coherent, in addition to having coherent data profiles. \n",
    "Effectively, this means that regionalization methods construct clusters that are \n",
    "all internally-connected; these are the *regions*. Thus, a regions' members must\n",
    "be geographically *nested* within the region's boundaries.\n",
    "\n",
    "This type of nesting relationship is easy to identify\n",
    "in the real world. For example, counties nest within states, or, in the UK, \n",
    "local super output areas (LSOAs) nest within middle super output areas (MSOAs). \n",
    "The difference between these real-world nestings and the output of a regionalization\n",
    "algorithm is that the real-world nestings are aggregated according to administrative principles, but regions' members are aggregated according to a statistical technique. In the same manner as the\n",
    "clustering techniques explored above, these regionalization methods aggregate \n",
    "observations that are similar in their covariates; the profiles of regions are useful\n",
    "in a similar manner as the profiles of clusters. But, in regionalization, the \n",
    "clustering is also spatially constrained, so the region profiles and members will\n",
    "likely be different from the unconstrained solutions.\n",
    "\n",
    "As in the non-spatial case, there are many different regionalization methods.\n",
    "Each has a different way to measure (dis)similarity, how the similarity is used\n",
    "to assign labels, how these labels are iteratively adjusted, and so on. However,\n",
    "as with clustering algorithms, regionalization methods all share a few common traits.\n",
    "In particular, they all take a set of input attributes and a representation of \n",
    "spatial connectivity in the form of a binary spatial weights matrix. Depending \n",
    "on the algorithm, they also require the desired number of output regions. For\n",
    "illustration, we will take the AHC algorithm we have just used above, and apply \n",
    "an additional spatial constraint. In `scikit-learn`, this is done using\n",
    "our spatial weights matrix as a `connectivity` option.\n",
    "This will force the agglomerative algorithm to only allow observations to be grouped\n",
    "in a cluster if they are also spatially connected:"
   ]
  },
  {
   "cell_type": "code",
   "execution_count": null,
   "id": "european-montreal",
   "metadata": {},
   "outputs": [],
   "source": [
    "numpy.random.seed(123456)\n",
    "model = AgglomerativeClustering(linkage='ward',\n",
    "                                            connectivity=w.sparse,\n",
    "                                            n_clusters=5)\n",
    "model.fit(db[cluster_variables])"
   ]
  },
  {
   "cell_type": "markdown",
   "id": "pleased-keeping",
   "metadata": {},
   "source": [
    "Let's inspect the output:"
   ]
  },
  {
   "cell_type": "code",
   "execution_count": null,
   "id": "differential-prime",
   "metadata": {
    "caption": "Spatially-constrained clusters, or 'regions', of San Diego using Ward's hierarchical clustering."
   },
   "outputs": [],
   "source": [
    "db['ward5wq'] = model.labels_\n",
    "# Setup figure and ax\n",
    "f, ax = plt.subplots(1, figsize=(9, 9))\n",
    "# Plot unique values choropleth including a legend and with no boundary lines\n",
    "db.plot(column='ward5wq', categorical=True, legend=True, linewidth=0, ax=ax)\n",
    "# Remove axis\n",
    "ax.set_axis_off()\n",
    "# Keep axes proportionate\n",
    "plt.axis('equal')\n",
    "# Add title\n",
    "plt.title(r'Geodemographic Regions (Ward, $k=5$, Queen Contiguity)')\n",
    "# Display the map\n",
    "plt.show()\n"
   ]
  },
  {
   "cell_type": "markdown",
   "id": "naval-static",
   "metadata": {},
   "source": [
    "Introducing the spatial constraint results in fully-connected clusters with much\n",
    "more concentrated spatial distributions. From an initial visual impression, it might\n",
    "appear that our spatial constraint has been violated: there are tracts for both cluster 0 and\n",
    "cluster 1 that appear to be disconnected from the rest of their clusters.\n",
    "However, closer inspection reveals that each of these tracts is indeed connected\n",
    "to another tract in its own cluster by very narrow shared boundaries.\n",
    "\n",
    "### Changing the spatial constraint\n",
    "\n",
    "The spatial constraint in regionalization algorithms is structured by the\n",
    "spatial weights matrix we use. An interesting\n",
    "question is thus how the choice of weights influences the final region structure.\n",
    "Fortunately, we can directly explore the impact that a change in the spatial weights matrix has on\n",
    "regionalization. To do so, we use the same attribute data\n",
    "but replace the Queen contiguity matrix with a spatial k-nearest neighbor matrix,\n",
    "where each observation is connected to its four nearest observations, instead\n",
    "of those it touches."
   ]
  },
  {
   "cell_type": "code",
   "execution_count": null,
   "id": "formal-assumption",
   "metadata": {},
   "outputs": [],
   "source": [
    "w = KNN.from_dataframe(db, k=4)"
   ]
  },
  {
   "cell_type": "markdown",
   "id": "integral-dodge",
   "metadata": {},
   "source": [
    "With this matrix connecting each tract to the four closest tracts, we can run \n",
    "another AHC regionalization:"
   ]
  },
  {
   "cell_type": "code",
   "execution_count": null,
   "id": "funny-street",
   "metadata": {},
   "outputs": [],
   "source": [
    "numpy.random.seed(123456)\n",
    "model = AgglomerativeClustering(linkage='ward',\n",
    "                                            connectivity=w.sparse,\n",
    "                                            n_clusters=5)\n",
    "model.fit(db[cluster_variables])"
   ]
  },
  {
   "cell_type": "markdown",
   "id": "returning-syria",
   "metadata": {},
   "source": [
    "And plot the final regions:"
   ]
  },
  {
   "cell_type": "code",
   "execution_count": null,
   "id": "nasty-admission",
   "metadata": {
    "caption": "Regions from a spatially-constrained sociodemographic clutering, using a different connectivity constraint."
   },
   "outputs": [],
   "source": [
    "db['ward5wknn'] = model.labels_\n",
    "# Setup figure and ax\n",
    "f, ax = plt.subplots(1, figsize=(9, 9))\n",
    "# Plot unique values choropleth including a legend and with no boundary lines\n",
    "db.plot(column='ward5wknn', categorical=True, legend=True, linewidth=0, ax=ax)\n",
    "# Remove axis\n",
    "ax.set_axis_off()\n",
    "# Keep axes proportionate\n",
    "plt.axis('equal')\n",
    "# Add title\n",
    "plt.title('Geodemographic Regions (Ward, $k=5$, four nearest neighbors)')\n",
    "# Display the map\n",
    "plt.show()"
   ]
  },
  {
   "cell_type": "markdown",
   "id": "occupied-treasure",
   "metadata": {},
   "source": [
    "Even though we have specified a spatial constraint, the constraint applies to the\n",
    "connectivity graph modeled by our weights matrix. Therefore, using k-nearest neighbors\n",
    "to constrain the agglomerative clustering may not result in regions that are connected\n",
    "according to a different connectivity rule, such as the queen contiguity rule used\n",
    "in the previous section. However, the regionalization here is fortuitous; even though\n",
    "we used the 4-nearest tracts to constrain connectivity, all but one of the clusters, \n",
    "cluster 4, is *also* connected according to our earlier queen contiguity rule. \n",
    "\n",
    "At first glance, this may seem counter-intuitive. We did specify the spatial\n",
    "constraint, so our initial reaction is that the connectivity constraint is\n",
    "violated. However, this is not the case, since the constraint applies to the\n",
    "k-nearest neighbor graph, not the queen contiguity graph. Therefore, since tracts\n",
    "in this solution are considered as connected to their four closest neighbors,\n",
    "clusters can \"leapfrog\" over one another. Thus, it is important to recognize that\n",
    "the apparent spatial structure of regionalizations will depend on how the \n",
    "connectivity of observations is modeled. \n",
    "\n",
    "## Conclusion\n",
    "\n",
    "Overall, clustering and regionalization are two complementary tools to reduce the\n",
    "complexity in multivariate data and build better understandings of the spatial structure \n",
    "of data. Often, there is simply too much data to examine every variables' map and its\n",
    "relation to all other variable maps. \n",
    "Thus, clustering reduces this complexity into a single conceptual shorthand by which \n",
    "people can easily describe complex and multifaceted data. \n",
    "Clustering constructs groups of observations (called *clusters*)\n",
    "with coherent *profiles*, or distinct and internally-consistent \n",
    "distributional/descriptive characteristics. \n",
    "These profiles are the conceptual shorthand, since members of each cluster should\n",
    "be more similar to the cluster at large than they are to any other cluster. \n",
    "Many different clustering methods exist; they differ on how the \"cluster at large\" \n",
    "is defined, and how \"similar\" members must be to clusters, or how these clusters\n",
    "are obtained.\n",
    "Regionalization is a special kind of clustering with an additional geographic requirement. \n",
    "Observations should be grouped so that each spatial cluster,\n",
    "or *region*, is spatially-coherent as well as data-coherent. \n",
    "Thus, regionalization is often concerned with connectivity in a contiguity \n",
    "graph for data collected in areas; this ensures that the regions that are identified\n",
    "are fully internally-connected. \n",
    "However, since many regionalization methods are defined for an arbitrary connectivity structure,\n",
    "these graphs can be constructed according to different rules as well, such as the k-nearest neighbor graph. \n",
    "\n",
    "In this chapter, we discussed the conceptual basis for clustering and regionalization, \n",
    "as well showing why clustering is done. \n",
    "Further, we have shown how to build clusters using spatial data science packages, \n",
    "and how to interrogate the meaning of these clusters as well.\n",
    "More generally, clusters are often used in predictive and explanatory settings, \n",
    "in addition to being used for exploratory analysis in their own right.\n",
    "Clustering and regionalization are intimately related to the analysis of spatial autocorrelation as well,\n",
    "since the spatial structure and covariation in multivariate spatial data is what\n",
    "determines the spatial structure and data profile of discovered clusters or regions.\n",
    "Thus, clustering and regionalization are essential tools for the spatial data scientist.\n",
    "\n",
    "## Questions\n",
    "\n",
    "1. What disciplines employ regionalization? Cite concrete examples for each discipline you list.\n",
    "2. Contrast and compare  the concepts of *clusters* and *regions*?\n",
    "3. In evaluating the quality of the solution to a regionalization problem, how might traditional measures of cluster evaluation be used? In what ways might those measures be limited and need expansion to consider the geographical dimensions of the problem?\n",
    "4. Discuss the implications for the processes of regionalization that follow from the number of *connected components* in the spatial weights matrix that would be used.\n",
    "5. True or false: The average silhouette score for a spatially constrained solution will be no larger than the average silhouette score for an unconstrained solution. Why, or why not? (add reference and  or explain silhouette)\n",
    "6. Consider two possible weights matrices for use in a spatially constrained clustering problem. Both form a single connected component for all the areal units. However, they differ in the sparsity of their adjacency graphs (think Rook being more dense than Queen graphs). \n",
    "    a. How might the sparsity of the weights matrix affect the quality of the clustering solution?\n",
    "    b. Using `pysal.lib.weights.higher_order`, construct a second-order adjacency matrix of the weights matrix used in this chapter. \n",
    "    c. Compare the `pct_nonzero` for both matrices. \n",
    "    d. Rerun the analysis from this chapter using this new second-order weights matrix. What changes? \n",
    "7. The idea of spatial dependence, that near things tend to be more related than distant things, is an extensively-studied property of spatial data. How might solutions to clustering and regionalization problems change if dependence is very strong and positive? very weak? very strong and negative? \n",
    "8. In other areas of spatial analysis, multilevel models [1] recognize that sometimes, geographical regions are more similar internally than they are externally. That is, two observations in the same region are probably more similar than two observations in different regions. If this kind of dependence is very strong, what would happen to clustering and regionalization solutions?\n",
    "9. Using a spatial weights object obtained as `w = pysal.lib.weights.lat2W(20,20)`, what are the number of unique ways to partition the graph into 20 clusters of 20 units each, subject to each cluster being a connected component? What are the unique number of possibilities for `w = pysal.lib.weights.lat2W(20,20, rook=False)` ?"
   ]
  }
 ],
 "metadata": {
  "jupytext": {
   "formats": "ipynb,md"
  },
  "kernelspec": {
   "display_name": "Python 3",
   "language": "python",
   "name": "python3"
  }
 },
 "nbformat": 4,
 "nbformat_minor": 5
}
